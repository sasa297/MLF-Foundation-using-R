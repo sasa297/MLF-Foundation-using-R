{
 "cells": [
  {
   "cell_type": "markdown",
   "metadata": {},
   "source": [
    "#### Saikiran N. Pasikanti\n",
    "## Machine Learning Foundation\n",
    "# SVM_Naive Bayes\n",
    "Build Naive Bayes and SVM Model using \"Bank\" dataset provided to you. Perform the following Operations.\n",
    "- a) Read and view data in R\n",
    "- b) Use Appropriate method to find out the Significant variables.\n",
    "- c) Divide the dataset into Development and Validation Samples.\n",
    "- d) Build SVM Model using linear Kernel and check Accuracy using Validation samples.\n",
    "- e) Build SVM Model using Radial Basis Kernel and check Accuracy using Validation samples, tune the model for best Result.\n",
    "- f) Also Use Naive Bayes Algorithm for classification and Compare the results with SVM."
   ]
  },
  {
   "cell_type": "code",
   "execution_count": 1,
   "metadata": {},
   "outputs": [],
   "source": [
    "################  READING THE DATASET                  ######################\n",
    "setwd(\"C:\\\\Users\\\\saikiran\\\\Documents\\\\GitHub\\\\MLF Foundation using R\\\\SVM_Naive Bayes\")          # Set the working directory\n",
    "bank <- read.csv(\"bank.csv\", sep=\";\")                  # Read the data set\n",
    "original <- bank                                       # Back up of Original dataset"
   ]
  },
  {
   "cell_type": "code",
   "execution_count": 2,
   "metadata": {},
   "outputs": [
    {
     "name": "stdout",
     "output_type": "stream",
     "text": [
      "'data.frame':\t4521 obs. of  17 variables:\n",
      " $ age      : int  30 33 35 30 59 35 36 39 41 43 ...\n",
      " $ job      : Factor w/ 12 levels \"admin.\",\"blue-collar\",..: 11 8 5 5 2 5 7 10 3 8 ...\n",
      " $ marital  : Factor w/ 3 levels \"divorced\",\"married\",..: 2 2 3 2 2 3 2 2 2 2 ...\n",
      " $ education: Factor w/ 4 levels \"primary\",\"secondary\",..: 1 2 3 3 2 3 3 2 3 1 ...\n",
      " $ default  : Factor w/ 2 levels \"no\",\"yes\": 1 1 1 1 1 1 1 1 1 1 ...\n",
      " $ balance  : int  1787 4789 1350 1476 0 747 307 147 221 -88 ...\n",
      " $ housing  : Factor w/ 2 levels \"no\",\"yes\": 1 2 2 2 2 1 2 2 2 2 ...\n",
      " $ loan     : Factor w/ 2 levels \"no\",\"yes\": 1 2 1 2 1 1 1 1 1 2 ...\n",
      " $ contact  : Factor w/ 3 levels \"cellular\",\"telephone\",..: 1 1 1 3 3 1 1 1 3 1 ...\n",
      " $ day      : int  19 11 16 3 5 23 14 6 14 17 ...\n",
      " $ month    : Factor w/ 12 levels \"apr\",\"aug\",\"dec\",..: 11 9 1 7 9 4 9 9 9 1 ...\n",
      " $ duration : int  79 220 185 199 226 141 341 151 57 313 ...\n",
      " $ campaign : int  1 1 1 4 1 2 1 2 2 1 ...\n",
      " $ pdays    : int  -1 339 330 -1 -1 176 330 -1 -1 147 ...\n",
      " $ previous : int  0 4 1 0 0 3 2 0 0 2 ...\n",
      " $ poutcome : Factor w/ 4 levels \"failure\",\"other\",..: 4 1 1 4 4 1 2 4 4 1 ...\n",
      " $ y        : Factor w/ 2 levels \"no\",\"yes\": 1 1 1 1 1 1 1 1 1 1 ...\n"
     ]
    }
   ],
   "source": [
    "################  DATA EXPLORATION                     ######################\n",
    "str(bank)                                              # Except age, balance, day, duration, \n",
    "                                                       # campaign, pdays, previous all other\n",
    "                                                       # variables are factors"
   ]
  },
  {
   "cell_type": "code",
   "execution_count": 3,
   "metadata": {},
   "outputs": [
    {
     "data": {
      "text/html": [
       "<ol class=list-inline>\n",
       "\t<li>4521</li>\n",
       "\t<li>17</li>\n",
       "</ol>\n"
      ],
      "text/latex": [
       "\\begin{enumerate*}\n",
       "\\item 4521\n",
       "\\item 17\n",
       "\\end{enumerate*}\n"
      ],
      "text/markdown": [
       "1. 4521\n",
       "2. 17\n",
       "\n",
       "\n"
      ],
      "text/plain": [
       "[1] 4521   17"
      ]
     },
     "metadata": {},
     "output_type": "display_data"
    }
   ],
   "source": [
    "dim(bank)                                              # 4521 obs. of 11 variables"
   ]
  },
  {
   "cell_type": "code",
   "execution_count": 5,
   "metadata": {},
   "outputs": [
    {
     "data": {
      "text/plain": [
       "\n",
       "  no  yes \n",
       "4000  521 "
      ]
     },
     "metadata": {},
     "output_type": "display_data"
    }
   ],
   "source": [
    "table(bank$y)                                             \n",
    "## The given data set is skewed towards to NO"
   ]
  },
  {
   "cell_type": "code",
   "execution_count": 6,
   "metadata": {},
   "outputs": [
    {
     "data": {
      "text/html": [
       "<ol class=list-inline>\n",
       "\t<li>'age'</li>\n",
       "\t<li>'job'</li>\n",
       "\t<li>'marital'</li>\n",
       "\t<li>'education'</li>\n",
       "\t<li>'default'</li>\n",
       "\t<li>'balance'</li>\n",
       "\t<li>'housing'</li>\n",
       "\t<li>'loan'</li>\n",
       "\t<li>'contact'</li>\n",
       "\t<li>'day'</li>\n",
       "\t<li>'month'</li>\n",
       "\t<li>'duration'</li>\n",
       "\t<li>'campaign'</li>\n",
       "\t<li>'pdays'</li>\n",
       "\t<li>'previous'</li>\n",
       "\t<li>'poutcome'</li>\n",
       "\t<li>'y'</li>\n",
       "</ol>\n"
      ],
      "text/latex": [
       "\\begin{enumerate*}\n",
       "\\item 'age'\n",
       "\\item 'job'\n",
       "\\item 'marital'\n",
       "\\item 'education'\n",
       "\\item 'default'\n",
       "\\item 'balance'\n",
       "\\item 'housing'\n",
       "\\item 'loan'\n",
       "\\item 'contact'\n",
       "\\item 'day'\n",
       "\\item 'month'\n",
       "\\item 'duration'\n",
       "\\item 'campaign'\n",
       "\\item 'pdays'\n",
       "\\item 'previous'\n",
       "\\item 'poutcome'\n",
       "\\item 'y'\n",
       "\\end{enumerate*}\n"
      ],
      "text/markdown": [
       "1. 'age'\n",
       "2. 'job'\n",
       "3. 'marital'\n",
       "4. 'education'\n",
       "5. 'default'\n",
       "6. 'balance'\n",
       "7. 'housing'\n",
       "8. 'loan'\n",
       "9. 'contact'\n",
       "10. 'day'\n",
       "11. 'month'\n",
       "12. 'duration'\n",
       "13. 'campaign'\n",
       "14. 'pdays'\n",
       "15. 'previous'\n",
       "16. 'poutcome'\n",
       "17. 'y'\n",
       "\n",
       "\n"
      ],
      "text/plain": [
       " [1] \"age\"       \"job\"       \"marital\"   \"education\" \"default\"   \"balance\"  \n",
       " [7] \"housing\"   \"loan\"      \"contact\"   \"day\"       \"month\"     \"duration\" \n",
       "[13] \"campaign\"  \"pdays\"     \"previous\"  \"poutcome\"  \"y\"        "
      ]
     },
     "metadata": {},
     "output_type": "display_data"
    }
   ],
   "source": [
    "names(bank)                                            # 10 independent variables, 1 outcome"
   ]
  },
  {
   "cell_type": "code",
   "execution_count": 7,
   "metadata": {},
   "outputs": [
    {
     "data": {
      "text/html": [
       "0"
      ],
      "text/latex": [
       "0"
      ],
      "text/markdown": [
       "0"
      ],
      "text/plain": [
       "[1] 0"
      ]
     },
     "metadata": {},
     "output_type": "display_data"
    }
   ],
   "source": [
    "sum(is.na(bank))                                       # No missing values"
   ]
  },
  {
   "cell_type": "code",
   "execution_count": 8,
   "metadata": {},
   "outputs": [
    {
     "data": {
      "text/plain": [
       "      age                 job          marital         education    default   \n",
       " Min.   :19.00   management :969   divorced: 528   primary  : 678   no :4445  \n",
       " 1st Qu.:33.00   blue-collar:946   married :2797   secondary:2306   yes:  76  \n",
       " Median :39.00   technician :768   single  :1196   tertiary :1350             \n",
       " Mean   :41.17   admin.     :478                   unknown  : 187             \n",
       " 3rd Qu.:49.00   services   :417                                              \n",
       " Max.   :87.00   retired    :230                                              \n",
       "                 (Other)    :713                                              \n",
       "    balance      housing     loan           contact          day       \n",
       " Min.   :-3313   no :1962   no :3830   cellular :2896   Min.   : 1.00  \n",
       " 1st Qu.:   69   yes:2559   yes: 691   telephone: 301   1st Qu.: 9.00  \n",
       " Median :  444                         unknown  :1324   Median :16.00  \n",
       " Mean   : 1423                                          Mean   :15.92  \n",
       " 3rd Qu.: 1480                                          3rd Qu.:21.00  \n",
       " Max.   :71188                                          Max.   :31.00  \n",
       "                                                                       \n",
       "     month         duration       campaign          pdays       \n",
       " may    :1398   Min.   :   4   Min.   : 1.000   Min.   : -1.00  \n",
       " jul    : 706   1st Qu.: 104   1st Qu.: 1.000   1st Qu.: -1.00  \n",
       " aug    : 633   Median : 185   Median : 2.000   Median : -1.00  \n",
       " jun    : 531   Mean   : 264   Mean   : 2.794   Mean   : 39.77  \n",
       " nov    : 389   3rd Qu.: 329   3rd Qu.: 3.000   3rd Qu.: -1.00  \n",
       " apr    : 293   Max.   :3025   Max.   :50.000   Max.   :871.00  \n",
       " (Other): 571                                                   \n",
       "    previous          poutcome      y       \n",
       " Min.   : 0.0000   failure: 490   no :4000  \n",
       " 1st Qu.: 0.0000   other  : 197   yes: 521  \n",
       " Median : 0.0000   success: 129             \n",
       " Mean   : 0.5426   unknown:3705             \n",
       " 3rd Qu.: 0.0000                            \n",
       " Max.   :25.0000                            \n",
       "                                            "
      ]
     },
     "metadata": {},
     "output_type": "display_data"
    }
   ],
   "source": [
    "summary(bank)                                          # Basix statistical information\n",
    "## Variable \"education\" has unknown data\n",
    "## As per the variable \"default\" most of them have default loan\n",
    "## Variable \"balance\" is highly skewed towards negative or zero amount\n",
    "## Variable default is highly skewed towards to NO\n",
    "## Variable \"contact\" has unknown data\n",
    "## In May month most calls have taken place\n",
    "## Variable \"pdays\" has negative values\n",
    "## Variable \"previous\" has zero values\n",
    "## Variable \"poutcome\" has unknown and other values\n",
    "## It can be observed that No two variables are highly correlated"
   ]
  },
  {
   "cell_type": "code",
   "execution_count": 11,
   "metadata": {},
   "outputs": [
    {
     "data": {
      "image/png": "[encoded data removed]",
      "text/plain": [
       "Plot with title \"NUM CONTACTS\""
      ]
     },
     "metadata": {},
     "output_type": "display_data"
    }
   ],
   "source": [
    "################  DATA VISUALISATION                     ######################\n",
    "## Continous Variables\n",
    "boxplot(bank$pdays~bank$poutcome, main=\"NUM CONTACTS\",ylab=\"number of contacts\",xlab=\"Subscribed\")"
   ]
  },
  {
   "cell_type": "code",
   "execution_count": 12,
   "metadata": {},
   "outputs": [
    {
     "data": {
      "image/png": "[encoded data removed]",
      "text/plain": [
       "Plot with title \"Histogram of bank$balance\""
      ]
     },
     "metadata": {},
     "output_type": "display_data"
    }
   ],
   "source": [
    "## Categorical Variables\n",
    "hist(bank$balance)"
   ]
  },
  {
   "cell_type": "code",
   "execution_count": 13,
   "metadata": {},
   "outputs": [
    {
     "data": {
      "text/plain": [
       "\n",
       "       admin.   blue-collar  entrepreneur     housemaid    management \n",
       "          478           946           168           112           969 \n",
       "      retired self-employed      services       student    technician \n",
       "          230           183           417            84           768 \n",
       "   unemployed       unknown          <NA> \n",
       "          128            38             0 "
      ]
     },
     "metadata": {},
     "output_type": "display_data"
    },
    {
     "data": {
      "image/png": "[encoded data removed]",
      "text/plain": [
       "plot without title"
      ]
     },
     "metadata": {},
     "output_type": "display_data"
    }
   ],
   "source": [
    "plot(bank$month)\n",
    "\n",
    "table(bank$job , useNA = c(\"always\"))"
   ]
  },
  {
   "cell_type": "code",
   "execution_count": 18,
   "metadata": {},
   "outputs": [
    {
     "data": {
      "text/plain": [
       "\n",
       "Call:\n",
       "C5.0.default(x = bank[-17], y = bank$y, trials = 5)\n",
       "\n",
       "Classification Tree\n",
       "Number of samples: 4521 \n",
       "Number of predictors: 16 \n",
       "\n",
       "Number of boosting iterations: 5 \n",
       "Average tree size: 37.8 \n",
       "\n",
       "Non-standard options: attempt to group attributes\n"
      ]
     },
     "metadata": {},
     "output_type": "display_data"
    }
   ],
   "source": [
    "################  SIGNIFICANT VARIABLES USING C50        ######################\n",
    "## Let's fid out the significant variables using C50 algorithm\n",
    "#install.packages(\"C50\")\n",
    "library(C50)                                             # Load C50 library\n",
    "\n",
    "model <- C5.0(bank[-17], bank$y, trials = 5 )            # Basic C50 model built on the whole data set\n",
    "model"
   ]
  },
  {
   "cell_type": "code",
   "execution_count": 19,
   "metadata": {},
   "outputs": [
    {
     "data": {
      "text/html": [
       "<dl class=dl-horizontal>\n",
       "\t<dt>Requested</dt>\n",
       "\t\t<dd>5</dd>\n",
       "\t<dt>Actual</dt>\n",
       "\t\t<dd>5</dd>\n",
       "</dl>\n"
      ],
      "text/latex": [
       "\\begin{description*}\n",
       "\\item[Requested] 5\n",
       "\\item[Actual] 5\n",
       "\\end{description*}\n"
      ],
      "text/markdown": [
       "Requested\n",
       ":   5Actual\n",
       ":   5\n",
       "\n"
      ],
      "text/plain": [
       "Requested    Actual \n",
       "        5         5 "
      ]
     },
     "metadata": {},
     "output_type": "display_data"
    }
   ],
   "source": [
    "model$trials                                             # Number of trials = 5"
   ]
  },
  {
   "cell_type": "code",
   "execution_count": 20,
   "metadata": {},
   "outputs": [
    {
     "data": {
      "image/png": "[encoded data removed]",
      "text/plain": [
       "Plot with title \"\""
      ]
     },
     "metadata": {},
     "output_type": "display_data"
    }
   ],
   "source": [
    "plot(bank$y, bank$poutcome)"
   ]
  },
  {
   "cell_type": "code",
   "execution_count": 21,
   "metadata": {},
   "outputs": [
    {
     "name": "stderr",
     "output_type": "stream",
     "text": [
      "Loading required package: lattice\n",
      "Loading required package: ggplot2\n",
      "Warning message in (varStart + 1):length(treeDat):\n",
      "\"numerical expression has 2 elements: only the first used\""
     ]
    },
    {
     "data": {
      "text/html": [
       "<table>\n",
       "<thead><tr><th></th><th scope=col>Overall</th></tr></thead>\n",
       "<tbody>\n",
       "\t<tr><th scope=row>duration</th><td>100.00</td></tr>\n",
       "\t<tr><th scope=row>poutcome</th><td>100.00</td></tr>\n",
       "\t<tr><th scope=row>month</th><td> 99.96</td></tr>\n",
       "\t<tr><th scope=row>contact</th><td> 96.55</td></tr>\n",
       "\t<tr><th scope=row>age</th><td> 90.78</td></tr>\n",
       "\t<tr><th scope=row>pdays</th><td> 58.42</td></tr>\n",
       "\t<tr><th scope=row>day</th><td> 50.17</td></tr>\n",
       "\t<tr><th scope=row>previous</th><td> 40.88</td></tr>\n",
       "\t<tr><th scope=row>job</th><td> 39.81</td></tr>\n",
       "\t<tr><th scope=row>default</th><td> 27.69</td></tr>\n",
       "\t<tr><th scope=row>campaign</th><td> 26.76</td></tr>\n",
       "\t<tr><th scope=row>loan</th><td> 24.99</td></tr>\n",
       "\t<tr><th scope=row>balance</th><td> 16.77</td></tr>\n",
       "\t<tr><th scope=row>marital</th><td> 15.95</td></tr>\n",
       "\t<tr><th scope=row>education</th><td> 11.92</td></tr>\n",
       "\t<tr><th scope=row>housing</th><td>  9.69</td></tr>\n",
       "</tbody>\n",
       "</table>\n"
      ],
      "text/latex": [
       "\\begin{tabular}{r|l}\n",
       "  & Overall\\\\\n",
       "\\hline\n",
       "\tduration & 100.00\\\\\n",
       "\tpoutcome & 100.00\\\\\n",
       "\tmonth &  99.96\\\\\n",
       "\tcontact &  96.55\\\\\n",
       "\tage &  90.78\\\\\n",
       "\tpdays &  58.42\\\\\n",
       "\tday &  50.17\\\\\n",
       "\tprevious &  40.88\\\\\n",
       "\tjob &  39.81\\\\\n",
       "\tdefault &  27.69\\\\\n",
       "\tcampaign &  26.76\\\\\n",
       "\tloan &  24.99\\\\\n",
       "\tbalance &  16.77\\\\\n",
       "\tmarital &  15.95\\\\\n",
       "\teducation &  11.92\\\\\n",
       "\thousing &   9.69\\\\\n",
       "\\end{tabular}\n"
      ],
      "text/markdown": [
       "\n",
       "| <!--/--> | Overall | \n",
       "|---|---|---|---|---|---|---|---|---|---|---|---|---|---|---|---|\n",
       "| duration | 100.00 | \n",
       "| poutcome | 100.00 | \n",
       "| month |  99.96 | \n",
       "| contact |  96.55 | \n",
       "| age |  90.78 | \n",
       "| pdays |  58.42 | \n",
       "| day |  50.17 | \n",
       "| previous |  40.88 | \n",
       "| job |  39.81 | \n",
       "| default |  27.69 | \n",
       "| campaign |  26.76 | \n",
       "| loan |  24.99 | \n",
       "| balance |  16.77 | \n",
       "| marital |  15.95 | \n",
       "| education |  11.92 | \n",
       "| housing |   9.69 | \n",
       "\n",
       "\n"
      ],
      "text/plain": [
       "          Overall\n",
       "duration  100.00 \n",
       "poutcome  100.00 \n",
       "month      99.96 \n",
       "contact    96.55 \n",
       "age        90.78 \n",
       "pdays      58.42 \n",
       "day        50.17 \n",
       "previous   40.88 \n",
       "job        39.81 \n",
       "default    27.69 \n",
       "campaign   26.76 \n",
       "loan       24.99 \n",
       "balance    16.77 \n",
       "marital    15.95 \n",
       "education  11.92 \n",
       "housing     9.69 "
      ]
     },
     "metadata": {},
     "output_type": "display_data"
    }
   ],
   "source": [
    "## The list of significant variables as per the above model are as follows:\n",
    "library(caret)\n",
    "\n",
    "varImp(model)                                            # Significance of all variables\n",
    "##  The variables \"duration\", \"poutcome\", \"month\", \"contact\", \"age\" highly significant variables"
   ]
  },
  {
   "cell_type": "code",
   "execution_count": 22,
   "metadata": {},
   "outputs": [
    {
     "data": {
      "text/html": [
       "<ol class=list-inline>\n",
       "\t<li>4521</li>\n",
       "\t<li>14</li>\n",
       "</ol>\n"
      ],
      "text/latex": [
       "\\begin{enumerate*}\n",
       "\\item 4521\n",
       "\\item 14\n",
       "\\end{enumerate*}\n"
      ],
      "text/markdown": [
       "1. 4521\n",
       "2. 14\n",
       "\n",
       "\n"
      ],
      "text/plain": [
       "[1] 4521   14"
      ]
     },
     "metadata": {},
     "output_type": "display_data"
    }
   ],
   "source": [
    "##  Dropping the insignificant variables out of the data set\n",
    "v <- c(\"housing\", \"education\", \"marital\")\n",
    "bank[,v] <- NULL\n",
    "\n",
    "dim(bank)"
   ]
  },
  {
   "cell_type": "code",
   "execution_count": 23,
   "metadata": {},
   "outputs": [
    {
     "name": "stdout",
     "output_type": "stream",
     "text": [
      "'data.frame':\t4521 obs. of  14 variables:\n",
      " $ age     : int  30 33 35 30 59 35 36 39 41 43 ...\n",
      " $ job     : Factor w/ 12 levels \"admin.\",\"blue-collar\",..: 11 8 5 5 2 5 7 10 3 8 ...\n",
      " $ default : Factor w/ 2 levels \"no\",\"yes\": 1 1 1 1 1 1 1 1 1 1 ...\n",
      " $ balance : int  1787 4789 1350 1476 0 747 307 147 221 -88 ...\n",
      " $ loan    : Factor w/ 2 levels \"no\",\"yes\": 1 2 1 2 1 1 1 1 1 2 ...\n",
      " $ contact : Factor w/ 3 levels \"cellular\",\"telephone\",..: 1 1 1 3 3 1 1 1 3 1 ...\n",
      " $ day     : int  19 11 16 3 5 23 14 6 14 17 ...\n",
      " $ month   : Factor w/ 12 levels \"apr\",\"aug\",\"dec\",..: 11 9 1 7 9 4 9 9 9 1 ...\n",
      " $ duration: int  79 220 185 199 226 141 341 151 57 313 ...\n",
      " $ campaign: int  1 1 1 4 1 2 1 2 2 1 ...\n",
      " $ pdays   : int  -1 339 330 -1 -1 176 330 -1 -1 147 ...\n",
      " $ previous: int  0 4 1 0 0 3 2 0 0 2 ...\n",
      " $ poutcome: Factor w/ 4 levels \"failure\",\"other\",..: 4 1 1 4 4 1 2 4 4 1 ...\n",
      " $ y       : Factor w/ 2 levels \"no\",\"yes\": 1 1 1 1 1 1 1 1 1 1 ...\n"
     ]
    }
   ],
   "source": [
    "str(bank)"
   ]
  },
  {
   "cell_type": "code",
   "execution_count": 24,
   "metadata": {},
   "outputs": [
    {
     "data": {
      "text/plain": [
       "\n",
       "  no  yes \n",
       "3000  391 "
      ]
     },
     "metadata": {},
     "output_type": "display_data"
    }
   ],
   "source": [
    "################  DATASET SPLITTING = DEV / VAL           ######################\n",
    "library(caTools)                                          # load required library\n",
    "\n",
    "set.seed(123)                                             # for reproducibility\n",
    "split1 = sample.split(bank$y, SplitRatio = 0.75)\n",
    "\n",
    "b.train = subset(bank, split1 == TRUE)                    # development data set\n",
    "b.test = subset(bank, split1 == FALSE)                    # validation data set\n",
    "\n",
    "table(b.train$y)                                          # Train dat skewed towards NO\n",
    "# no  yes \n",
    "# 3000  391"
   ]
  },
  {
   "cell_type": "code",
   "execution_count": 25,
   "metadata": {},
   "outputs": [
    {
     "data": {
      "text/plain": [
       "\n",
       "Call:\n",
       "svm(formula = y ~ ., data = b.train, kernel = \"linear\")\n",
       "\n",
       "\n",
       "Parameters:\n",
       "   SVM-Type:  C-classification \n",
       " SVM-Kernel:  linear \n",
       "       cost:  1 \n",
       "      gamma:  0.02702703 \n",
       "\n",
       "Number of Support Vectors:  844\n",
       "\n",
       " ( 472 372 )\n",
       "\n",
       "\n",
       "Number of Classes:  2 \n",
       "\n",
       "Levels: \n",
       " no yes\n",
       "\n",
       "\n"
      ]
     },
     "metadata": {},
     "output_type": "display_data"
    }
   ],
   "source": [
    "################  SVM MODEL (With Linear Kernel)          ######################\n",
    "library(e1071)                                            # for svm() function\n",
    "svm1 <- svm( y~., data=b.train, kernel='linear')    # svm model using linear kernel\n",
    "\n",
    "summary(svm1)                                       # "
   ]
  },
  {
   "cell_type": "code",
   "execution_count": 26,
   "metadata": {},
   "outputs": [
    {
     "name": "stdout",
     "output_type": "stream",
     "text": [
      "Confusion Matrix and Statistics\n",
      "\n",
      "          Reference\n",
      "Prediction  no yes\n",
      "       no  986 108\n",
      "       yes  14  22\n",
      "                                          \n",
      "               Accuracy : 0.892           \n",
      "                 95% CI : (0.8725, 0.9095)\n",
      "    No Information Rate : 0.885           \n",
      "    P-Value [Acc > NIR] : 0.2441          \n",
      "                                          \n",
      "                  Kappa : 0.2265          \n",
      " Mcnemar's Test P-Value : <2e-16          \n",
      "                                          \n",
      "            Sensitivity : 0.9860          \n",
      "            Specificity : 0.1692          \n",
      "         Pos Pred Value : 0.9013          \n",
      "         Neg Pred Value : 0.6111          \n",
      "             Prevalence : 0.8850          \n",
      "         Detection Rate : 0.8726          \n",
      "   Detection Prevalence : 0.9681          \n",
      "      Balanced Accuracy : 0.5776          \n",
      "                                          \n",
      "       'Positive' Class : no              \n",
      "                                          \n"
     ]
    }
   ],
   "source": [
    "pred1 <- predict(svm1,b.test)                             # Predicting the data on validation\n",
    "print(confusionMatrix(data = pred1, reference = b.test$y))# Confusion Matrix"
   ]
  },
  {
   "cell_type": "code",
   "execution_count": 27,
   "metadata": {},
   "outputs": [
    {
     "data": {
      "text/plain": [
       "\n",
       "Call:\n",
       "svm(formula = y ~ ., data = b.train, kernel = \"radial\", gamma = 0.1, \n",
       "    cost = 1)\n",
       "\n",
       "\n",
       "Parameters:\n",
       "   SVM-Type:  C-classification \n",
       " SVM-Kernel:  radial \n",
       "       cost:  1 \n",
       "      gamma:  0.1 \n",
       "\n",
       "Number of Support Vectors:  953\n",
       "\n",
       " ( 571 382 )\n",
       "\n",
       "\n",
       "Number of Classes:  2 \n",
       "\n",
       "Levels: \n",
       " no yes\n",
       "\n",
       "\n"
      ]
     },
     "metadata": {},
     "output_type": "display_data"
    }
   ],
   "source": [
    "################  SVM MODEL (With Radial Kernel)          ######################\n",
    "svm2 <- svm(y~., data=b.train, kernel=\"radial\",\n",
    "             gamma=0.1,                                   # Initially very small gamma and cost\n",
    "             cost=1)\n",
    "summary(svm2)"
   ]
  },
  {
   "cell_type": "code",
   "execution_count": 28,
   "metadata": {},
   "outputs": [
    {
     "name": "stdout",
     "output_type": "stream",
     "text": [
      "Confusion Matrix and Statistics\n",
      "\n",
      "          Reference\n",
      "Prediction  no yes\n",
      "       no  982 103\n",
      "       yes  18  27\n",
      "                                          \n",
      "               Accuracy : 0.8929          \n",
      "                 95% CI : (0.8734, 0.9104)\n",
      "    No Information Rate : 0.885           \n",
      "    P-Value [Acc > NIR] : 0.2153          \n",
      "                                          \n",
      "                  Kappa : 0.2651          \n",
      " Mcnemar's Test P-Value : 2.234e-14       \n",
      "                                          \n",
      "            Sensitivity : 0.9820          \n",
      "            Specificity : 0.2077          \n",
      "         Pos Pred Value : 0.9051          \n",
      "         Neg Pred Value : 0.6000          \n",
      "             Prevalence : 0.8850          \n",
      "         Detection Rate : 0.8690          \n",
      "   Detection Prevalence : 0.9602          \n",
      "      Balanced Accuracy : 0.5948          \n",
      "                                          \n",
      "       'Positive' Class : no              \n",
      "                                          \n"
     ]
    }
   ],
   "source": [
    "pred2 <- predict(svm2, b.test)\n",
    "print(confusionMatrix(data = pred2,  reference = b.test$y))"
   ]
  },
  {
   "cell_type": "code",
   "execution_count": 29,
   "metadata": {},
   "outputs": [
    {
     "data": {
      "text/plain": [
       "\n",
       "Call:\n",
       "best.tune(method = svm, train.x = y ~ ., data = b.train, ranges = list(cost = c(0.1, \n",
       "    1, 5, 10, 100), gamma = c(0.01, 0.05, 1, 2, 3, 4)), kernel = \"radial\")\n",
       "\n",
       "\n",
       "Parameters:\n",
       "   SVM-Type:  C-classification \n",
       " SVM-Kernel:  radial \n",
       "       cost:  100 \n",
       "      gamma:  0.01 \n",
       "\n",
       "Number of Support Vectors:  798\n"
      ]
     },
     "metadata": {},
     "output_type": "display_data"
    }
   ],
   "source": [
    "##  Tuning the above svm model for better accuracy\n",
    "svm2.tuned <- tune(svm,  y~.,data=b.train,kernel=\"radial\", ranges=list(cost=c(0.1, 1, 5, 10, 100), gamma=c(0.01,0.05,1,2,3,4)))\n",
    "\n",
    "bestmodel <- svm2.tuned$best.model\n",
    "bestmodel"
   ]
  },
  {
   "cell_type": "code",
   "execution_count": 30,
   "metadata": {},
   "outputs": [
    {
     "name": "stdout",
     "output_type": "stream",
     "text": [
      "Confusion Matrix and Statistics\n",
      "\n",
      "          Reference\n",
      "Prediction  no yes\n",
      "       no  978  93\n",
      "       yes  22  37\n",
      "                                          \n",
      "               Accuracy : 0.8982          \n",
      "                 95% CI : (0.8791, 0.9152)\n",
      "    No Information Rate : 0.885           \n",
      "    P-Value [Acc > NIR] : 0.08651         \n",
      "                                          \n",
      "                  Kappa : 0.3444          \n",
      " Mcnemar's Test P-Value : 6.686e-11       \n",
      "                                          \n",
      "            Sensitivity : 0.9780          \n",
      "            Specificity : 0.2846          \n",
      "         Pos Pred Value : 0.9132          \n",
      "         Neg Pred Value : 0.6271          \n",
      "             Prevalence : 0.8850          \n",
      "         Detection Rate : 0.8655          \n",
      "   Detection Prevalence : 0.9478          \n",
      "      Balanced Accuracy : 0.6313          \n",
      "                                          \n",
      "       'Positive' Class : no              \n",
      "                                          \n"
     ]
    }
   ],
   "source": [
    "pred2.tuned <- predict(bestmodel,b.test)\n",
    "\n",
    "print(confusionMatrix(data = pred2.tuned,  reference = b.test$y))"
   ]
  },
  {
   "cell_type": "code",
   "execution_count": 31,
   "metadata": {},
   "outputs": [
    {
     "data": {
      "text/plain": [
       "\n",
       "Naive Bayes Classifier for Discrete Predictors\n",
       "\n",
       "Call:\n",
       "naiveBayes.default(x = b.test[, -c(14)], y = b.test[, 14])\n",
       "\n",
       "A-priori probabilities:\n",
       "b.test[, 14]\n",
       "       no       yes \n",
       "0.8849558 0.1150442 \n",
       "\n",
       "Conditional probabilities:\n",
       "            age\n",
       "b.test[, 14]     [,1]     [,2]\n",
       "         no  41.51900 10.42143\n",
       "         yes 41.97692 13.81689\n",
       "\n",
       "            job\n",
       "b.test[, 14]     admin. blue-collar entrepreneur  housemaid management\n",
       "         no  0.11100000  0.21300000   0.03700000 0.02200000 0.20300000\n",
       "         yes 0.10000000  0.13846154   0.02307692 0.02307692 0.23076923\n",
       "            job\n",
       "b.test[, 14]    retired self-employed   services    student technician\n",
       "         no  0.04700000    0.03500000 0.10100000 0.01500000 0.17400000\n",
       "         yes 0.10000000    0.03076923 0.07692308 0.05384615 0.16923077\n",
       "            job\n",
       "b.test[, 14] unemployed    unknown\n",
       "         no  0.03400000 0.00800000\n",
       "         yes 0.03076923 0.02307692\n",
       "\n",
       "            default\n",
       "b.test[, 14]         no        yes\n",
       "         no  0.98900000 0.01100000\n",
       "         yes 0.98461538 0.01538462\n",
       "\n",
       "            balance\n",
       "b.test[, 14]     [,1]     [,2]\n",
       "         no  1397.182 2920.604\n",
       "         yes 1391.138 2015.234\n",
       "\n",
       "            loan\n",
       "b.test[, 14]         no        yes\n",
       "         no  0.82400000 0.17600000\n",
       "         yes 0.93846154 0.06153846\n",
       "\n",
       "            contact\n",
       "b.test[, 14]  cellular telephone   unknown\n",
       "         no  0.6300000 0.0690000 0.3010000\n",
       "         yes 0.7846154 0.1000000 0.1153846\n",
       "\n",
       "            day\n",
       "b.test[, 14]     [,1]     [,2]\n",
       "         no  16.11400 8.263249\n",
       "         yes 15.34615 7.871755\n",
       "\n",
       "            month\n",
       "b.test[, 14]        apr        aug        dec        feb        jan        jul\n",
       "         no  0.05900000 0.12900000 0.00400000 0.04800000 0.03100000 0.16600000\n",
       "         yes 0.09230769 0.13846154 0.01538462 0.05384615 0.02307692 0.17692308\n",
       "            month\n",
       "b.test[, 14]        jun        mar        may        nov        oct        sep\n",
       "         no  0.10800000 0.00600000 0.33000000 0.09900000 0.01100000 0.00900000\n",
       "         yes 0.12307692 0.03846154 0.16923077 0.05384615 0.08461538 0.03076923\n",
       "\n",
       "            duration\n",
       "b.test[, 14]     [,1]     [,2]\n",
       "         no  227.2680 204.1544\n",
       "         yes 558.0154 425.9108\n",
       "\n",
       "            campaign\n",
       "b.test[, 14]  [,1]     [,2]\n",
       "         no  2.656 2.695353\n",
       "         yes 2.300 2.187526\n",
       "\n",
       "            pdays\n",
       "b.test[, 14]     [,1]      [,2]\n",
       "         no  33.77700  93.11648\n",
       "         yes 81.24615 148.74650\n",
       "\n",
       "            previous\n",
       "b.test[, 14]     [,1]     [,2]\n",
       "         no  0.445000 1.610456\n",
       "         yes 1.061538 1.841611\n",
       "\n",
       "            poutcome\n",
       "b.test[, 14]    failure      other    success    unknown\n",
       "         no  0.10800000 0.03000000 0.01400000 0.84800000\n",
       "         yes 0.14615385 0.05384615 0.16923077 0.63076923\n"
      ]
     },
     "metadata": {},
     "output_type": "display_data"
    },
    {
     "data": {
      "text/plain": [
       "        Length Class  Mode     \n",
       "apriori  2     table  numeric  \n",
       "tables  13     -none- list     \n",
       "levels   2     -none- character\n",
       "call     3     -none- call     "
      ]
     },
     "metadata": {},
     "output_type": "display_data"
    }
   ],
   "source": [
    "################  NAIVEBAYES MODEL                       ######################\n",
    "nb.model <- naiveBayes(b.test[,-c(14)], b.test[,14])\n",
    "\n",
    "nb.model\n",
    "summary(nb.model)"
   ]
  },
  {
   "cell_type": "code",
   "execution_count": 32,
   "metadata": {},
   "outputs": [
    {
     "name": "stdout",
     "output_type": "stream",
     "text": [
      "Confusion Matrix and Statistics\n",
      "\n",
      "          Reference\n",
      "Prediction  no yes\n",
      "       no  911  63\n",
      "       yes  89  67\n",
      "                                          \n",
      "               Accuracy : 0.8655          \n",
      "                 95% CI : (0.8442, 0.8849)\n",
      "    No Information Rate : 0.885           \n",
      "    P-Value [Acc > NIR] : 0.98031         \n",
      "                                          \n",
      "                  Kappa : 0.3923          \n",
      " Mcnemar's Test P-Value : 0.04258         \n",
      "                                          \n",
      "            Sensitivity : 0.9110          \n",
      "            Specificity : 0.5154          \n",
      "         Pos Pred Value : 0.9353          \n",
      "         Neg Pred Value : 0.4295          \n",
      "             Prevalence : 0.8850          \n",
      "         Detection Rate : 0.8062          \n",
      "   Detection Prevalence : 0.8619          \n",
      "      Balanced Accuracy : 0.7132          \n",
      "                                          \n",
      "       'Positive' Class : no              \n",
      "                                          \n"
     ]
    }
   ],
   "source": [
    "nb.pred <-predict(nb.model, b.test)\n",
    "print(confusionMatrix(data = nb.pred,  reference = b.test$y))"
   ]
  }
 ],
 "metadata": {
  "kernelspec": {
   "display_name": "R",
   "language": "R",
   "name": "ir"
  },
  "language_info": {
   "codemirror_mode": "r",
   "file_extension": ".r",
   "mimetype": "text/x-r-source",
   "name": "R",
   "pygments_lexer": "r",
   "version": "3.4.3"
  }
 },
 "nbformat": 4,
 "nbformat_minor": 2
}
