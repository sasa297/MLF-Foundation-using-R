{
 "cells": [
  {
   "cell_type": "markdown",
   "metadata": {},
   "source": [
    "#### Saikiran N. Pasikanti\n",
    "## Machine Learning Foundation\n",
    "# Loan Approval Prediction\n",
    "- (1) Import the Loan-Approval-Prediction.csv\n",
    "- (2) Use Appropriate Imputation Techniques to Predict Missing Values.\n",
    "- (3) Divide the data into training and testing set in 70:30 ratio.\n",
    "- (4) Draw Information Value Summary plot.\n",
    "- (5) Build the logistic model for checking Loan_Status with important features which we got from IV plot.\n",
    "- (6) Find out the optimum cutoff probability to reduce the missclassification error."
   ]
  },
  {
   "cell_type": "markdown",
   "metadata": {},
   "source": [
    "## (1) DATA"
   ]
  },
  {
   "cell_type": "markdown",
   "metadata": {},
   "source": [
    "Importing MART_data from the folder, the names of the variables as its first line "
   ]
  },
  {
   "cell_type": "code",
   "execution_count": 55,
   "metadata": {},
   "outputs": [],
   "source": [
    "Data1 <- read.csv(\"C:\\\\Users\\\\saikiran\\\\Documents\\\\GitHub\\\\MLF Foundation using R\\\\Loan Approval\\\\Loan-Approval-Prediction.csv\",\n",
    "                  header=T, na.strings = c(\"\",\"NaN\",\" \",NA))"
   ]
  },
  {
   "cell_type": "code",
   "execution_count": 56,
   "metadata": {},
   "outputs": [],
   "source": [
    "Data2 <- Data1              ## Backup of data"
   ]
  },
  {
   "cell_type": "code",
   "execution_count": 57,
   "metadata": {},
   "outputs": [
    {
     "data": {
      "text/html": [
       "<table>\n",
       "<thead><tr><th scope=col>Loan_ID</th><th scope=col>Gender</th><th scope=col>Married</th><th scope=col>Dependents</th><th scope=col>Education</th><th scope=col>Self_Employed</th><th scope=col>ApplicantIncome</th><th scope=col>CoapplicantIncome</th><th scope=col>LoanAmount</th><th scope=col>Loan_Amount_Term</th><th scope=col>Credit_History</th><th scope=col>Property_Area</th><th scope=col>Loan_Status</th></tr></thead>\n",
       "<tbody>\n",
       "\t<tr><td>LP001002    </td><td>Male        </td><td>No          </td><td>0           </td><td>Graduate    </td><td>No          </td><td>5849        </td><td>   0        </td><td> NA         </td><td>360         </td><td>1           </td><td>Urban       </td><td>Y           </td></tr>\n",
       "\t<tr><td>LP001003    </td><td>Male        </td><td>Yes         </td><td>1           </td><td>Graduate    </td><td>No          </td><td>4583        </td><td>1508        </td><td>128         </td><td>360         </td><td>1           </td><td>Rural       </td><td>N           </td></tr>\n",
       "\t<tr><td>LP001005    </td><td>Male        </td><td>Yes         </td><td>0           </td><td>Graduate    </td><td>Yes         </td><td>3000        </td><td>   0        </td><td> 66         </td><td>360         </td><td>1           </td><td>Urban       </td><td>Y           </td></tr>\n",
       "\t<tr><td>LP001006    </td><td>Male        </td><td>Yes         </td><td>0           </td><td>Not Graduate</td><td>No          </td><td>2583        </td><td>2358        </td><td>120         </td><td>360         </td><td>1           </td><td>Urban       </td><td>Y           </td></tr>\n",
       "\t<tr><td>LP001008    </td><td>Male        </td><td>No          </td><td>0           </td><td>Graduate    </td><td>No          </td><td>6000        </td><td>   0        </td><td>141         </td><td>360         </td><td>1           </td><td>Urban       </td><td>Y           </td></tr>\n",
       "\t<tr><td>LP001011    </td><td>Male        </td><td>Yes         </td><td>2           </td><td>Graduate    </td><td>Yes         </td><td>5417        </td><td>4196        </td><td>267         </td><td>360         </td><td>1           </td><td>Urban       </td><td>Y           </td></tr>\n",
       "</tbody>\n",
       "</table>\n"
      ],
      "text/latex": [
       "\\begin{tabular}{r|lllllllllllll}\n",
       " Loan\\_ID & Gender & Married & Dependents & Education & Self\\_Employed & ApplicantIncome & CoapplicantIncome & LoanAmount & Loan\\_Amount\\_Term & Credit\\_History & Property\\_Area & Loan\\_Status\\\\\n",
       "\\hline\n",
       "\t LP001002     & Male         & No           & 0            & Graduate     & No           & 5849         &    0         &  NA          & 360          & 1            & Urban        & Y           \\\\\n",
       "\t LP001003     & Male         & Yes          & 1            & Graduate     & No           & 4583         & 1508         & 128          & 360          & 1            & Rural        & N           \\\\\n",
       "\t LP001005     & Male         & Yes          & 0            & Graduate     & Yes          & 3000         &    0         &  66          & 360          & 1            & Urban        & Y           \\\\\n",
       "\t LP001006     & Male         & Yes          & 0            & Not Graduate & No           & 2583         & 2358         & 120          & 360          & 1            & Urban        & Y           \\\\\n",
       "\t LP001008     & Male         & No           & 0            & Graduate     & No           & 6000         &    0         & 141          & 360          & 1            & Urban        & Y           \\\\\n",
       "\t LP001011     & Male         & Yes          & 2            & Graduate     & Yes          & 5417         & 4196         & 267          & 360          & 1            & Urban        & Y           \\\\\n",
       "\\end{tabular}\n"
      ],
      "text/markdown": [
       "\n",
       "Loan_ID | Gender | Married | Dependents | Education | Self_Employed | ApplicantIncome | CoapplicantIncome | LoanAmount | Loan_Amount_Term | Credit_History | Property_Area | Loan_Status | \n",
       "|---|---|---|---|---|---|\n",
       "| LP001002     | Male         | No           | 0            | Graduate     | No           | 5849         |    0         |  NA          | 360          | 1            | Urban        | Y            | \n",
       "| LP001003     | Male         | Yes          | 1            | Graduate     | No           | 4583         | 1508         | 128          | 360          | 1            | Rural        | N            | \n",
       "| LP001005     | Male         | Yes          | 0            | Graduate     | Yes          | 3000         |    0         |  66          | 360          | 1            | Urban        | Y            | \n",
       "| LP001006     | Male         | Yes          | 0            | Not Graduate | No           | 2583         | 2358         | 120          | 360          | 1            | Urban        | Y            | \n",
       "| LP001008     | Male         | No           | 0            | Graduate     | No           | 6000         |    0         | 141          | 360          | 1            | Urban        | Y            | \n",
       "| LP001011     | Male         | Yes          | 2            | Graduate     | Yes          | 5417         | 4196         | 267          | 360          | 1            | Urban        | Y            | \n",
       "\n",
       "\n"
      ],
      "text/plain": [
       "  Loan_ID  Gender Married Dependents Education    Self_Employed ApplicantIncome\n",
       "1 LP001002 Male   No      0          Graduate     No            5849           \n",
       "2 LP001003 Male   Yes     1          Graduate     No            4583           \n",
       "3 LP001005 Male   Yes     0          Graduate     Yes           3000           \n",
       "4 LP001006 Male   Yes     0          Not Graduate No            2583           \n",
       "5 LP001008 Male   No      0          Graduate     No            6000           \n",
       "6 LP001011 Male   Yes     2          Graduate     Yes           5417           \n",
       "  CoapplicantIncome LoanAmount Loan_Amount_Term Credit_History Property_Area\n",
       "1    0               NA        360              1              Urban        \n",
       "2 1508              128        360              1              Rural        \n",
       "3    0               66        360              1              Urban        \n",
       "4 2358              120        360              1              Urban        \n",
       "5    0              141        360              1              Urban        \n",
       "6 4196              267        360              1              Urban        \n",
       "  Loan_Status\n",
       "1 Y          \n",
       "2 N          \n",
       "3 Y          \n",
       "4 Y          \n",
       "5 Y          \n",
       "6 Y          "
      ]
     },
     "metadata": {},
     "output_type": "display_data"
    }
   ],
   "source": [
    "head(Data1)"
   ]
  },
  {
   "cell_type": "code",
   "execution_count": 58,
   "metadata": {},
   "outputs": [
    {
     "data": {
      "text/html": [
       "<ol class=list-inline>\n",
       "\t<li>614</li>\n",
       "\t<li>13</li>\n",
       "</ol>\n"
      ],
      "text/latex": [
       "\\begin{enumerate*}\n",
       "\\item 614\n",
       "\\item 13\n",
       "\\end{enumerate*}\n"
      ],
      "text/markdown": [
       "1. 614\n",
       "2. 13\n",
       "\n",
       "\n"
      ],
      "text/plain": [
       "[1] 614  13"
      ]
     },
     "metadata": {},
     "output_type": "display_data"
    }
   ],
   "source": [
    "dim(Data1)"
   ]
  },
  {
   "cell_type": "code",
   "execution_count": 59,
   "metadata": {},
   "outputs": [
    {
     "data": {
      "text/plain": [
       "     Loan_ID       Gender    Married    Dependents        Education  \n",
       " LP001002:  1   Female:112   No  :213   0   :345   Graduate    :480  \n",
       " LP001003:  1   Male  :489   Yes :398   1   :102   Not Graduate:134  \n",
       " LP001005:  1   NA's  : 13   NA's:  3   2   :101                     \n",
       " LP001006:  1                           3+  : 51                     \n",
       " LP001008:  1                           NA's: 15                     \n",
       " LP001011:  1                                                        \n",
       " (Other) :608                                                        \n",
       " Self_Employed ApplicantIncome CoapplicantIncome   LoanAmount   \n",
       " No  :500      Min.   :  150   Min.   :    0     Min.   :  9.0  \n",
       " Yes : 82      1st Qu.: 2878   1st Qu.:    0     1st Qu.:100.0  \n",
       " NA's: 32      Median : 3812   Median : 1188     Median :128.0  \n",
       "               Mean   : 5403   Mean   : 1621     Mean   :146.4  \n",
       "               3rd Qu.: 5795   3rd Qu.: 2297     3rd Qu.:168.0  \n",
       "               Max.   :81000   Max.   :41667     Max.   :700.0  \n",
       "                                                 NA's   :22     \n",
       " Loan_Amount_Term Credit_History     Property_Area Loan_Status\n",
       " Min.   : 12      Min.   :0.0000   Rural    :179   N:192      \n",
       " 1st Qu.:360      1st Qu.:1.0000   Semiurban:233   Y:422      \n",
       " Median :360      Median :1.0000   Urban    :202              \n",
       " Mean   :342      Mean   :0.8422                              \n",
       " 3rd Qu.:360      3rd Qu.:1.0000                              \n",
       " Max.   :480      Max.   :1.0000                              \n",
       " NA's   :14       NA's   :50                                  "
      ]
     },
     "metadata": {},
     "output_type": "display_data"
    }
   ],
   "source": [
    "summary(Data1)"
   ]
  },
  {
   "cell_type": "markdown",
   "metadata": {},
   "source": [
    "From Summary it is clear that yes to no ration is 422/199 which is very bad"
   ]
  },
  {
   "cell_type": "code",
   "execution_count": 60,
   "metadata": {},
   "outputs": [
    {
     "name": "stdout",
     "output_type": "stream",
     "text": [
      "'data.frame':\t614 obs. of  13 variables:\n",
      " $ Loan_ID          : Factor w/ 614 levels \"LP001002\",\"LP001003\",..: 1 2 3 4 5 6 7 8 9 10 ...\n",
      " $ Gender           : Factor w/ 2 levels \"Female\",\"Male\": 2 2 2 2 2 2 2 2 2 2 ...\n",
      " $ Married          : Factor w/ 2 levels \"No\",\"Yes\": 1 2 2 2 1 2 2 2 2 2 ...\n",
      " $ Dependents       : Factor w/ 4 levels \"0\",\"1\",\"2\",\"3+\": 1 2 1 1 1 3 1 4 3 2 ...\n",
      " $ Education        : Factor w/ 2 levels \"Graduate\",\"Not Graduate\": 1 1 1 2 1 1 2 1 1 1 ...\n",
      " $ Self_Employed    : Factor w/ 2 levels \"No\",\"Yes\": 1 1 2 1 1 2 1 1 1 1 ...\n",
      " $ ApplicantIncome  : int  5849 4583 3000 2583 6000 5417 2333 3036 4006 12841 ...\n",
      " $ CoapplicantIncome: num  0 1508 0 2358 0 ...\n",
      " $ LoanAmount       : int  NA 128 66 120 141 267 95 158 168 349 ...\n",
      " $ Loan_Amount_Term : int  360 360 360 360 360 360 360 360 360 360 ...\n",
      " $ Credit_History   : int  1 1 1 1 1 1 1 0 1 1 ...\n",
      " $ Property_Area    : Factor w/ 3 levels \"Rural\",\"Semiurban\",..: 3 1 3 3 3 3 3 2 3 2 ...\n",
      " $ Loan_Status      : Factor w/ 2 levels \"N\",\"Y\": 2 1 2 2 2 2 2 1 2 1 ...\n"
     ]
    }
   ],
   "source": [
    "str(Data1)"
   ]
  },
  {
   "cell_type": "markdown",
   "metadata": {},
   "source": [
    "## (2) MISSING VALUES"
   ]
  },
  {
   "cell_type": "code",
   "execution_count": 61,
   "metadata": {},
   "outputs": [
    {
     "data": {
      "text/html": [
       "<table>\n",
       "<thead><tr><th scope=col>Variable</th><th scope=col>NA_count</th></tr></thead>\n",
       "<tbody>\n",
       "\t<tr><td>Credit_History   </td><td>50               </td></tr>\n",
       "\t<tr><td>Self_Employed    </td><td>32               </td></tr>\n",
       "\t<tr><td>LoanAmount       </td><td>22               </td></tr>\n",
       "\t<tr><td>Dependents       </td><td>15               </td></tr>\n",
       "\t<tr><td>Loan_Amount_Term </td><td>14               </td></tr>\n",
       "\t<tr><td>Gender           </td><td>13               </td></tr>\n",
       "\t<tr><td>Married          </td><td> 3               </td></tr>\n",
       "\t<tr><td>Loan_ID          </td><td> 0               </td></tr>\n",
       "\t<tr><td>Education        </td><td> 0               </td></tr>\n",
       "\t<tr><td>ApplicantIncome  </td><td> 0               </td></tr>\n",
       "\t<tr><td>CoapplicantIncome</td><td> 0               </td></tr>\n",
       "\t<tr><td>Property_Area    </td><td> 0               </td></tr>\n",
       "\t<tr><td>Loan_Status      </td><td> 0               </td></tr>\n",
       "</tbody>\n",
       "</table>\n"
      ],
      "text/latex": [
       "\\begin{tabular}{r|ll}\n",
       " Variable & NA\\_count\\\\\n",
       "\\hline\n",
       "\t Credit\\_History    & 50                 \\\\\n",
       "\t Self\\_Employed     & 32                 \\\\\n",
       "\t LoanAmount        & 22               \\\\\n",
       "\t Dependents        & 15               \\\\\n",
       "\t Loan\\_Amount\\_Term  & 14                   \\\\\n",
       "\t Gender            & 13               \\\\\n",
       "\t Married           &  3               \\\\\n",
       "\t Loan\\_ID           &  0                 \\\\\n",
       "\t Education         &  0               \\\\\n",
       "\t ApplicantIncome   &  0               \\\\\n",
       "\t CoapplicantIncome &  0               \\\\\n",
       "\t Property\\_Area     &  0                 \\\\\n",
       "\t Loan\\_Status       &  0                 \\\\\n",
       "\\end{tabular}\n"
      ],
      "text/markdown": [
       "\n",
       "Variable | NA_count | \n",
       "|---|---|---|---|---|---|---|---|---|---|---|---|---|\n",
       "| Credit_History    | 50                | \n",
       "| Self_Employed     | 32                | \n",
       "| LoanAmount        | 22                | \n",
       "| Dependents        | 15                | \n",
       "| Loan_Amount_Term  | 14                | \n",
       "| Gender            | 13                | \n",
       "| Married           |  3                | \n",
       "| Loan_ID           |  0                | \n",
       "| Education         |  0                | \n",
       "| ApplicantIncome   |  0                | \n",
       "| CoapplicantIncome |  0                | \n",
       "| Property_Area     |  0                | \n",
       "| Loan_Status       |  0                | \n",
       "\n",
       "\n"
      ],
      "text/plain": [
       "   Variable          NA_count\n",
       "1  Credit_History    50      \n",
       "2  Self_Employed     32      \n",
       "3  LoanAmount        22      \n",
       "4  Dependents        15      \n",
       "5  Loan_Amount_Term  14      \n",
       "6  Gender            13      \n",
       "7  Married            3      \n",
       "8  Loan_ID            0      \n",
       "9  Education          0      \n",
       "10 ApplicantIncome    0      \n",
       "11 CoapplicantIncome  0      \n",
       "12 Property_Area      0      \n",
       "13 Loan_Status        0      "
      ]
     },
     "metadata": {},
     "output_type": "display_data"
    }
   ],
   "source": [
    "#install.packages(\"car\")\n",
    "library(car)\n",
    "\n",
    "library(dplyr)\n",
    "library(ggplot2)\n",
    "\n",
    "Variable <- colnames(Data1)\n",
    "NA_count <- sapply(Data1, function(x) sum(is.na(x)))\n",
    "miss_summ <- data.frame(Variable,NA_count,row.names = NULL)\n",
    "\n",
    "miss_summ %>% arrange(desc(NA_count))"
   ]
  },
  {
   "cell_type": "code",
   "execution_count": 62,
   "metadata": {},
   "outputs": [
    {
     "data": {
      "text/html": [
       "<table>\n",
       "<thead><tr><th scope=col>Education</th><th scope=col>Self_Employed</th><th scope=col>GroupMedian</th></tr></thead>\n",
       "<tbody>\n",
       "\t<tr><td>Graduate    </td><td>No          </td><td>149.7246    </td></tr>\n",
       "\t<tr><td>Graduate    </td><td>Yes         </td><td>182.2419    </td></tr>\n",
       "\t<tr><td>Not Graduate</td><td>No          </td><td>115.9000    </td></tr>\n",
       "\t<tr><td>Not Graduate</td><td>Yes         </td><td>134.6471    </td></tr>\n",
       "</tbody>\n",
       "</table>\n"
      ],
      "text/latex": [
       "\\begin{tabular}{r|lll}\n",
       " Education & Self\\_Employed & GroupMedian\\\\\n",
       "\\hline\n",
       "\t Graduate     & No           & 149.7246    \\\\\n",
       "\t Graduate     & Yes          & 182.2419    \\\\\n",
       "\t Not Graduate & No           & 115.9000    \\\\\n",
       "\t Not Graduate & Yes          & 134.6471    \\\\\n",
       "\\end{tabular}\n"
      ],
      "text/markdown": [
       "\n",
       "Education | Self_Employed | GroupMedian | \n",
       "|---|---|---|---|\n",
       "| Graduate     | No           | 149.7246     | \n",
       "| Graduate     | Yes          | 182.2419     | \n",
       "| Not Graduate | No           | 115.9000     | \n",
       "| Not Graduate | Yes          | 134.6471     | \n",
       "\n",
       "\n"
      ],
      "text/plain": [
       "  Education    Self_Employed GroupMedian\n",
       "1 Graduate     No            149.7246   \n",
       "2 Graduate     Yes           182.2419   \n",
       "3 Not Graduate No            115.9000   \n",
       "4 Not Graduate Yes           134.6471   "
      ]
     },
     "metadata": {},
     "output_type": "display_data"
    }
   ],
   "source": [
    "#Treatment of missing values\n",
    "Data1$Self_Employed[is.na(Data1$Self_Employed)] = as.factor(\"No\")\n",
    "\n",
    "#Treatment of missing values in Loan Amount Term\n",
    "Data1$Loan_Amount_Term[is.na(Data1$Loan_Amount_Term)] = 360\n",
    "\n",
    "Data1 %>%\n",
    "        group_by(Education,Self_Employed) %>%\n",
    "                                            summarise(GroupMedian = mean(LoanAmount,na.rm = TRUE))"
   ]
  },
  {
   "cell_type": "code",
   "execution_count": 63,
   "metadata": {},
   "outputs": [
    {
     "name": "stdout",
     "output_type": "stream",
     "text": [
      "     [,1]\n",
      "[1,]    9\n",
      "[2,]  100\n",
      "[3,]  128\n",
      "[4,]  168\n",
      "[5,]  267\n",
      "attr(,\"class\")\n",
      "        1 \n",
      "\"integer\" \n"
     ]
    },
    {
     "data": {
      "image/png": "[encoded data removed]",
      "text/plain": [
       "plot without title"
      ]
     },
     "metadata": {},
     "output_type": "display_data"
    }
   ],
   "source": [
    "# Imputing missing loan amount using sub categories\n",
    "print(boxplot(Data1$LoanAmount)$stats)\n",
    "\n",
    "ind <- which(is.na(Data1$LoanAmount))\n",
    "\n",
    "Data1[ind,]$LoanAmount[Data1[ind,]$Education == \"Graduate\" & Data1[ind,]$Self_Employed == \"No\"] <- 145.82\n",
    "Data1[ind,]$LoanAmount[Data1[ind,]$Education == \"Graduate\" & Data1[ind,]$Self_Employed == \"Yes\"] <- 174.24\n",
    "Data1[ind,]$LoanAmount[Data1[ind,]$Education == \"Not Graduate\" & Data1[ind,]$Self_Employed == \"No\"] <- 116.7\n",
    "Data1[ind,]$LoanAmount[Data1[ind,]$Education == \"Not Graduate\" & Data1[ind,]$Self_Employed == \"Yes\"] <- 131.56"
   ]
  },
  {
   "cell_type": "code",
   "execution_count": 64,
   "metadata": {},
   "outputs": [],
   "source": [
    "# Credit History is a high impact variable\n",
    "Data1$Credit_History = as.character(Data1$Credit_History)\n",
    "Data1$Credit_History[is.na(Data1$Credit_History)] = \"Not Available\"\n",
    "Data1$Credit_History = as.factor(Data1$Credit_History)\n",
    "\n",
    "# Married Missing Values\n",
    "Data1$Married[is.na(Data1$Married)] = as.factor(\"Yes\")\n",
    "\n",
    "# Gender Missing Values\n",
    "Data1$Gender[is.na(Data1$Gender)] = as.factor(\"Male\")\n",
    "\n",
    "# Dependents Missing Values\n",
    "Data1$Dependents[is.na(Data1$Dependents)] = as.factor(\"0\")"
   ]
  },
  {
   "cell_type": "markdown",
   "metadata": {},
   "source": [
    "## (3) Feature Engineering"
   ]
  },
  {
   "cell_type": "code",
   "execution_count": 65,
   "metadata": {},
   "outputs": [],
   "source": [
    "Data1$TotalIncome <- log(Data1$ApplicantIncome + Data1$CoapplicantIncome)\n",
    "\n",
    "Data1$TotalIncomeLoanRatio <- log(((Data1$ApplicantIncome + Data1$CoapplicantIncome)/Data1$LoanAmount)*(as.numeric(Data1$Loan_Amount_Term)/360))\n",
    "\n",
    "Data1$LoanAmount <- log(Data1$LoanAmount)\n",
    "\n",
    "Data1 <- Data1[,!(names(Data1)) %in% c(\"ApplicantIncome\",\"CoapplicantIncome\")]"
   ]
  },
  {
   "cell_type": "code",
   "execution_count": 66,
   "metadata": {},
   "outputs": [
    {
     "data": {
      "text/html": [
       "<table>\n",
       "<thead><tr><th></th><th scope=col>vars</th><th scope=col>n</th><th scope=col>mean</th><th scope=col>sd</th><th scope=col>median</th><th scope=col>trimmed</th><th scope=col>mad</th><th scope=col>min</th><th scope=col>max</th><th scope=col>range</th><th scope=col>skew</th><th scope=col>kurtosis</th><th scope=col>se</th></tr></thead>\n",
       "<tbody>\n",
       "\t<tr><th scope=row>Loan_ID*</th><td> 1         </td><td>614        </td><td>307.500000 </td><td>177.3908115</td><td>307.500000 </td><td>307.500000 </td><td>227.5791000</td><td> 1.0000000 </td><td>614.00000  </td><td>613.000000 </td><td> 0.00000000</td><td>-1.2058648 </td><td>7.15891053 </td></tr>\n",
       "\t<tr><th scope=row>Gender*</th><td> 2         </td><td>614        </td><td>  1.817590 </td><td>  0.3864973</td><td>  2.000000 </td><td>  1.896341 </td><td>  0.0000000</td><td> 1.0000000 </td><td>  2.00000  </td><td>  1.000000 </td><td>-1.64074803</td><td> 0.6931910 </td><td>0.01559776 </td></tr>\n",
       "\t<tr><th scope=row>Married*</th><td> 3         </td><td>614        </td><td>  1.653094 </td><td>  0.4763735</td><td>  2.000000 </td><td>  1.691057 </td><td>  0.0000000</td><td> 1.0000000 </td><td>  2.00000  </td><td>  1.000000 </td><td>-0.64170292</td><td>-1.5908003 </td><td>0.01922487 </td></tr>\n",
       "\t<tr><th scope=row>Dependents*</th><td> 4         </td><td>614        </td><td>  1.744300 </td><td>  1.0096234</td><td>  1.000000 </td><td>  1.577236 </td><td>  0.0000000</td><td> 1.0000000 </td><td>  4.00000  </td><td>  3.000000 </td><td> 1.01059440</td><td>-0.3629205 </td><td>0.04074508 </td></tr>\n",
       "\t<tr><th scope=row>Education*</th><td> 5         </td><td>614        </td><td>  1.218241 </td><td>  0.4133887</td><td>  1.000000 </td><td>  1.148374 </td><td>  0.0000000</td><td> 1.0000000 </td><td>  2.00000  </td><td>  1.000000 </td><td> 1.36094707</td><td>-0.1480562 </td><td>0.01668301 </td></tr>\n",
       "\t<tr><th scope=row>Self_Employed*</th><td> 6         </td><td>614        </td><td>  1.133550 </td><td>  0.3404461</td><td>  1.000000 </td><td>  1.042683 </td><td>  0.0000000</td><td> 1.0000000 </td><td>  2.00000  </td><td>  1.000000 </td><td> 2.14925490</td><td> 2.6235775 </td><td>0.01373929 </td></tr>\n",
       "\t<tr><th scope=row>LoanAmount</th><td> 7         </td><td>614        </td><td>  4.860251 </td><td>  0.4968571</td><td>  4.852030 </td><td>  4.860022 </td><td>  0.3659948</td><td> 2.1972246 </td><td>  6.55108  </td><td>  4.353856 </td><td>-0.21014483</td><td> 2.7330695 </td><td>0.02005152 </td></tr>\n",
       "\t<tr><th scope=row>Loan_Amount_Term</th><td> 8         </td><td>614        </td><td>342.410423 </td><td> 64.4286291</td><td>360.000000 </td><td>358.536585 </td><td>  0.0000000</td><td>12.0000000 </td><td>480.00000  </td><td>468.000000 </td><td>-2.39038829</td><td> 6.8268854 </td><td>2.60012786 </td></tr>\n",
       "\t<tr><th scope=row>Credit_History*</th><td> 9         </td><td>614        </td><td>  1.936482 </td><td>  0.4719243</td><td>  2.000000 </td><td>  1.943089 </td><td>  0.0000000</td><td> 1.0000000 </td><td>  3.00000  </td><td>  2.000000 </td><td>-0.19877607</td><td> 1.3482601 </td><td>0.01904532 </td></tr>\n",
       "\t<tr><th scope=row>Property_Area*</th><td>10         </td><td>614        </td><td>  2.037459 </td><td>  0.7874820</td><td>  2.000000 </td><td>  2.046748 </td><td>  1.4826000</td><td> 1.0000000 </td><td>  3.00000  </td><td>  2.000000 </td><td>-0.06587306</td><td>-1.3874327 </td><td>0.03178019 </td></tr>\n",
       "\t<tr><th scope=row>Loan_Status*</th><td>11         </td><td>614        </td><td>  1.687296 </td><td>  0.4639727</td><td>  2.000000 </td><td>  1.733740 </td><td>  0.0000000</td><td> 1.0000000 </td><td>  2.00000  </td><td>  1.000000 </td><td>-0.80604475</td><td>-1.3524867 </td><td>0.01872441 </td></tr>\n",
       "\t<tr><th scope=row>TotalIncome</th><td>12         </td><td>614        </td><td>  8.669414 </td><td>  0.5451015</td><td>  8.597205 </td><td>  8.625205 </td><td>  0.4373572</td><td> 7.2737863 </td><td> 11.30220  </td><td>  4.028418 </td><td> 1.07144730</td><td> 2.3834569 </td><td>0.02199851 </td></tr>\n",
       "\t<tr><th scope=row>TotalIncomeLoanRatio</th><td>13         </td><td>614        </td><td>  3.726293 </td><td>  0.4972414</td><td>  3.693933 </td><td>  3.714325 </td><td>  0.2733270</td><td> 0.8090647 </td><td>  5.98234  </td><td>  5.173275 </td><td> 0.01179012</td><td> 7.5737689 </td><td>0.02006703 </td></tr>\n",
       "</tbody>\n",
       "</table>\n"
      ],
      "text/latex": [
       "\\begin{tabular}{r|lllllllllllll}\n",
       "  & vars & n & mean & sd & median & trimmed & mad & min & max & range & skew & kurtosis & se\\\\\n",
       "\\hline\n",
       "\tLoan\\_ID* &  1          & 614         & 307.500000  & 177.3908115 & 307.500000  & 307.500000  & 227.5791000 &  1.0000000  & 614.00000   & 613.000000  &  0.00000000 & -1.2058648  & 7.15891053 \\\\\n",
       "\tGender* &  2          & 614         &   1.817590  &   0.3864973 &   2.000000  &   1.896341  &   0.0000000 &  1.0000000  &   2.00000   &   1.000000  & -1.64074803 &  0.6931910  & 0.01559776 \\\\\n",
       "\tMarried* &  3          & 614         &   1.653094  &   0.4763735 &   2.000000  &   1.691057  &   0.0000000 &  1.0000000  &   2.00000   &   1.000000  & -0.64170292 & -1.5908003  & 0.01922487 \\\\\n",
       "\tDependents* &  4          & 614         &   1.744300  &   1.0096234 &   1.000000  &   1.577236  &   0.0000000 &  1.0000000  &   4.00000   &   3.000000  &  1.01059440 & -0.3629205  & 0.04074508 \\\\\n",
       "\tEducation* &  5          & 614         &   1.218241  &   0.4133887 &   1.000000  &   1.148374  &   0.0000000 &  1.0000000  &   2.00000   &   1.000000  &  1.36094707 & -0.1480562  & 0.01668301 \\\\\n",
       "\tSelf\\_Employed* &  6          & 614         &   1.133550  &   0.3404461 &   1.000000  &   1.042683  &   0.0000000 &  1.0000000  &   2.00000   &   1.000000  &  2.14925490 &  2.6235775  & 0.01373929 \\\\\n",
       "\tLoanAmount &  7          & 614         &   4.860251  &   0.4968571 &   4.852030  &   4.860022  &   0.3659948 &  2.1972246  &   6.55108   &   4.353856  & -0.21014483 &  2.7330695  & 0.02005152 \\\\\n",
       "\tLoan\\_Amount\\_Term &  8          & 614         & 342.410423  &  64.4286291 & 360.000000  & 358.536585  &   0.0000000 & 12.0000000  & 480.00000   & 468.000000  & -2.39038829 &  6.8268854  & 2.60012786 \\\\\n",
       "\tCredit\\_History* &  9          & 614         &   1.936482  &   0.4719243 &   2.000000  &   1.943089  &   0.0000000 &  1.0000000  &   3.00000   &   2.000000  & -0.19877607 &  1.3482601  & 0.01904532 \\\\\n",
       "\tProperty\\_Area* & 10          & 614         &   2.037459  &   0.7874820 &   2.000000  &   2.046748  &   1.4826000 &  1.0000000  &   3.00000   &   2.000000  & -0.06587306 & -1.3874327  & 0.03178019 \\\\\n",
       "\tLoan\\_Status* & 11          & 614         &   1.687296  &   0.4639727 &   2.000000  &   1.733740  &   0.0000000 &  1.0000000  &   2.00000   &   1.000000  & -0.80604475 & -1.3524867  & 0.01872441 \\\\\n",
       "\tTotalIncome & 12          & 614         &   8.669414  &   0.5451015 &   8.597205  &   8.625205  &   0.4373572 &  7.2737863  &  11.30220   &   4.028418  &  1.07144730 &  2.3834569  & 0.02199851 \\\\\n",
       "\tTotalIncomeLoanRatio & 13          & 614         &   3.726293  &   0.4972414 &   3.693933  &   3.714325  &   0.2733270 &  0.8090647  &   5.98234   &   5.173275  &  0.01179012 &  7.5737689  & 0.02006703 \\\\\n",
       "\\end{tabular}\n"
      ],
      "text/markdown": [
       "\n",
       "| <!--/--> | vars | n | mean | sd | median | trimmed | mad | min | max | range | skew | kurtosis | se | \n",
       "|---|---|---|---|---|---|---|---|---|---|---|---|---|\n",
       "| Loan_ID* |  1          | 614         | 307.500000  | 177.3908115 | 307.500000  | 307.500000  | 227.5791000 |  1.0000000  | 614.00000   | 613.000000  |  0.00000000 | -1.2058648  | 7.15891053  | \n",
       "| Gender* |  2          | 614         |   1.817590  |   0.3864973 |   2.000000  |   1.896341  |   0.0000000 |  1.0000000  |   2.00000   |   1.000000  | -1.64074803 |  0.6931910  | 0.01559776  | \n",
       "| Married* |  3          | 614         |   1.653094  |   0.4763735 |   2.000000  |   1.691057  |   0.0000000 |  1.0000000  |   2.00000   |   1.000000  | -0.64170292 | -1.5908003  | 0.01922487  | \n",
       "| Dependents* |  4          | 614         |   1.744300  |   1.0096234 |   1.000000  |   1.577236  |   0.0000000 |  1.0000000  |   4.00000   |   3.000000  |  1.01059440 | -0.3629205  | 0.04074508  | \n",
       "| Education* |  5          | 614         |   1.218241  |   0.4133887 |   1.000000  |   1.148374  |   0.0000000 |  1.0000000  |   2.00000   |   1.000000  |  1.36094707 | -0.1480562  | 0.01668301  | \n",
       "| Self_Employed* |  6          | 614         |   1.133550  |   0.3404461 |   1.000000  |   1.042683  |   0.0000000 |  1.0000000  |   2.00000   |   1.000000  |  2.14925490 |  2.6235775  | 0.01373929  | \n",
       "| LoanAmount |  7          | 614         |   4.860251  |   0.4968571 |   4.852030  |   4.860022  |   0.3659948 |  2.1972246  |   6.55108   |   4.353856  | -0.21014483 |  2.7330695  | 0.02005152  | \n",
       "| Loan_Amount_Term |  8          | 614         | 342.410423  |  64.4286291 | 360.000000  | 358.536585  |   0.0000000 | 12.0000000  | 480.00000   | 468.000000  | -2.39038829 |  6.8268854  | 2.60012786  | \n",
       "| Credit_History* |  9          | 614         |   1.936482  |   0.4719243 |   2.000000  |   1.943089  |   0.0000000 |  1.0000000  |   3.00000   |   2.000000  | -0.19877607 |  1.3482601  | 0.01904532  | \n",
       "| Property_Area* | 10          | 614         |   2.037459  |   0.7874820 |   2.000000  |   2.046748  |   1.4826000 |  1.0000000  |   3.00000   |   2.000000  | -0.06587306 | -1.3874327  | 0.03178019  | \n",
       "| Loan_Status* | 11          | 614         |   1.687296  |   0.4639727 |   2.000000  |   1.733740  |   0.0000000 |  1.0000000  |   2.00000   |   1.000000  | -0.80604475 | -1.3524867  | 0.01872441  | \n",
       "| TotalIncome | 12          | 614         |   8.669414  |   0.5451015 |   8.597205  |   8.625205  |   0.4373572 |  7.2737863  |  11.30220   |   4.028418  |  1.07144730 |  2.3834569  | 0.02199851  | \n",
       "| TotalIncomeLoanRatio | 13          | 614         |   3.726293  |   0.4972414 |   3.693933  |   3.714325  |   0.2733270 |  0.8090647  |   5.98234   |   5.173275  |  0.01179012 |  7.5737689  | 0.02006703  | \n",
       "\n",
       "\n"
      ],
      "text/plain": [
       "                     vars n   mean       sd          median     trimmed   \n",
       "Loan_ID*              1   614 307.500000 177.3908115 307.500000 307.500000\n",
       "Gender*               2   614   1.817590   0.3864973   2.000000   1.896341\n",
       "Married*              3   614   1.653094   0.4763735   2.000000   1.691057\n",
       "Dependents*           4   614   1.744300   1.0096234   1.000000   1.577236\n",
       "Education*            5   614   1.218241   0.4133887   1.000000   1.148374\n",
       "Self_Employed*        6   614   1.133550   0.3404461   1.000000   1.042683\n",
       "LoanAmount            7   614   4.860251   0.4968571   4.852030   4.860022\n",
       "Loan_Amount_Term      8   614 342.410423  64.4286291 360.000000 358.536585\n",
       "Credit_History*       9   614   1.936482   0.4719243   2.000000   1.943089\n",
       "Property_Area*       10   614   2.037459   0.7874820   2.000000   2.046748\n",
       "Loan_Status*         11   614   1.687296   0.4639727   2.000000   1.733740\n",
       "TotalIncome          12   614   8.669414   0.5451015   8.597205   8.625205\n",
       "TotalIncomeLoanRatio 13   614   3.726293   0.4972414   3.693933   3.714325\n",
       "                     mad         min        max       range      skew       \n",
       "Loan_ID*             227.5791000  1.0000000 614.00000 613.000000  0.00000000\n",
       "Gender*                0.0000000  1.0000000   2.00000   1.000000 -1.64074803\n",
       "Married*               0.0000000  1.0000000   2.00000   1.000000 -0.64170292\n",
       "Dependents*            0.0000000  1.0000000   4.00000   3.000000  1.01059440\n",
       "Education*             0.0000000  1.0000000   2.00000   1.000000  1.36094707\n",
       "Self_Employed*         0.0000000  1.0000000   2.00000   1.000000  2.14925490\n",
       "LoanAmount             0.3659948  2.1972246   6.55108   4.353856 -0.21014483\n",
       "Loan_Amount_Term       0.0000000 12.0000000 480.00000 468.000000 -2.39038829\n",
       "Credit_History*        0.0000000  1.0000000   3.00000   2.000000 -0.19877607\n",
       "Property_Area*         1.4826000  1.0000000   3.00000   2.000000 -0.06587306\n",
       "Loan_Status*           0.0000000  1.0000000   2.00000   1.000000 -0.80604475\n",
       "TotalIncome            0.4373572  7.2737863  11.30220   4.028418  1.07144730\n",
       "TotalIncomeLoanRatio   0.2733270  0.8090647   5.98234   5.173275  0.01179012\n",
       "                     kurtosis   se        \n",
       "Loan_ID*             -1.2058648 7.15891053\n",
       "Gender*               0.6931910 0.01559776\n",
       "Married*             -1.5908003 0.01922487\n",
       "Dependents*          -0.3629205 0.04074508\n",
       "Education*           -0.1480562 0.01668301\n",
       "Self_Employed*        2.6235775 0.01373929\n",
       "LoanAmount            2.7330695 0.02005152\n",
       "Loan_Amount_Term      6.8268854 2.60012786\n",
       "Credit_History*       1.3482601 0.01904532\n",
       "Property_Area*       -1.3874327 0.03178019\n",
       "Loan_Status*         -1.3524867 0.01872441\n",
       "TotalIncome           2.3834569 0.02199851\n",
       "TotalIncomeLoanRatio  7.5737689 0.02006703"
      ]
     },
     "metadata": {},
     "output_type": "display_data"
    }
   ],
   "source": [
    "############### IMPUTATION TECHNIQUES #############\n",
    "# Data Cleaning\n",
    "# step1 = make ID character(remove factor class)\n",
    "library(psych)\n",
    "\n",
    "describe(Data1)"
   ]
  },
  {
   "cell_type": "code",
   "execution_count": 67,
   "metadata": {},
   "outputs": [
    {
     "data": {
      "text/html": [
       "'factor'"
      ],
      "text/latex": [
       "'factor'"
      ],
      "text/markdown": [
       "'factor'"
      ],
      "text/plain": [
       "[1] \"factor\""
      ]
     },
     "metadata": {},
     "output_type": "display_data"
    }
   ],
   "source": [
    "class(Data1$Loan_ID)\n",
    "\n",
    "Data1$Loan_ID <-as.character(Data1$Loan_ID)"
   ]
  },
  {
   "cell_type": "code",
   "execution_count": 68,
   "metadata": {},
   "outputs": [
    {
     "data": {
      "text/html": [
       "'character'"
      ],
      "text/latex": [
       "'character'"
      ],
      "text/markdown": [
       "'character'"
      ],
      "text/plain": [
       "[1] \"character\""
      ]
     },
     "metadata": {},
     "output_type": "display_data"
    }
   ],
   "source": [
    "class(Data1$Loan_ID)"
   ]
  },
  {
   "cell_type": "code",
   "execution_count": 69,
   "metadata": {},
   "outputs": [],
   "source": [
    "#step2=gender missing values\n",
    "levels(Data1$Gender)[1] <- \"other\""
   ]
  },
  {
   "cell_type": "code",
   "execution_count": 73,
   "metadata": {},
   "outputs": [
    {
     "data": {
      "text/html": [
       "0"
      ],
      "text/latex": [
       "0"
      ],
      "text/markdown": [
       "0"
      ],
      "text/plain": [
       "[1] 0"
      ]
     },
     "metadata": {},
     "output_type": "display_data"
    }
   ],
   "source": [
    "#step3\n",
    "Data1$LoanAmount[is.na(Data1$LoanAmount)] <- median(Data1$LoanAmount,na.rm=T)\n",
    "sum(is.na(Data1$LoanAmount))"
   ]
  },
  {
   "cell_type": "code",
   "execution_count": 74,
   "metadata": {},
   "outputs": [
    {
     "ename": "ERROR",
     "evalue": "Error in rm(Dat1$LoanAmount(which(Data1$LoanAmount > 600))): ... must contain names or character strings\n",
     "output_type": "error",
     "traceback": [
      "Error in rm(Dat1$LoanAmount(which(Data1$LoanAmount > 600))): ... must contain names or character strings\nTraceback:\n",
      "1. rm(Dat1$LoanAmount(which(Data1$LoanAmount > 600)))",
      "2. stop(\"... must contain names or character strings\")"
     ]
    }
   ],
   "source": [
    "rm(Dat1$LoanAmount(which(Data1$LoanAmount > 600)))"
   ]
  },
  {
   "cell_type": "code",
   "execution_count": 75,
   "metadata": {},
   "outputs": [
    {
     "data": {
      "text/plain": [
       "   Loan_ID            Gender    Married   Dependents        Education  \n",
       " Length:614         other:112   No :213   0 :360     Graduate    :480  \n",
       " Class :character   Male :502   Yes:401   1 :102     Not Graduate:134  \n",
       " Mode  :character                         2 :101                       \n",
       "                                          3+: 51                       \n",
       "                                                                       \n",
       "                                                                       \n",
       " Self_Employed   LoanAmount    Loan_Amount_Term       Credit_History\n",
       " No :532       Min.   :2.197   Min.   : 12.0    0            : 89   \n",
       " Yes: 82       1st Qu.:4.608   1st Qu.:360.0    1            :475   \n",
       "               Median :4.852   Median :360.0    Not Available: 50   \n",
       "               Mean   :4.860   Mean   :342.4                        \n",
       "               3rd Qu.:5.110   3rd Qu.:360.0                        \n",
       "               Max.   :6.551   Max.   :480.0                        \n",
       "   Property_Area Loan_Status  TotalIncome     TotalIncomeLoanRatio\n",
       " Rural    :179   N:192       Min.   : 7.274   Min.   :0.8091      \n",
       " Semiurban:233   Y:422       1st Qu.: 8.335   1st Qu.:3.5250      \n",
       " Urban    :202               Median : 8.597   Median :3.6939      \n",
       "                             Mean   : 8.669   Mean   :3.7263      \n",
       "                             3rd Qu.: 8.926   3rd Qu.:3.9116      \n",
       "                             Max.   :11.302   Max.   :5.9823      "
      ]
     },
     "metadata": {},
     "output_type": "display_data"
    }
   ],
   "source": [
    "summary(Data1)"
   ]
  },
  {
   "cell_type": "code",
   "execution_count": 76,
   "metadata": {},
   "outputs": [
    {
     "data": {
      "text/html": [
       "<ol class=list-inline>\n",
       "\t<li>2.83321334405622</li>\n",
       "\t<li>3.55534806148941</li>\n",
       "\t<li>3.78418963391826</li>\n",
       "\t<li>3.2188758248682</li>\n",
       "\t<li>3.78418963391826</li>\n",
       "\t<li>5.91350300563827</li>\n",
       "\t<li>6.47697236288968</li>\n",
       "\t<li>3.2188758248682</li>\n",
       "\t<li>3.40119738166216</li>\n",
       "\t<li>6.39692965521615</li>\n",
       "\t<li>6.5510803350434</li>\n",
       "\t<li>6.20455776256869</li>\n",
       "\t<li>3.73766961828337</li>\n",
       "\t<li>3.40119738166216</li>\n",
       "\t<li>6.07764224334903</li>\n",
       "\t<li>6.17378610390194</li>\n",
       "\t<li>5.92958914338989</li>\n",
       "\t<li>6.19440539110467</li>\n",
       "\t<li>3.8286413964891</li>\n",
       "\t<li>6.3456363608286</li>\n",
       "\t<li>5.94017125272043</li>\n",
       "\t<li>3.80666248977032</li>\n",
       "\t<li>5.88610403145016</li>\n",
       "\t<li>6.00388706710654</li>\n",
       "\t<li>6.21460809842219</li>\n",
       "\t<li>6.17378610390194</li>\n",
       "\t<li>3.68887945411394</li>\n",
       "\t<li>3.80666248977032</li>\n",
       "\t<li>6.17378610390194</li>\n",
       "\t<li>5.99146454710798</li>\n",
       "\t<li>3.25809653802148</li>\n",
       "\t<li>6.39692965521615</li>\n",
       "\t<li>2.19722457733622</li>\n",
       "\t<li>3.58351893845611</li>\n",
       "\t<li>6.20657592672493</li>\n",
       "\t<li>3.68887945411394</li>\n",
       "</ol>\n"
      ],
      "text/latex": [
       "\\begin{enumerate*}\n",
       "\\item 2.83321334405622\n",
       "\\item 3.55534806148941\n",
       "\\item 3.78418963391826\n",
       "\\item 3.2188758248682\n",
       "\\item 3.78418963391826\n",
       "\\item 5.91350300563827\n",
       "\\item 6.47697236288968\n",
       "\\item 3.2188758248682\n",
       "\\item 3.40119738166216\n",
       "\\item 6.39692965521615\n",
       "\\item 6.5510803350434\n",
       "\\item 6.20455776256869\n",
       "\\item 3.73766961828337\n",
       "\\item 3.40119738166216\n",
       "\\item 6.07764224334903\n",
       "\\item 6.17378610390194\n",
       "\\item 5.92958914338989\n",
       "\\item 6.19440539110467\n",
       "\\item 3.8286413964891\n",
       "\\item 6.3456363608286\n",
       "\\item 5.94017125272043\n",
       "\\item 3.80666248977032\n",
       "\\item 5.88610403145016\n",
       "\\item 6.00388706710654\n",
       "\\item 6.21460809842219\n",
       "\\item 6.17378610390194\n",
       "\\item 3.68887945411394\n",
       "\\item 3.80666248977032\n",
       "\\item 6.17378610390194\n",
       "\\item 5.99146454710798\n",
       "\\item 3.25809653802148\n",
       "\\item 6.39692965521615\n",
       "\\item 2.19722457733622\n",
       "\\item 3.58351893845611\n",
       "\\item 6.20657592672493\n",
       "\\item 3.68887945411394\n",
       "\\end{enumerate*}\n"
      ],
      "text/markdown": [
       "1. 2.83321334405622\n",
       "2. 3.55534806148941\n",
       "3. 3.78418963391826\n",
       "4. 3.2188758248682\n",
       "5. 3.78418963391826\n",
       "6. 5.91350300563827\n",
       "7. 6.47697236288968\n",
       "8. 3.2188758248682\n",
       "9. 3.40119738166216\n",
       "10. 6.39692965521615\n",
       "11. 6.5510803350434\n",
       "12. 6.20455776256869\n",
       "13. 3.73766961828337\n",
       "14. 3.40119738166216\n",
       "15. 6.07764224334903\n",
       "16. 6.17378610390194\n",
       "17. 5.92958914338989\n",
       "18. 6.19440539110467\n",
       "19. 3.8286413964891\n",
       "20. 6.3456363608286\n",
       "21. 5.94017125272043\n",
       "22. 3.80666248977032\n",
       "23. 5.88610403145016\n",
       "24. 6.00388706710654\n",
       "25. 6.21460809842219\n",
       "26. 6.17378610390194\n",
       "27. 3.68887945411394\n",
       "28. 3.80666248977032\n",
       "29. 6.17378610390194\n",
       "30. 5.99146454710798\n",
       "31. 3.25809653802148\n",
       "32. 6.39692965521615\n",
       "33. 2.19722457733622\n",
       "34. 3.58351893845611\n",
       "35. 6.20657592672493\n",
       "36. 3.68887945411394\n",
       "\n",
       "\n"
      ],
      "text/plain": [
       " [1] 2.833213 3.555348 3.784190 3.218876 3.784190 5.913503 6.476972 3.218876\n",
       " [9] 3.401197 6.396930 6.551080 6.204558 3.737670 3.401197 6.077642 6.173786\n",
       "[17] 5.929589 6.194405 3.828641 6.345636 5.940171 3.806662 5.886104 6.003887\n",
       "[25] 6.214608 6.173786 3.688879 3.806662 6.173786 5.991465 3.258097 6.396930\n",
       "[33] 2.197225 3.583519 6.206576 3.688879"
      ]
     },
     "metadata": {},
     "output_type": "display_data"
    },
    {
     "data": {
      "text/html": [
       "<dl class=dl-horizontal>\n",
       "\t<dt>0%</dt>\n",
       "\t\t<dd>2.19722457733622</dd>\n",
       "\t<dt>25%</dt>\n",
       "\t\t<dd>4.60765776870138</dd>\n",
       "\t<dt>50%</dt>\n",
       "\t\t<dd>4.85203026391962</dd>\n",
       "\t<dt>75%</dt>\n",
       "\t\t<dd>5.11047720974255</dd>\n",
       "\t<dt>100%</dt>\n",
       "\t\t<dd>6.5510803350434</dd>\n",
       "</dl>\n"
      ],
      "text/latex": [
       "\\begin{description*}\n",
       "\\item[0\\textbackslash{}\\%] 2.19722457733622\n",
       "\\item[25\\textbackslash{}\\%] 4.60765776870138\n",
       "\\item[50\\textbackslash{}\\%] 4.85203026391962\n",
       "\\item[75\\textbackslash{}\\%] 5.11047720974255\n",
       "\\item[100\\textbackslash{}\\%] 6.5510803350434\n",
       "\\end{description*}\n"
      ],
      "text/markdown": [
       "0%\n",
       ":   2.1972245773362225%\n",
       ":   4.6076577687013850%\n",
       ":   4.8520302639196275%\n",
       ":   5.11047720974255100%\n",
       ":   6.5510803350434\n",
       "\n"
      ],
      "text/plain": [
       "      0%      25%      50%      75%     100% \n",
       "2.197225 4.607658 4.852030 5.110477 6.551080 "
      ]
     },
     "metadata": {},
     "output_type": "display_data"
    },
    {
     "data": {
      "image/png": "[encoded data removed]",
      "text/plain": [
       "plot without title"
      ]
     },
     "metadata": {},
     "output_type": "display_data"
    }
   ],
   "source": [
    "bo <- boxplot(Data1$LoanAmount,pch=21,col=\"bisque\",bg=\"red\")\n",
    "bo$out\n",
    " \n",
    "#plot.table(Data1$LoanAmount)\n",
    "quantile(Data1$LoanAmount)"
   ]
  },
  {
   "cell_type": "markdown",
   "metadata": {},
   "source": [
    "## (4) Split the data"
   ]
  },
  {
   "cell_type": "markdown",
   "metadata": {},
   "source": [
    "Splitting the data set into train and test data sets"
   ]
  },
  {
   "cell_type": "code",
   "execution_count": 77,
   "metadata": {},
   "outputs": [],
   "source": [
    "set.seed(120)\n",
    "dt = sort(sample(nrow(Data1), nrow(Data1)*0.7))\n",
    "\n",
    "Data1 <- Data1[,-1]\n",
    "\n",
    "DATA.train <- Data1[dt,]\n",
    "DATA.test <- Data1[-dt,]"
   ]
  },
  {
   "cell_type": "markdown",
   "metadata": {},
   "source": [
    "Applying Logistic Regression Model"
   ]
  },
  {
   "cell_type": "code",
   "execution_count": 78,
   "metadata": {},
   "outputs": [
    {
     "data": {
      "text/plain": [
       "\n",
       "Call:\n",
       "glm(formula = DATA.train$Loan_Status ~ ., family = binomial(link = \"logit\"), \n",
       "    data = DATA.train, maxit = 100)\n",
       "\n",
       "Deviance Residuals: \n",
       "    Min       1Q   Median       3Q      Max  \n",
       "-2.3873  -0.2811   0.5272   0.6932   2.5913  \n",
       "\n",
       "Coefficients:\n",
       "                             Estimate Std. Error z value Pr(>|z|)    \n",
       "(Intercept)                  6.766716   4.297324   1.575  0.11534    \n",
       "GenderMale                   0.066880   0.372856   0.179  0.85765    \n",
       "MarriedYes                   0.380816   0.322228   1.182  0.23728    \n",
       "Dependents1                 -0.492594   0.359491  -1.370  0.17061    \n",
       "Dependents2                  0.390024   0.418625   0.932  0.35150    \n",
       "Dependents3+                 0.001087   0.489816   0.002  0.99823    \n",
       "EducationNot Graduate       -0.547917   0.328409  -1.668  0.09524 .  \n",
       "Self_EmployedYes            -0.046816   0.393813  -0.119  0.90537    \n",
       "LoanAmount                   4.486463   2.455667   1.827  0.06770 .  \n",
       "Loan_Amount_Term            -0.017561   0.009802  -1.792  0.07321 .  \n",
       "Credit_History1              4.656695   0.628168   7.413 1.23e-13 ***\n",
       "Credit_HistoryNot Available  4.453104   0.739372   6.023 1.71e-09 ***\n",
       "Property_AreaSemiurban       0.968217   0.325677   2.973  0.00295 ** \n",
       "Property_AreaUrban           0.552011   0.326226   1.692  0.09063 .  \n",
       "TotalIncome                 -4.984726   2.458211  -2.028  0.04258 *  \n",
       "TotalIncomeLoanRatio         4.478328   2.412694   1.856  0.06343 .  \n",
       "---\n",
       "Signif. codes:  0 '***' 0.001 '**' 0.01 '*' 0.05 '.' 0.1 ' ' 1\n",
       "\n",
       "(Dispersion parameter for binomial family taken to be 1)\n",
       "\n",
       "    Null deviance: 538.93  on 428  degrees of freedom\n",
       "Residual deviance: 370.85  on 413  degrees of freedom\n",
       "AIC: 402.85\n",
       "\n",
       "Number of Fisher Scoring iterations: 5\n"
      ]
     },
     "metadata": {},
     "output_type": "display_data"
    }
   ],
   "source": [
    "model <- glm(DATA.train$Loan_Status~.,family = binomial(link = 'logit'),data = DATA.train, maxit = 100)\n",
    "\n",
    "summary(model)"
   ]
  },
  {
   "cell_type": "code",
   "execution_count": 79,
   "metadata": {},
   "outputs": [
    {
     "data": {
      "text/html": [
       "<table>\n",
       "<thead><tr><th></th><th scope=col>GVIF</th><th scope=col>Df</th><th scope=col>GVIF^(1/(2*Df))</th></tr></thead>\n",
       "<tbody>\n",
       "\t<tr><th scope=row>Gender</th><td>  1.230523</td><td>1         </td><td> 1.109290 </td></tr>\n",
       "\t<tr><th scope=row>Married</th><td>  1.396361</td><td>1         </td><td> 1.181677 </td></tr>\n",
       "\t<tr><th scope=row>Dependents</th><td>  1.296756</td><td>3         </td><td> 1.044263 </td></tr>\n",
       "\t<tr><th scope=row>Education</th><td>  1.171055</td><td>1         </td><td> 1.082153 </td></tr>\n",
       "\t<tr><th scope=row>Self_Employed</th><td>  1.048117</td><td>1         </td><td> 1.023776 </td></tr>\n",
       "\t<tr><th scope=row>LoanAmount</th><td> 94.787633</td><td>1         </td><td> 9.735894 </td></tr>\n",
       "\t<tr><th scope=row>Loan_Amount_Term</th><td> 19.177622</td><td>1         </td><td> 4.379226 </td></tr>\n",
       "\t<tr><th scope=row>Credit_History</th><td>  1.079772</td><td>2         </td><td> 1.019373 </td></tr>\n",
       "\t<tr><th scope=row>Property_Area</th><td>  1.112435</td><td>2         </td><td> 1.026996 </td></tr>\n",
       "\t<tr><th scope=row>TotalIncome</th><td>113.703922</td><td>1         </td><td>10.663204 </td></tr>\n",
       "\t<tr><th scope=row>TotalIncomeLoanRatio</th><td> 84.146221</td><td>1         </td><td> 9.173125 </td></tr>\n",
       "</tbody>\n",
       "</table>\n"
      ],
      "text/latex": [
       "\\begin{tabular}{r|lll}\n",
       "  & GVIF & Df & GVIF\\textasciicircum{}(1/(2*Df))\\\\\n",
       "\\hline\n",
       "\tGender &   1.230523 & 1          &  1.109290 \\\\\n",
       "\tMarried &   1.396361 & 1          &  1.181677 \\\\\n",
       "\tDependents &   1.296756 & 3          &  1.044263 \\\\\n",
       "\tEducation &   1.171055 & 1          &  1.082153 \\\\\n",
       "\tSelf\\_Employed &   1.048117 & 1          &  1.023776 \\\\\n",
       "\tLoanAmount &  94.787633 & 1          &  9.735894 \\\\\n",
       "\tLoan\\_Amount\\_Term &  19.177622 & 1          &  4.379226 \\\\\n",
       "\tCredit\\_History &   1.079772 & 2          &  1.019373 \\\\\n",
       "\tProperty\\_Area &   1.112435 & 2          &  1.026996 \\\\\n",
       "\tTotalIncome & 113.703922 & 1          & 10.663204 \\\\\n",
       "\tTotalIncomeLoanRatio &  84.146221 & 1          &  9.173125 \\\\\n",
       "\\end{tabular}\n"
      ],
      "text/markdown": [
       "\n",
       "| <!--/--> | GVIF | Df | GVIF^(1/(2*Df)) | \n",
       "|---|---|---|---|---|---|---|---|---|---|---|\n",
       "| Gender |   1.230523 | 1          |  1.109290  | \n",
       "| Married |   1.396361 | 1          |  1.181677  | \n",
       "| Dependents |   1.296756 | 3          |  1.044263  | \n",
       "| Education |   1.171055 | 1          |  1.082153  | \n",
       "| Self_Employed |   1.048117 | 1          |  1.023776  | \n",
       "| LoanAmount |  94.787633 | 1          |  9.735894  | \n",
       "| Loan_Amount_Term |  19.177622 | 1          |  4.379226  | \n",
       "| Credit_History |   1.079772 | 2          |  1.019373  | \n",
       "| Property_Area |   1.112435 | 2          |  1.026996  | \n",
       "| TotalIncome | 113.703922 | 1          | 10.663204  | \n",
       "| TotalIncomeLoanRatio |  84.146221 | 1          |  9.173125  | \n",
       "\n",
       "\n"
      ],
      "text/plain": [
       "                     GVIF       Df GVIF^(1/(2*Df))\n",
       "Gender                 1.230523 1   1.109290      \n",
       "Married                1.396361 1   1.181677      \n",
       "Dependents             1.296756 3   1.044263      \n",
       "Education              1.171055 1   1.082153      \n",
       "Self_Employed          1.048117 1   1.023776      \n",
       "LoanAmount            94.787633 1   9.735894      \n",
       "Loan_Amount_Term      19.177622 1   4.379226      \n",
       "Credit_History         1.079772 2   1.019373      \n",
       "Property_Area          1.112435 2   1.026996      \n",
       "TotalIncome          113.703922 1  10.663204      \n",
       "TotalIncomeLoanRatio  84.146221 1   9.173125      "
      ]
     },
     "metadata": {},
     "output_type": "display_data"
    }
   ],
   "source": [
    "vif(model)"
   ]
  },
  {
   "cell_type": "markdown",
   "metadata": {},
   "source": [
    "## (5) IV Plot"
   ]
  },
  {
   "cell_type": "code",
   "execution_count": 85,
   "metadata": {},
   "outputs": [
    {
     "name": "stdout",
     "output_type": "stream",
     "text": [
      "Information Value 0 \n",
      "Information Value 0.02 \n",
      "Information Value 0.04 \n",
      "Information Value 0.03 \n",
      "Information Value 0 \n"
     ]
    },
    {
     "ename": "ERROR",
     "evalue": "Error in iv.str(df, \"tmp_iv_calc_label\", y): Not a binary outcome\n",
     "output_type": "error",
     "traceback": [
      "Error in iv.str(df, \"tmp_iv_calc_label\", y): Not a binary outcome\nTraceback:\n",
      "1. iv.plot.summary(iv.mult(DATA.train[, !names(DATA.train) %in% \n .     c(\"Loan_ID\")], \"Loan_Status\", TRUE))",
      "2. ggplot(data = iv)",
      "3. iv.mult(DATA.train[, !names(DATA.train) %in% c(\"Loan_ID\")], \"Loan_Status\", \n .     TRUE)",
      "4. lapply(vars, function(x) {\n .     if (is.numeric(df[, x])) {\n .         if (verbose) \n .             cat(paste(\"Calling iv.num for variable:\", x, \"\\n\"))\n .         iv.num(df, x, y, verbose = verbose, rcontrol = rcontrol)\n .     }\n .     else {\n .         if (verbose) \n .             cat(paste(\"Calling iv.str for variable:\", x, \"\\n\"))\n .         iv.str(df, x, y, verbose = verbose)\n .     }\n . })",
      "5. FUN(X[[i]], ...)",
      "6. iv.num(df, x, y, verbose = verbose, rcontrol = rcontrol)",
      "7. iv.str(df, \"tmp_iv_calc_label\", y)",
      "8. stop(\"Not a binary outcome\")"
     ]
    }
   ],
   "source": [
    "#install.packages(\"devtools\")\n",
    "library(devtools)\n",
    "\n",
    "#install_github(\"riv\",\"tomasgreif\")\n",
    "library(woe)\n",
    " \n",
    "iv.plot.summary(iv.mult(DATA.train[,!names(DATA.train) %in% c(\"Loan_ID\")],\n",
    "                         \"Loan_Status\",TRUE))"
   ]
  },
  {
   "cell_type": "code",
   "execution_count": 86,
   "metadata": {},
   "outputs": [
    {
     "name": "stdout",
     "output_type": "stream",
     "text": [
      "Information Value 0 \n",
      "Information Value 0.02 \n",
      "Information Value 0.04 \n",
      "Information Value 0.03 \n",
      "Information Value 0 \n"
     ]
    },
    {
     "ename": "ERROR",
     "evalue": "Error in iv.str(df, \"tmp_iv_calc_label\", y): Not a binary outcome\n",
     "output_type": "error",
     "traceback": [
      "Error in iv.str(df, \"tmp_iv_calc_label\", y): Not a binary outcome\nTraceback:\n",
      "1. iv.mult(DATA.train[, !names(DATA.train) %in% c(\"Loan_ID\")], \"Loan_Status\", \n .     TRUE)",
      "2. lapply(vars, function(x) {\n .     if (is.numeric(df[, x])) {\n .         if (verbose) \n .             cat(paste(\"Calling iv.num for variable:\", x, \"\\n\"))\n .         iv.num(df, x, y, verbose = verbose, rcontrol = rcontrol)\n .     }\n .     else {\n .         if (verbose) \n .             cat(paste(\"Calling iv.str for variable:\", x, \"\\n\"))\n .         iv.str(df, x, y, verbose = verbose)\n .     }\n . })",
      "3. FUN(X[[i]], ...)",
      "4. iv.num(df, x, y, verbose = verbose, rcontrol = rcontrol)",
      "5. iv.str(df, \"tmp_iv_calc_label\", y)",
      "6. stop(\"Not a binary outcome\")"
     ]
    }
   ],
   "source": [
    "iv <- iv.mult(DATA.train[,!names(DATA.train) %in% c(\"Loan_ID\")],\n",
    "               \"Loan_Status\",TRUE)"
   ]
  },
  {
   "cell_type": "markdown",
   "metadata": {},
   "source": [
    "## (6) Find out the optimum cutoff probability to reduce the missclassification error."
   ]
  },
  {
   "cell_type": "code",
   "execution_count": 93,
   "metadata": {},
   "outputs": [
    {
     "ename": "ERROR",
     "evalue": "Error in predict(mylogit, newdata = DATA.test, type = \"response\"): object 'mylogit' not found\n",
     "output_type": "error",
     "traceback": [
      "Error in predict(mylogit, newdata = DATA.test, type = \"response\"): object 'mylogit' not found\nTraceback:\n",
      "1. predict(mylogit, newdata = DATA.test, type = \"response\")"
     ]
    }
   ],
   "source": [
    "#install.packages(\"InformationValue\")\n",
    "library(InformationValue)\n",
    "library(ROCR)\n",
    "\n",
    "fitted.probabilities <- predict(mylogit, newdata=DATA.test, type='response')\n",
    "\n",
    "optCutOff <- optimalCutoff(DATA.test$Loan_Status, fitted.probabilities)[1] \n",
    "optCutOff"
   ]
  },
  {
   "cell_type": "code",
   "execution_count": 91,
   "metadata": {},
   "outputs": [
    {
     "ename": "ERROR",
     "evalue": "Error in test$Loan_Status: object of type 'closure' is not subsettable\n",
     "output_type": "error",
     "traceback": [
      "Error in test$Loan_Status: object of type 'closure' is not subsettable\nTraceback:\n",
      "1. table(test$Loan_Status, fitted.probabilities > 0.04078136)"
     ]
    }
   ],
   "source": [
    " table(test$Loan_Status, fitted.probabilities > 0.04078136)"
   ]
  }
 ],
 "metadata": {
  "kernelspec": {
   "display_name": "R",
   "language": "R",
   "name": "ir"
  },
  "language_info": {
   "codemirror_mode": "r",
   "file_extension": ".r",
   "mimetype": "text/x-r-source",
   "name": "R",
   "pygments_lexer": "r",
   "version": "3.4.3"
  }
 },
 "nbformat": 4,
 "nbformat_minor": 2
}
