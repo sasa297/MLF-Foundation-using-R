{
 "cells": [
  {
   "cell_type": "markdown",
   "metadata": {},
   "source": [
    "#### Saikiran N. Pasikanti\n",
    "## Machine Learning Foundation\n",
    "# Decision Trees Random Forest\n",
    "Problem statement: Identify risky bank loans using decision trees and Random Forrest\n",
    "The credit dataset includes 1,000 examples on loans, with a set of numeric and nominal features indicating the characteristics of the loan and the applicant.\n",
    "\n",
    "A class variable (column 21 - attribute \"default\") indicates whether the loan went into\n",
    "default [1 - No default, 2 - Default].\n",
    "\n",
    "Data set name: - credit.csv\n",
    "\n",
    "Task\n",
    "- 1. Split data into training and test datasets [70:30]\n",
    "- 2. Build a decision tree using C50,rpart and Random Forest Model and identify the top three predictive features\n",
    "- 3. Predict outcomes on the test data\n",
    "- 4. Create confusion matrix and print the matrix (use CrossTable function to generate confusion matrix)\n",
    "- 5. Try improving the performance of the decision tree (set the trials parameter in C50 and nTrees in Random Forest or you can do some data pre-processing)\n",
    "- 6. C50 and Random Forest by default handles missing data. Randomly remove few features for some of the training samples and build the decision tree.\n",
    "\n",
    "Create the confusion matrix and compare the performance of both the algorithms with and without missing data. (See na.action to understand missing features)"
   ]
  },
  {
   "cell_type": "code",
   "execution_count": 44,
   "metadata": {},
   "outputs": [],
   "source": [
    "################## DATA SET = WHOLESALE CUSTOMER DATASET ######################\n",
    "## Reading the CSV file\n",
    "setwd(\"C:\\\\Users\\\\saikiran\\\\Documents\\\\GitHub\\\\MLF Foundation using R\\\\Decision Trees Random Forest\")\n",
    "#credit <- read.csv(file.choose())\n",
    "credit <- read.csv(\"credit.csv\")\n",
    "Original <- credit #backup of original dataset for comparison"
   ]
  },
  {
   "cell_type": "code",
   "execution_count": 45,
   "metadata": {},
   "outputs": [
    {
     "data": {
      "text/plain": [
       "   checking_balance months_loan_duration                credit_history\n",
       " < 0 DM    :274     Min.   : 4.0         critical              :293   \n",
       " > 200 DM  : 63     1st Qu.:12.0         delayed               : 88   \n",
       " 1 - 200 DM:269     Median :18.0         fully repaid          : 40   \n",
       " unknown   :394     Mean   :20.9         fully repaid this bank: 49   \n",
       "                    3rd Qu.:24.0         repaid                :530   \n",
       "                    Max.   :72.0                                      \n",
       "                                                                      \n",
       "       purpose        amount           savings_balance  employment_length\n",
       " radio/tv  :280   Min.   :  250   < 100 DM     :603    > 7 yrs   :253    \n",
       " car (new) :234   1st Qu.: 1366   > 1000 DM    : 48    0 - 1 yrs :172    \n",
       " furniture :181   Median : 2320   101 - 500 DM :103    1 - 4 yrs :339    \n",
       " car (used):103   Mean   : 3271   501 - 1000 DM: 63    4 - 7 yrs :174    \n",
       " business  : 97   3rd Qu.: 3972   unknown      :183    unemployed: 62    \n",
       " education : 50   Max.   :18424                                          \n",
       " (Other)   : 55                                                          \n",
       " installment_rate      personal_status      other_debtors residence_history\n",
       " Min.   :1.000    divorced male: 50    co-applicant: 41   Min.   :1.000    \n",
       " 1st Qu.:2.000    female       :310    guarantor   : 52   1st Qu.:2.000    \n",
       " Median :3.000    married male : 92    none        :907   Median :3.000    \n",
       " Mean   :2.973    single male  :548                       Mean   :2.845    \n",
       " 3rd Qu.:4.000                                            3rd Qu.:4.000    \n",
       " Max.   :4.000                                            Max.   :4.000    \n",
       "                                                                           \n",
       "                     property        age        installment_plan     housing   \n",
       " building society savings:232   Min.   :19.00   bank  :139       for free:108  \n",
       " other                   :332   1st Qu.:27.00   none  :814       own     :713  \n",
       " real estate             :282   Median :33.00   stores: 47       rent    :179  \n",
       " unknown/none            :154   Mean   :35.55                                  \n",
       "                                3rd Qu.:42.00                                  \n",
       "                                Max.   :75.00                                  \n",
       "                                                                               \n",
       " existing_credits                      job        dependents    telephone \n",
       " Min.   :1.000    mangement self-employed:148   Min.   :1.000   none:596  \n",
       " 1st Qu.:1.000    skilled employee       :630   1st Qu.:1.000   yes :404  \n",
       " Median :1.000    unemployed non-resident: 22   Median :1.000             \n",
       " Mean   :1.407    unskilled resident     :200   Mean   :1.155             \n",
       " 3rd Qu.:2.000                                  3rd Qu.:1.000             \n",
       " Max.   :4.000                                  Max.   :2.000             \n",
       "                                                                          \n",
       " foreign_worker    default   \n",
       " no : 37        Min.   :1.0  \n",
       " yes:963        1st Qu.:1.0  \n",
       "                Median :1.0  \n",
       "                Mean   :1.3  \n",
       "                3rd Qu.:2.0  \n",
       "                Max.   :2.0  \n",
       "                             "
      ]
     },
     "metadata": {},
     "output_type": "display_data"
    }
   ],
   "source": [
    "## Visualizing the dataset\n",
    "#View(credit)\n",
    "summary(credit)"
   ]
  },
  {
   "cell_type": "code",
   "execution_count": 46,
   "metadata": {},
   "outputs": [
    {
     "data": {
      "text/html": [
       "<table>\n",
       "<thead><tr><th scope=col>checking_balance</th><th scope=col>months_loan_duration</th><th scope=col>credit_history</th><th scope=col>purpose</th><th scope=col>amount</th><th scope=col>savings_balance</th><th scope=col>employment_length</th><th scope=col>installment_rate</th><th scope=col>personal_status</th><th scope=col>other_debtors</th><th scope=col>...</th><th scope=col>property</th><th scope=col>age</th><th scope=col>installment_plan</th><th scope=col>housing</th><th scope=col>existing_credits</th><th scope=col>job</th><th scope=col>dependents</th><th scope=col>telephone</th><th scope=col>foreign_worker</th><th scope=col>default</th></tr></thead>\n",
       "<tbody>\n",
       "\t<tr><td><span style=white-space:pre-wrap>&lt; 0 DM    </span>           </td><td> 6                                                              </td><td>critical                                                        </td><td>radio/tv                                                        </td><td>1169                                                            </td><td>unknown                                                         </td><td><span style=white-space:pre-wrap>&gt; 7 yrs  </span>            </td><td>4                                                               </td><td>single male                                                     </td><td><span style=white-space:pre-wrap>none     </span>               </td><td>...                                                             </td><td><span style=white-space:pre-wrap>real estate             </span></td><td>67                                                              </td><td>none                                                            </td><td><span style=white-space:pre-wrap>own     </span>                </td><td>2                                                               </td><td><span style=white-space:pre-wrap>skilled employee  </span>      </td><td>1                                                               </td><td>yes                                                             </td><td>yes                                                             </td><td>1                                                               </td></tr>\n",
       "\t<tr><td>1 - 200 DM                                                      </td><td>48                                                              </td><td><span style=white-space:pre-wrap>repaid  </span>                </td><td>radio/tv                                                        </td><td>5951                                                            </td><td>&lt; 100 DM                                                     </td><td>1 - 4 yrs                                                       </td><td>2                                                               </td><td><span style=white-space:pre-wrap>female     </span>             </td><td><span style=white-space:pre-wrap>none     </span>               </td><td>...                                                             </td><td><span style=white-space:pre-wrap>real estate             </span></td><td>22                                                              </td><td>none                                                            </td><td><span style=white-space:pre-wrap>own     </span>                </td><td>1                                                               </td><td><span style=white-space:pre-wrap>skilled employee  </span>      </td><td>1                                                               </td><td>none                                                            </td><td>yes                                                             </td><td>2                                                               </td></tr>\n",
       "\t<tr><td><span style=white-space:pre-wrap>unknown   </span>              </td><td>12                                                              </td><td>critical                                                        </td><td>education                                                       </td><td>2096                                                            </td><td>&lt; 100 DM                                                     </td><td>4 - 7 yrs                                                       </td><td>2                                                               </td><td>single male                                                     </td><td><span style=white-space:pre-wrap>none     </span>               </td><td>...                                                             </td><td><span style=white-space:pre-wrap>real estate             </span></td><td>49                                                              </td><td>none                                                            </td><td><span style=white-space:pre-wrap>own     </span>                </td><td>1                                                               </td><td>unskilled resident                                              </td><td>2                                                               </td><td>none                                                            </td><td>yes                                                             </td><td>1                                                               </td></tr>\n",
       "\t<tr><td><span style=white-space:pre-wrap>&lt; 0 DM    </span>     </td><td>42                                                        </td><td><span style=white-space:pre-wrap>repaid  </span>          </td><td>furniture                                                 </td><td>7882                                                      </td><td>&lt; 100 DM                                               </td><td>4 - 7 yrs                                                 </td><td>2                                                         </td><td>single male                                               </td><td>guarantor                                                 </td><td>...                                                       </td><td>building society savings                                  </td><td>45                                                        </td><td>none                                                      </td><td>for free                                                  </td><td>1                                                         </td><td><span style=white-space:pre-wrap>skilled employee  </span></td><td>2                                                         </td><td>none                                                      </td><td>yes                                                       </td><td>1                                                         </td></tr>\n",
       "\t<tr><td><span style=white-space:pre-wrap>&lt; 0 DM    </span>           </td><td>24                                                              </td><td>delayed                                                         </td><td>car (new)                                                       </td><td>4870                                                            </td><td>&lt; 100 DM                                                     </td><td>1 - 4 yrs                                                       </td><td>3                                                               </td><td>single male                                                     </td><td><span style=white-space:pre-wrap>none     </span>               </td><td>...                                                             </td><td><span style=white-space:pre-wrap>unknown/none            </span></td><td>53                                                              </td><td>none                                                            </td><td>for free                                                        </td><td>2                                                               </td><td><span style=white-space:pre-wrap>skilled employee  </span>      </td><td>2                                                               </td><td>none                                                            </td><td>yes                                                             </td><td>2                                                               </td></tr>\n",
       "\t<tr><td>unknown                 </td><td>36                      </td><td>repaid                  </td><td>education               </td><td>9055                    </td><td>unknown                 </td><td>1 - 4 yrs               </td><td>2                       </td><td>single male             </td><td>none                    </td><td>...                     </td><td>unknown/none            </td><td>35                      </td><td>none                    </td><td>for free                </td><td>1                       </td><td>unskilled resident      </td><td>2                       </td><td>yes                     </td><td>yes                     </td><td>1                       </td></tr>\n",
       "</tbody>\n",
       "</table>\n"
      ],
      "text/latex": [
       "\\begin{tabular}{r|lllllllllllllllllllll}\n",
       " checking\\_balance & months\\_loan\\_duration & credit\\_history & purpose & amount & savings\\_balance & employment\\_length & installment\\_rate & personal\\_status & other\\_debtors & ... & property & age & installment\\_plan & housing & existing\\_credits & job & dependents & telephone & foreign\\_worker & default\\\\\n",
       "\\hline\n",
       "\t < 0 DM                   &  6                       & critical                 & radio/tv                 & 1169                     & unknown                  & > 7 yrs                  & 4                        & single male              & none                     & ...                      & real estate              & 67                       & none                     & own                      & 2                        & skilled employee         & 1                        & yes                      & yes                      & 1                       \\\\\n",
       "\t 1 - 200 DM               & 48                       & repaid                   & radio/tv                 & 5951                     & < 100 DM                 & 1 - 4 yrs                & 2                        & female                   & none                     & ...                      & real estate              & 22                       & none                     & own                      & 1                        & skilled employee         & 1                        & none                     & yes                      & 2                       \\\\\n",
       "\t unknown                  & 12                       & critical                 & education                & 2096                     & < 100 DM                 & 4 - 7 yrs                & 2                        & single male              & none                     & ...                      & real estate              & 49                       & none                     & own                      & 1                        & unskilled resident       & 2                        & none                     & yes                      & 1                       \\\\\n",
       "\t < 0 DM                   & 42                       & repaid                   & furniture                & 7882                     & < 100 DM                 & 4 - 7 yrs                & 2                        & single male              & guarantor                & ...                      & building society savings & 45                       & none                     & for free                 & 1                        & skilled employee         & 2                        & none                     & yes                      & 1                       \\\\\n",
       "\t < 0 DM                   & 24                       & delayed                  & car (new)                & 4870                     & < 100 DM                 & 1 - 4 yrs                & 3                        & single male              & none                     & ...                      & unknown/none             & 53                       & none                     & for free                 & 2                        & skilled employee         & 2                        & none                     & yes                      & 2                       \\\\\n",
       "\t unknown                  & 36                       & repaid                   & education                & 9055                     & unknown                  & 1 - 4 yrs                & 2                        & single male              & none                     & ...                      & unknown/none             & 35                       & none                     & for free                 & 1                        & unskilled resident       & 2                        & yes                      & yes                      & 1                       \\\\\n",
       "\\end{tabular}\n"
      ],
      "text/markdown": [
       "\n",
       "checking_balance | months_loan_duration | credit_history | purpose | amount | savings_balance | employment_length | installment_rate | personal_status | other_debtors | ... | property | age | installment_plan | housing | existing_credits | job | dependents | telephone | foreign_worker | default | \n",
       "|---|---|---|---|---|---|\n",
       "| < 0 DM                   |  6                       | critical                 | radio/tv                 | 1169                     | unknown                  | > 7 yrs                  | 4                        | single male              | none                     | ...                      | real estate              | 67                       | none                     | own                      | 2                        | skilled employee         | 1                        | yes                      | yes                      | 1                        | \n",
       "| 1 - 200 DM               | 48                       | repaid                   | radio/tv                 | 5951                     | < 100 DM                 | 1 - 4 yrs                | 2                        | female                   | none                     | ...                      | real estate              | 22                       | none                     | own                      | 1                        | skilled employee         | 1                        | none                     | yes                      | 2                        | \n",
       "| unknown                  | 12                       | critical                 | education                | 2096                     | < 100 DM                 | 4 - 7 yrs                | 2                        | single male              | none                     | ...                      | real estate              | 49                       | none                     | own                      | 1                        | unskilled resident       | 2                        | none                     | yes                      | 1                        | \n",
       "| < 0 DM                   | 42                       | repaid                   | furniture                | 7882                     | < 100 DM                 | 4 - 7 yrs                | 2                        | single male              | guarantor                | ...                      | building society savings | 45                       | none                     | for free                 | 1                        | skilled employee         | 2                        | none                     | yes                      | 1                        | \n",
       "| < 0 DM                   | 24                       | delayed                  | car (new)                | 4870                     | < 100 DM                 | 1 - 4 yrs                | 3                        | single male              | none                     | ...                      | unknown/none             | 53                       | none                     | for free                 | 2                        | skilled employee         | 2                        | none                     | yes                      | 2                        | \n",
       "| unknown                  | 36                       | repaid                   | education                | 9055                     | unknown                  | 1 - 4 yrs                | 2                        | single male              | none                     | ...                      | unknown/none             | 35                       | none                     | for free                 | 1                        | unskilled resident       | 2                        | yes                      | yes                      | 1                        | \n",
       "\n",
       "\n"
      ],
      "text/plain": [
       "  checking_balance months_loan_duration credit_history purpose   amount\n",
       "1 < 0 DM            6                   critical       radio/tv  1169  \n",
       "2 1 - 200 DM       48                   repaid         radio/tv  5951  \n",
       "3 unknown          12                   critical       education 2096  \n",
       "4 < 0 DM           42                   repaid         furniture 7882  \n",
       "5 < 0 DM           24                   delayed        car (new) 4870  \n",
       "6 unknown          36                   repaid         education 9055  \n",
       "  savings_balance employment_length installment_rate personal_status\n",
       "1 unknown         > 7 yrs           4                single male    \n",
       "2 < 100 DM        1 - 4 yrs         2                female         \n",
       "3 < 100 DM        4 - 7 yrs         2                single male    \n",
       "4 < 100 DM        4 - 7 yrs         2                single male    \n",
       "5 < 100 DM        1 - 4 yrs         3                single male    \n",
       "6 unknown         1 - 4 yrs         2                single male    \n",
       "  other_debtors ... property                 age installment_plan housing \n",
       "1 none          ... real estate              67  none             own     \n",
       "2 none          ... real estate              22  none             own     \n",
       "3 none          ... real estate              49  none             own     \n",
       "4 guarantor     ... building society savings 45  none             for free\n",
       "5 none          ... unknown/none             53  none             for free\n",
       "6 none          ... unknown/none             35  none             for free\n",
       "  existing_credits job                dependents telephone foreign_worker\n",
       "1 2                skilled employee   1          yes       yes           \n",
       "2 1                skilled employee   1          none      yes           \n",
       "3 1                unskilled resident 2          none      yes           \n",
       "4 1                skilled employee   2          none      yes           \n",
       "5 2                skilled employee   2          none      yes           \n",
       "6 1                unskilled resident 2          yes       yes           \n",
       "  default\n",
       "1 1      \n",
       "2 2      \n",
       "3 1      \n",
       "4 1      \n",
       "5 2      \n",
       "6 1      "
      ]
     },
     "metadata": {},
     "output_type": "display_data"
    }
   ],
   "source": [
    "head(credit)"
   ]
  },
  {
   "cell_type": "code",
   "execution_count": 47,
   "metadata": {},
   "outputs": [
    {
     "data": {
      "text/html": [
       "<ol class=list-inline>\n",
       "\t<li>1000</li>\n",
       "\t<li>21</li>\n",
       "</ol>\n"
      ],
      "text/latex": [
       "\\begin{enumerate*}\n",
       "\\item 1000\n",
       "\\item 21\n",
       "\\end{enumerate*}\n"
      ],
      "text/markdown": [
       "1. 1000\n",
       "2. 21\n",
       "\n",
       "\n"
      ],
      "text/plain": [
       "[1] 1000   21"
      ]
     },
     "metadata": {},
     "output_type": "display_data"
    }
   ],
   "source": [
    "dim(credit)                         # 1000 rows and 21 variables"
   ]
  },
  {
   "cell_type": "code",
   "execution_count": 48,
   "metadata": {},
   "outputs": [
    {
     "data": {
      "text/html": [
       "0"
      ],
      "text/latex": [
       "0"
      ],
      "text/markdown": [
       "0"
      ],
      "text/plain": [
       "[1] 0"
      ]
     },
     "metadata": {},
     "output_type": "display_data"
    }
   ],
   "source": [
    "sum(is.na(credit))                  # No missing values in the dataset"
   ]
  },
  {
   "cell_type": "code",
   "execution_count": 49,
   "metadata": {},
   "outputs": [
    {
     "name": "stdout",
     "output_type": "stream",
     "text": [
      "'data.frame':\t1000 obs. of  21 variables:\n",
      " $ checking_balance    : Factor w/ 4 levels \"< 0 DM\",\"> 200 DM\",..: 1 3 4 1 1 4 4 3 4 3 ...\n",
      " $ months_loan_duration: int  6 48 12 42 24 36 24 36 12 30 ...\n",
      " $ credit_history      : Factor w/ 5 levels \"critical\",\"delayed\",..: 1 5 1 5 2 5 5 5 5 1 ...\n",
      " $ purpose             : Factor w/ 10 levels \"business\",\"car (new)\",..: 8 8 5 6 2 5 6 3 8 2 ...\n",
      " $ amount              : int  1169 5951 2096 7882 4870 9055 2835 6948 3059 5234 ...\n",
      " $ savings_balance     : Factor w/ 5 levels \"< 100 DM\",\"> 1000 DM\",..: 5 1 1 1 1 5 4 1 2 1 ...\n",
      " $ employment_length   : Factor w/ 5 levels \"> 7 yrs\",\"0 - 1 yrs\",..: 1 3 4 4 3 3 1 3 4 5 ...\n",
      " $ installment_rate    : int  4 2 2 2 3 2 3 2 2 4 ...\n",
      " $ personal_status     : Factor w/ 4 levels \"divorced male\",..: 4 2 4 4 4 4 4 4 1 3 ...\n",
      " $ other_debtors       : Factor w/ 3 levels \"co-applicant\",..: 3 3 3 2 3 3 3 3 3 3 ...\n",
      " $ residence_history   : int  4 2 3 4 4 4 4 2 4 2 ...\n",
      " $ property            : Factor w/ 4 levels \"building society savings\",..: 3 3 3 1 4 4 1 2 3 2 ...\n",
      " $ age                 : int  67 22 49 45 53 35 53 35 61 28 ...\n",
      " $ installment_plan    : Factor w/ 3 levels \"bank\",\"none\",..: 2 2 2 2 2 2 2 2 2 2 ...\n",
      " $ housing             : Factor w/ 3 levels \"for free\",\"own\",..: 2 2 2 1 1 1 2 3 2 2 ...\n",
      " $ existing_credits    : int  2 1 1 1 2 1 1 1 1 2 ...\n",
      " $ job                 : Factor w/ 4 levels \"mangement self-employed\",..: 2 2 4 2 2 4 2 1 4 1 ...\n",
      " $ dependents          : int  1 1 2 2 2 2 1 1 1 1 ...\n",
      " $ telephone           : Factor w/ 2 levels \"none\",\"yes\": 2 1 1 1 1 2 1 2 1 1 ...\n",
      " $ foreign_worker      : Factor w/ 2 levels \"no\",\"yes\": 2 2 2 2 2 2 2 2 2 2 ...\n",
      " $ default             : int  1 2 1 1 2 1 1 1 1 2 ...\n"
     ]
    }
   ],
   "source": [
    "str(credit)    "
   ]
  },
  {
   "cell_type": "code",
   "execution_count": 50,
   "metadata": {},
   "outputs": [
    {
     "name": "stdout",
     "output_type": "stream",
     "text": [
      " Factor w/ 2 levels \"No\",\"Yes\": 1 2 1 1 2 1 1 1 1 2 ...\n"
     ]
    }
   ],
   "source": [
    "# Variable \"default\" is recorded as integer\n",
    "# Converting them into categorical class\n",
    "credit$default = factor(credit$default, levels=c(1,2), labels=c(\"No\",\"Yes\"))\n",
    "str(credit$default) "
   ]
  },
  {
   "cell_type": "code",
   "execution_count": 51,
   "metadata": {},
   "outputs": [
    {
     "data": {
      "text/plain": [
       "\n",
       "    < 0 DM   > 200 DM 1 - 200 DM    unknown \n",
       "       274         63        269        394 "
      ]
     },
     "metadata": {},
     "output_type": "display_data"
    },
    {
     "data": {
      "text/plain": [
       "\n",
       "     < 100 DM     > 1000 DM  101 - 500 DM 501 - 1000 DM       unknown \n",
       "          603            48           103            63           183 "
      ]
     },
     "metadata": {},
     "output_type": "display_data"
    }
   ],
   "source": [
    "# The applicant's checking and savings account balance are recorded \n",
    "# as categorical variables:\n",
    "table(credit$checking_balance)\n",
    "table(credit$savings_balance)         # Currency in Deutsche Marks (DM)"
   ]
  },
  {
   "cell_type": "code",
   "execution_count": 52,
   "metadata": {},
   "outputs": [
    {
     "data": {
      "text/plain": [
       "   Min. 1st Qu.  Median    Mean 3rd Qu.    Max. \n",
       "    4.0    12.0    18.0    20.9    24.0    72.0 "
      ]
     },
     "metadata": {},
     "output_type": "display_data"
    }
   ],
   "source": [
    "# Some of the loan's features are numeric, such as its duration and \n",
    "# the amount of credit requested:\n",
    "summary(credit$months_loan_duration)"
   ]
  },
  {
   "cell_type": "code",
   "execution_count": 53,
   "metadata": {},
   "outputs": [
    {
     "data": {
      "text/plain": [
       "   Min. 1st Qu.  Median    Mean 3rd Qu.    Max. \n",
       "    250    1366    2320    3271    3972   18424 "
      ]
     },
     "metadata": {},
     "output_type": "display_data"
    }
   ],
   "source": [
    "summary(credit$amount)"
   ]
  },
  {
   "cell_type": "code",
   "execution_count": 54,
   "metadata": {},
   "outputs": [
    {
     "data": {
      "text/plain": [
       "\n",
       " No Yes \n",
       "700 300 "
      ]
     },
     "metadata": {},
     "output_type": "display_data"
    }
   ],
   "source": [
    "table(credit$default)\n",
    "# A total of 30 percent of the loans in this dataset went into default                "
   ]
  },
  {
   "cell_type": "code",
   "execution_count": 55,
   "metadata": {},
   "outputs": [
    {
     "data": {
      "text/plain": [
       "\n",
       "       No       Yes \n",
       "0.7014286 0.2985714 "
      ]
     },
     "metadata": {},
     "output_type": "display_data"
    },
    {
     "data": {
      "text/plain": [
       "\n",
       "       No       Yes \n",
       "0.6966667 0.3033333 "
      ]
     },
     "metadata": {},
     "output_type": "display_data"
    }
   ],
   "source": [
    "####### TASK(1) Split data into training and test datasets [70:30] ####################\n",
    "# Splitting the data set into train and test data sets\n",
    "set.seed(123)                 # set seed for reproducibility\n",
    "dt = sort(sample(nrow(credit), nrow(credit)*0.7)) # split into 70:30 ratio\n",
    "\n",
    "credit.train <- credit[dt,]   # training data set\n",
    "credit.test <- credit[-dt,]   # testing data set\n",
    "\n",
    "prop.table(table(credit.train$default))  # ratio of yes/no in training set\n",
    "prop.table(table(credit.test$default))   # ratio of yes/no in test set"
   ]
  },
  {
   "cell_type": "code",
   "execution_count": 56,
   "metadata": {},
   "outputs": [
    {
     "data": {
      "text/plain": [
       "n= 700 \n",
       "\n",
       "node), split, n, loss, yval, (yprob)\n",
       "      * denotes terminal node\n",
       "\n",
       "  1) root 700 209 No (0.70142857 0.29857143)  \n",
       "    2) checking_balance=> 200 DM,unknown 324  43 No (0.86728395 0.13271605) *\n",
       "    3) checking_balance=< 0 DM,1 - 200 DM 376 166 No (0.55851064 0.44148936)  \n",
       "      6) months_loan_duration< 31.5 297 116 No (0.60942761 0.39057239)  \n",
       "       12) purpose=business,car (used),domestic appliances,furniture,others,radio/tv,retraining 193  59 No (0.69430052 0.30569948)  \n",
       "         24) other_debtors=guarantor 21   0 No (1.00000000 0.00000000) *\n",
       "         25) other_debtors=co-applicant,none 172  59 No (0.65697674 0.34302326)  \n",
       "           50) months_loan_duration< 8.5 12   0 No (1.00000000 0.00000000) *\n",
       "           51) months_loan_duration>=8.5 160  59 No (0.63125000 0.36875000)  \n",
       "            102) savings_balance=> 1000 DM,unknown 30   5 No (0.83333333 0.16666667) *\n",
       "            103) savings_balance=< 100 DM,101 - 500 DM,501 - 1000 DM 130  54 No (0.58461538 0.41538462)  \n",
       "              206) residence_history< 1.5 23   4 No (0.82608696 0.17391304) *\n",
       "              207) residence_history>=1.5 107  50 No (0.53271028 0.46728972)  \n",
       "                414) credit_history=critical,fully repaid this bank 29   8 No (0.72413793 0.27586207) *\n",
       "                415) credit_history=delayed,fully repaid,repaid 78  36 Yes (0.46153846 0.53846154)  \n",
       "                  830) installment_rate< 2.5 25   9 No (0.64000000 0.36000000) *\n",
       "                  831) installment_rate>=2.5 53  20 Yes (0.37735849 0.62264151) *\n",
       "       13) purpose=car (new),education,repairs 104  47 Yes (0.45192308 0.54807692)  \n",
       "         26) age>=34.5 50  18 No (0.64000000 0.36000000)  \n",
       "           52) credit_history=critical 19   3 No (0.84210526 0.15789474) *\n",
       "           53) credit_history=delayed,fully repaid this bank,repaid 31  15 No (0.51612903 0.48387097)  \n",
       "            106) checking_balance=1 - 200 DM 16   4 No (0.75000000 0.25000000) *\n",
       "            107) checking_balance=< 0 DM 15   4 Yes (0.26666667 0.73333333) *\n",
       "         27) age< 34.5 54  15 Yes (0.27777778 0.72222222)  \n",
       "           54) amount>=1507.5 25  12 Yes (0.48000000 0.52000000)  \n",
       "            108) personal_status=single male 12   3 No (0.75000000 0.25000000) *\n",
       "            109) personal_status=divorced male,female,married male 13   3 Yes (0.23076923 0.76923077) *\n",
       "           55) amount< 1507.5 29   3 Yes (0.10344828 0.89655172) *\n",
       "      7) months_loan_duration>=31.5 79  29 Yes (0.36708861 0.63291139)  \n",
       "       14) employment_length=unemployed 7   0 No (1.00000000 0.00000000) *\n",
       "       15) employment_length=> 7 yrs,0 - 1 yrs,1 - 4 yrs,4 - 7 yrs 72  22 Yes (0.30555556 0.69444444)  \n",
       "         30) savings_balance=unknown 7   1 No (0.85714286 0.14285714) *\n",
       "         31) savings_balance=< 100 DM,101 - 500 DM,501 - 1000 DM 65  16 Yes (0.24615385 0.75384615)  \n",
       "           62) age>=29.5 41  14 Yes (0.34146341 0.65853659)  \n",
       "            124) months_loan_duration< 47.5 20   9 No (0.55000000 0.45000000)  \n",
       "              248) installment_rate< 3.5 13   3 No (0.76923077 0.23076923) *\n",
       "              249) installment_rate>=3.5 7   1 Yes (0.14285714 0.85714286) *\n",
       "            125) months_loan_duration>=47.5 21   3 Yes (0.14285714 0.85714286) *\n",
       "           63) age< 29.5 24   2 Yes (0.08333333 0.91666667) *"
      ]
     },
     "metadata": {},
     "output_type": "display_data"
    }
   ],
   "source": [
    "###### TASK(2,3,4) using R PART ##################################################\n",
    "#install.packages(\"rpart\")\n",
    "#install.packages(\"rpart.plot\")\n",
    "library(rpart)\n",
    "library(rpart.plot)\n",
    "\n",
    "rpart.model1 <- rpart(default ~ .,\n",
    "                     data=credit.train,  # Dataset\n",
    "                     method=\"class\")     # Method of classification\n",
    "                                 \n",
    "rpart.model1"
   ]
  },
  {
   "cell_type": "code",
   "execution_count": 57,
   "metadata": {},
   "outputs": [
    {
     "name": "stdout",
     "output_type": "stream",
     "text": [
      "Call:\n",
      "rpart(formula = default ~ ., data = credit.train, method = \"class\")\n",
      "  n= 700 \n",
      "\n",
      "          CP nsplit rel error    xerror       xstd\n",
      "1 0.05023923      0 1.0000000 1.0000000 0.05793201\n",
      "2 0.03349282      4 0.7846890 0.9617225 0.05727340\n",
      "3 0.02392344      5 0.7511962 0.9090909 0.05629458\n",
      "4 0.01674641      6 0.7272727 0.9330144 0.05675024\n",
      "5 0.01435407      8 0.6937799 0.9473684 0.05701500\n",
      "6 0.01116427     10 0.6650718 0.9330144 0.05675024\n",
      "7 0.01036683     13 0.6315789 0.9425837 0.05692746\n",
      "8 0.01000000     19 0.5693780 0.9665072 0.05735814\n",
      "\n",
      "Variable importance\n",
      "    checking_balance months_loan_duration              purpose \n",
      "                  23                   11                    9 \n",
      "     savings_balance       credit_history                  age \n",
      "                   9                    8                    8 \n",
      "   employment_length               amount    residence_history \n",
      "                   7                    6                    5 \n",
      "    installment_rate      personal_status        other_debtors \n",
      "                   5                    3                    3 \n",
      "          dependents                  job     existing_credits \n",
      "                   1                    1                    1 \n",
      "\n",
      "Node number 1: 700 observations,    complexity param=0.05023923\n",
      "  predicted class=No   expected loss=0.2985714  P(node) =1\n",
      "    class counts:   491   209\n",
      "   probabilities: 0.701 0.299 \n",
      "  left son=2 (324 obs) right son=3 (376 obs)\n",
      "  Primary splits:\n",
      "      checking_balance     splits as  RLRL,        improve=33.185190, (0 missing)\n",
      "      credit_history       splits as  LRRRR,       improve=10.804400, (0 missing)\n",
      "      savings_balance      splits as  RLRLL,       improve= 9.947717, (0 missing)\n",
      "      months_loan_duration < 31.5    to the left,  improve= 9.608606, (0 missing)\n",
      "      purpose              splits as  RRLLRLRLRL,  improve= 8.175942, (0 missing)\n",
      "  Surrogate splits:\n",
      "      savings_balance      splits as  RLRLL,       agree=0.600, adj=0.136, (0 split)\n",
      "      credit_history       splits as  LRRRR,       agree=0.589, adj=0.111, (0 split)\n",
      "      purpose              splits as  RRLRRRRLRR,  agree=0.580, adj=0.093, (0 split)\n",
      "      months_loan_duration < 10.5    to the left,  agree=0.557, adj=0.043, (0 split)\n",
      "      employment_length    splits as  LRRRR,       agree=0.550, adj=0.028, (0 split)\n",
      "\n",
      "Node number 2: 324 observations\n",
      "  predicted class=No   expected loss=0.132716  P(node) =0.4628571\n",
      "    class counts:   281    43\n",
      "   probabilities: 0.867 0.133 \n",
      "\n",
      "Node number 3: 376 observations,    complexity param=0.05023923\n",
      "  predicted class=No   expected loss=0.4414894  P(node) =0.5371429\n",
      "    class counts:   210   166\n",
      "   probabilities: 0.559 0.441 \n",
      "  left son=6 (297 obs) right son=7 (79 obs)\n",
      "  Primary splits:\n",
      "      months_loan_duration < 31.5    to the left,  improve=7.329466, (0 missing)\n",
      "      savings_balance      splits as  RLRLL,       improve=5.401906, (0 missing)\n",
      "      amount               < 3910    to the left,  improve=5.356086, (0 missing)\n",
      "      credit_history       splits as  LLRRL,       improve=5.183840, (0 missing)\n",
      "      property             splits as  LLLR,        improve=5.171377, (0 missing)\n",
      "  Surrogate splits:\n",
      "      amount < 6668.5  to the left,  agree=0.846, adj=0.266, (0 split)\n",
      "\n",
      "Node number 6: 297 observations,    complexity param=0.05023923\n",
      "  predicted class=No   expected loss=0.3905724  P(node) =0.4242857\n",
      "    class counts:   181   116\n",
      "   probabilities: 0.609 0.391 \n",
      "  left son=12 (193 obs) right son=13 (104 obs)\n",
      "  Primary splits:\n",
      "      purpose        splits as  LRLLRLLLRL,  improve=7.940513, (0 missing)\n",
      "      credit_history splits as  LRRRR,       improve=5.692429, (0 missing)\n",
      "      other_debtors  splits as  RLR,         improve=5.266029, (0 missing)\n",
      "      amount         < 8195    to the left,  improve=4.609428, (0 missing)\n",
      "      housing        splits as  RLR,         improve=3.948453, (0 missing)\n",
      "  Surrogate splits:\n",
      "      age                  < 66.5    to the left,  agree=0.667, adj=0.048, (0 split)\n",
      "      amount               < 13765.5 to the left,  agree=0.657, adj=0.019, (0 split)\n",
      "      job                  splits as  LLRL,        agree=0.657, adj=0.019, (0 split)\n",
      "      months_loan_duration < 6.5     to the right, agree=0.653, adj=0.010, (0 split)\n",
      "      credit_history       splits as  LLLRL,       agree=0.653, adj=0.010, (0 split)\n",
      "\n",
      "Node number 7: 79 observations,    complexity param=0.03349282\n",
      "  predicted class=Yes  expected loss=0.3670886  P(node) =0.1128571\n",
      "    class counts:    29    50\n",
      "   probabilities: 0.367 0.633 \n",
      "  left son=14 (7 obs) right son=15 (72 obs)\n",
      "  Primary splits:\n",
      "      employment_length splits as  RRRRL,       improve=6.153305, (0 missing)\n",
      "      savings_balance   splits as  R-RRL,       improve=4.592664, (0 missing)\n",
      "      purpose           splits as  RLLRLLLLL-,  improve=2.620283, (0 missing)\n",
      "      age               < 26.5    to the right, improve=1.574136, (0 missing)\n",
      "      installment_rate  < 2.5     to the left,  improve=1.391656, (0 missing)\n",
      "  Surrogate splits:\n",
      "      job splits as  RRLR, agree=0.924, adj=0.143, (0 split)\n",
      "\n",
      "Node number 12: 193 observations,    complexity param=0.01036683\n",
      "  predicted class=No   expected loss=0.3056995  P(node) =0.2757143\n",
      "    class counts:   134    59\n",
      "   probabilities: 0.694 0.306 \n",
      "  left son=24 (21 obs) right son=25 (172 obs)\n",
      "  Primary splits:\n",
      "      other_debtors        splits as  RLR,         improve=4.404205, (0 missing)\n",
      "      months_loan_duration < 8.5     to the left,  improve=3.484279, (0 missing)\n",
      "      housing              splits as  RLR,         improve=2.857286, (0 missing)\n",
      "      amount               < 7811.5  to the left,  improve=2.425157, (0 missing)\n",
      "      residence_history    < 1.5     to the left,  improve=2.305398, (0 missing)\n",
      "\n",
      "Node number 13: 104 observations,    complexity param=0.05023923\n",
      "  predicted class=Yes  expected loss=0.4519231  P(node) =0.1485714\n",
      "    class counts:    47    57\n",
      "   probabilities: 0.452 0.548 \n",
      "  left son=26 (50 obs) right son=27 (54 obs)\n",
      "  Primary splits:\n",
      "      age              < 34.5    to the right, improve=6.812564, (0 missing)\n",
      "      credit_history   splits as  LRRRR,       improve=4.623608, (0 missing)\n",
      "      amount           < 1513    to the right, improve=4.222934, (0 missing)\n",
      "      personal_status  splits as  RRRL,        improve=3.465659, (0 missing)\n",
      "      installment_plan splits as  RLR,         improve=2.297009, (0 missing)\n",
      "  Surrogate splits:\n",
      "      credit_history    splits as  LLRRR,       agree=0.692, adj=0.36, (0 split)\n",
      "      personal_status   splits as  LRRL,        agree=0.683, adj=0.34, (0 split)\n",
      "      residence_history < 3.5     to the right, agree=0.683, adj=0.34, (0 split)\n",
      "      employment_length splits as  LRRRL,       agree=0.644, adj=0.26, (0 split)\n",
      "      dependents        < 1.5     to the right, agree=0.625, adj=0.22, (0 split)\n",
      "\n",
      "Node number 14: 7 observations\n",
      "  predicted class=No   expected loss=0  P(node) =0.01\n",
      "    class counts:     7     0\n",
      "   probabilities: 1.000 0.000 \n",
      "\n",
      "Node number 15: 72 observations,    complexity param=0.02392344\n",
      "  predicted class=Yes  expected loss=0.3055556  P(node) =0.1028571\n",
      "    class counts:    22    50\n",
      "   probabilities: 0.306 0.694 \n",
      "  left son=30 (7 obs) right son=31 (65 obs)\n",
      "  Primary splits:\n",
      "      savings_balance   splits as  R-RRL,       improve=4.718193, (0 missing)\n",
      "      purpose           splits as  RLLRLLRLR-,  improve=2.430556, (0 missing)\n",
      "      amount            < 3757.5  to the left,  improve=1.555556, (0 missing)\n",
      "      property          splits as  LLLR,        improve=1.477633, (0 missing)\n",
      "      employment_length splits as  RRLL-,       improve=1.388889, (0 missing)\n",
      "\n",
      "Node number 24: 21 observations\n",
      "  predicted class=No   expected loss=0  P(node) =0.03\n",
      "    class counts:    21     0\n",
      "   probabilities: 1.000 0.000 \n",
      "\n",
      "Node number 25: 172 observations,    complexity param=0.01036683\n",
      "  predicted class=No   expected loss=0.3430233  P(node) =0.2457143\n",
      "    class counts:   113    59\n",
      "   probabilities: 0.657 0.343 \n",
      "  left son=50 (12 obs) right son=51 (160 obs)\n",
      "  Primary splits:\n",
      "      months_loan_duration < 8.5     to the left,  improve=3.035756, (0 missing)\n",
      "      savings_balance      splits as  RLRRL,       improve=2.995242, (0 missing)\n",
      "      credit_history       splits as  LRRRR,       improve=2.942953, (0 missing)\n",
      "      residence_history    < 1.5     to the left,  improve=2.680002, (0 missing)\n",
      "      employment_length    splits as  RRRLR,       improve=2.154771, (0 missing)\n",
      "  Surrogate splits:\n",
      "      amount < 376.5   to the left,  agree=0.942, adj=0.167, (0 split)\n",
      "\n",
      "Node number 26: 50 observations,    complexity param=0.01674641\n",
      "  predicted class=No   expected loss=0.36  P(node) =0.07142857\n",
      "    class counts:    32    18\n",
      "   probabilities: 0.640 0.360 \n",
      "  left son=52 (19 obs) right son=53 (31 obs)\n",
      "  Primary splits:\n",
      "      credit_history       splits as  LR-RR,       improve=2.503497, (0 missing)\n",
      "      months_loan_duration < 11.5    to the left,  improve=2.102500, (0 missing)\n",
      "      installment_plan     splits as  RLR,         improve=2.064390, (0 missing)\n",
      "      savings_balance      splits as  RRLLL,       improve=2.042331, (0 missing)\n",
      "      employment_length    splits as  RLLLL,       improve=1.738413, (0 missing)\n",
      "  Surrogate splits:\n",
      "      amount               < 1186.5  to the left,  agree=0.68, adj=0.158, (0 split)\n",
      "      other_debtors        splits as  LLR,         agree=0.68, adj=0.158, (0 split)\n",
      "      existing_credits     < 1.5     to the right, agree=0.68, adj=0.158, (0 split)\n",
      "      foreign_worker       splits as  LR,          agree=0.68, adj=0.158, (0 split)\n",
      "      months_loan_duration < 11.5    to the left,  agree=0.66, adj=0.105, (0 split)\n",
      "\n",
      "Node number 27: 54 observations,    complexity param=0.01435407\n",
      "  predicted class=Yes  expected loss=0.2777778  P(node) =0.07714286\n",
      "    class counts:    15    39\n",
      "   probabilities: 0.278 0.722 \n",
      "  left son=54 (25 obs) right son=55 (29 obs)\n",
      "  Primary splits:\n",
      "      amount               < 1507.5  to the right, improve=3.807356, (0 missing)\n",
      "      personal_status      splits as  RRRL,        improve=2.320076, (0 missing)\n",
      "      employment_length    splits as  RRLLR,       improve=2.317701, (0 missing)\n",
      "      months_loan_duration < 10.5    to the right, improve=1.666667, (0 missing)\n",
      "      savings_balance      splits as  RRL-R,       improve=1.523810, (0 missing)\n",
      "  Surrogate splits:\n",
      "      installment_rate     < 3.5     to the left,  agree=0.648, adj=0.24, (0 split)\n",
      "      telephone            splits as  RL,          agree=0.630, adj=0.20, (0 split)\n",
      "      months_loan_duration < 13.5    to the right, agree=0.611, adj=0.16, (0 split)\n",
      "      savings_balance      splits as  RRL-R,       agree=0.611, adj=0.16, (0 split)\n",
      "      age                  < 25.5    to the right, agree=0.611, adj=0.16, (0 split)\n",
      "\n",
      "Node number 30: 7 observations\n",
      "  predicted class=No   expected loss=0.1428571  P(node) =0.01\n",
      "    class counts:     6     1\n",
      "   probabilities: 0.857 0.143 \n",
      "\n",
      "Node number 31: 65 observations,    complexity param=0.01116427\n",
      "  predicted class=Yes  expected loss=0.2461538  P(node) =0.09285714\n",
      "    class counts:    16    49\n",
      "   probabilities: 0.246 0.754 \n",
      "  left son=62 (41 obs) right son=63 (24 obs)\n",
      "  Primary splits:\n",
      "      age                  < 29.5    to the right, improve=2.0173860, (0 missing)\n",
      "      amount               < 3712    to the left,  improve=1.8964100, (0 missing)\n",
      "      purpose              splits as  RLLRLRRRR-,  improve=1.8567930, (0 missing)\n",
      "      months_loan_duration < 39.5    to the left,  improve=1.4001170, (0 missing)\n",
      "      property             splits as  LLLR,        improve=0.8872095, (0 missing)\n",
      "  Surrogate splits:\n",
      "      employment_length splits as  LRLL-, agree=0.677, adj=0.125, (0 split)\n",
      "      property          splits as  RLLL,  agree=0.677, adj=0.125, (0 split)\n",
      "      credit_history    splits as  RLLLL, agree=0.646, adj=0.042, (0 split)\n",
      "\n",
      "Node number 50: 12 observations\n",
      "  predicted class=No   expected loss=0  P(node) =0.01714286\n",
      "    class counts:    12     0\n",
      "   probabilities: 1.000 0.000 \n",
      "\n",
      "Node number 51: 160 observations,    complexity param=0.01036683\n",
      "  predicted class=No   expected loss=0.36875  P(node) =0.2285714\n",
      "    class counts:   101    59\n",
      "   probabilities: 0.631 0.369 \n",
      "  left son=102 (30 obs) right son=103 (130 obs)\n",
      "  Primary splits:\n",
      "      savings_balance   splits as  RLRRL,       improve=3.015705, (0 missing)\n",
      "      residence_history < 1.5     to the left,  improve=2.867523, (0 missing)\n",
      "      purpose           splits as  L-LR-RRR-L,  improve=2.411136, (0 missing)\n",
      "      credit_history    splits as  LRRRR,       improve=2.290488, (0 missing)\n",
      "      employment_length splits as  RRRLR,       improve=2.187500, (0 missing)\n",
      "\n",
      "Node number 52: 19 observations\n",
      "  predicted class=No   expected loss=0.1578947  P(node) =0.02714286\n",
      "    class counts:    16     3\n",
      "   probabilities: 0.842 0.158 \n",
      "\n",
      "Node number 53: 31 observations,    complexity param=0.01674641\n",
      "  predicted class=No   expected loss=0.483871  P(node) =0.04428571\n",
      "    class counts:    16    15\n",
      "   probabilities: 0.516 0.484 \n",
      "  left son=106 (16 obs) right son=107 (15 obs)\n",
      "  Primary splits:\n",
      "      checking_balance  splits as  R-L-,        improve=3.617204, (0 missing)\n",
      "      savings_balance   splits as  RRL-L,       improve=2.777349, (0 missing)\n",
      "      residence_history < 2.5     to the right, improve=2.519585, (0 missing)\n",
      "      telephone         splits as  RL,          improve=2.004879, (0 missing)\n",
      "      amount            < 1231    to the right, improve=1.527349, (0 missing)\n",
      "  Surrogate splits:\n",
      "      residence_history    < 3.5     to the right, agree=0.645, adj=0.267, (0 split)\n",
      "      age                  < 37.5    to the right, agree=0.645, adj=0.267, (0 split)\n",
      "      months_loan_duration < 7.5     to the right, agree=0.613, adj=0.200, (0 split)\n",
      "      credit_history       splits as  -L-RL,       agree=0.613, adj=0.200, (0 split)\n",
      "      purpose              splits as  -R--L---L-,  agree=0.613, adj=0.200, (0 split)\n",
      "\n",
      "Node number 54: 25 observations,    complexity param=0.01435407\n",
      "  predicted class=Yes  expected loss=0.48  P(node) =0.03571429\n",
      "    class counts:    12    13\n",
      "   probabilities: 0.480 0.520 \n",
      "  left son=108 (12 obs) right son=109 (13 obs)\n",
      "  Primary splits:\n",
      "      personal_status   splits as  RRRL,        improve=3.364615, (0 missing)\n",
      "      employment_length splits as  -RLLR,       improve=2.613333, (0 missing)\n",
      "      savings_balance   splits as  R-L-R,       improve=1.715294, (0 missing)\n",
      "      property          splits as  RLLR,        improve=1.080000, (0 missing)\n",
      "      amount            < 2263.5  to the left,  improve=1.067302, (0 missing)\n",
      "  Surrogate splits:\n",
      "      months_loan_duration < 22.5    to the left,  agree=0.68, adj=0.333, (0 split)\n",
      "      savings_balance      splits as  R-L-L,       agree=0.68, adj=0.333, (0 split)\n",
      "      employment_length    splits as  -RRLR,       agree=0.68, adj=0.333, (0 split)\n",
      "      residence_history    < 3.5     to the left,  agree=0.68, adj=0.333, (0 split)\n",
      "      age                  < 29.5    to the right, agree=0.68, adj=0.333, (0 split)\n",
      "\n",
      "Node number 55: 29 observations\n",
      "  predicted class=Yes  expected loss=0.1034483  P(node) =0.04142857\n",
      "    class counts:     3    26\n",
      "   probabilities: 0.103 0.897 \n",
      "\n",
      "Node number 62: 41 observations,    complexity param=0.01116427\n",
      "  predicted class=Yes  expected loss=0.3414634  P(node) =0.05857143\n",
      "    class counts:    14    27\n",
      "   probabilities: 0.341 0.659 \n",
      "  left son=124 (20 obs) right son=125 (21 obs)\n",
      "  Primary splits:\n",
      "      months_loan_duration < 47.5    to the left,  improve=3.396167, (0 missing)\n",
      "      purpose              splits as  RLLRLLRRR-,  improve=2.459024, (0 missing)\n",
      "      residence_history    < 3.5     to the left,  improve=2.419886, (0 missing)\n",
      "      property             splits as  LLLR,        improve=1.962834, (0 missing)\n",
      "      age                  < 40.5    to the left,  improve=1.962834, (0 missing)\n",
      "  Surrogate splits:\n",
      "      amount            < 3824    to the left,  agree=0.707, adj=0.40, (0 split)\n",
      "      checking_balance  splits as  R-L-,        agree=0.659, adj=0.30, (0 split)\n",
      "      purpose           splits as  RLRRRLRLL-,  agree=0.634, adj=0.25, (0 split)\n",
      "      installment_rate  < 2.5     to the left,  agree=0.634, adj=0.25, (0 split)\n",
      "      residence_history < 2.5     to the left,  agree=0.634, adj=0.25, (0 split)\n",
      "\n",
      "Node number 63: 24 observations\n",
      "  predicted class=Yes  expected loss=0.08333333  P(node) =0.03428571\n",
      "    class counts:     2    22\n",
      "   probabilities: 0.083 0.917 \n",
      "\n",
      "Node number 102: 30 observations\n",
      "  predicted class=No   expected loss=0.1666667  P(node) =0.04285714\n",
      "    class counts:    25     5\n",
      "   probabilities: 0.833 0.167 \n",
      "\n",
      "Node number 103: 130 observations,    complexity param=0.01036683\n",
      "  predicted class=No   expected loss=0.4153846  P(node) =0.1857143\n",
      "    class counts:    76    54\n",
      "   probabilities: 0.585 0.415 \n",
      "  left son=206 (23 obs) right son=207 (107 obs)\n",
      "  Primary splits:\n",
      "      residence_history    < 1.5     to the left,  improve=3.258738, (0 missing)\n",
      "      credit_history       splits as  LRRRR,       improve=2.585128, (0 missing)\n",
      "      personal_status      splits as  RRLL,        improve=2.066068, (0 missing)\n",
      "      months_loan_duration < 16.5    to the left,  improve=2.010256, (0 missing)\n",
      "      purpose              splits as  L-LL-RRR-L,  improve=1.980952, (0 missing)\n",
      "\n",
      "Node number 106: 16 observations\n",
      "  predicted class=No   expected loss=0.25  P(node) =0.02285714\n",
      "    class counts:    12     4\n",
      "   probabilities: 0.750 0.250 \n",
      "\n",
      "Node number 107: 15 observations\n",
      "  predicted class=Yes  expected loss=0.2666667  P(node) =0.02142857\n",
      "    class counts:     4    11\n",
      "   probabilities: 0.267 0.733 \n",
      "\n",
      "Node number 108: 12 observations\n",
      "  predicted class=No   expected loss=0.25  P(node) =0.01714286\n",
      "    class counts:     9     3\n",
      "   probabilities: 0.750 0.250 \n",
      "\n",
      "Node number 109: 13 observations\n",
      "  predicted class=Yes  expected loss=0.2307692  P(node) =0.01857143\n",
      "    class counts:     3    10\n",
      "   probabilities: 0.231 0.769 \n",
      "\n",
      "Node number 124: 20 observations,    complexity param=0.01116427\n",
      "  predicted class=No   expected loss=0.45  P(node) =0.02857143\n",
      "    class counts:    11     9\n",
      "   probabilities: 0.550 0.450 \n",
      "  left son=248 (13 obs) right son=249 (7 obs)\n",
      "  Primary splits:\n",
      "      installment_rate  < 3.5     to the left,  improve=3.5703300, (0 missing)\n",
      "      age               < 40.5    to the left,  improve=2.5000000, (0 missing)\n",
      "      purpose           splits as  RRL-LL-RR-,  improve=1.6979800, (0 missing)\n",
      "      employment_length splits as  RRLL-,       improve=0.8166667, (0 missing)\n",
      "      property          splits as  LLLR,        improve=0.8166667, (0 missing)\n",
      "  Surrogate splits:\n",
      "      purpose           splits as  LLL-LL-RR-,  agree=0.85, adj=0.571, (0 split)\n",
      "      credit_history    splits as  LLR-L,       agree=0.75, adj=0.286, (0 split)\n",
      "      amount            < 2960    to the right, agree=0.75, adj=0.286, (0 split)\n",
      "      employment_length splits as  RLLL-,       agree=0.75, adj=0.286, (0 split)\n",
      "      age               < 48.5    to the left,  agree=0.75, adj=0.286, (0 split)\n",
      "\n",
      "Node number 125: 21 observations\n",
      "  predicted class=Yes  expected loss=0.1428571  P(node) =0.03\n",
      "    class counts:     3    18\n",
      "   probabilities: 0.143 0.857 \n",
      "\n",
      "Node number 206: 23 observations\n",
      "  predicted class=No   expected loss=0.173913  P(node) =0.03285714\n",
      "    class counts:    19     4\n",
      "   probabilities: 0.826 0.174 \n",
      "\n",
      "Node number 207: 107 observations,    complexity param=0.01036683\n",
      "  predicted class=No   expected loss=0.4672897  P(node) =0.1528571\n",
      "    class counts:    57    50\n",
      "   probabilities: 0.533 0.467 \n",
      "  left son=414 (29 obs) right son=415 (78 obs)\n",
      "  Primary splits:\n",
      "      credit_history       splits as  LRRLR,       improve=2.915590, (0 missing)\n",
      "      personal_status      splits as  RRLL,        improve=2.735544, (0 missing)\n",
      "      months_loan_duration < 16.5    to the left,  improve=2.481284, (0 missing)\n",
      "      installment_rate     < 2.5     to the left,  improve=1.712469, (0 missing)\n",
      "      age                  < 39.5    to the right, improve=1.496136, (0 missing)\n",
      "  Surrogate splits:\n",
      "      existing_credits < 1.5     to the right, agree=0.776, adj=0.172, (0 split)\n",
      "      purpose          splits as  R-RL-RRR-R,  agree=0.738, adj=0.034, (0 split)\n",
      "\n",
      "Node number 248: 13 observations\n",
      "  predicted class=No   expected loss=0.2307692  P(node) =0.01857143\n",
      "    class counts:    10     3\n",
      "   probabilities: 0.769 0.231 \n",
      "\n",
      "Node number 249: 7 observations\n",
      "  predicted class=Yes  expected loss=0.1428571  P(node) =0.01\n",
      "    class counts:     1     6\n",
      "   probabilities: 0.143 0.857 \n",
      "\n",
      "Node number 414: 29 observations\n",
      "  predicted class=No   expected loss=0.2758621  P(node) =0.04142857\n",
      "    class counts:    21     8\n",
      "   probabilities: 0.724 0.276 \n",
      "\n",
      "Node number 415: 78 observations,    complexity param=0.01036683\n",
      "  predicted class=Yes  expected loss=0.4615385  P(node) =0.1114286\n",
      "    class counts:    36    42\n",
      "   probabilities: 0.462 0.538 \n",
      "  left son=830 (25 obs) right son=831 (53 obs)\n",
      "  Primary splits:\n",
      "      installment_rate < 2.5     to the left,  improve=2.343570, (0 missing)\n",
      "      amount           < 4038.5  to the left,  improve=2.086195, (0 missing)\n",
      "      telephone        splits as  LR,          improve=2.000712, (0 missing)\n",
      "      property         splits as  LRLR,        improve=1.641026, (0 missing)\n",
      "      dependents       < 1.5     to the left,  improve=1.561987, (0 missing)\n",
      "  Surrogate splits:\n",
      "      other_debtors splits as  L-R,         agree=0.718, adj=0.12, (0 split)\n",
      "      purpose       splits as  L-R--RLR-R,  agree=0.705, adj=0.08, (0 split)\n",
      "      age           < 21.5    to the left,  agree=0.705, adj=0.08, (0 split)\n",
      "      amount        < 3428.5  to the right, agree=0.692, adj=0.04, (0 split)\n",
      "      job           splits as  RRLR,        agree=0.692, adj=0.04, (0 split)\n",
      "\n",
      "Node number 830: 25 observations\n",
      "  predicted class=No   expected loss=0.36  P(node) =0.03571429\n",
      "    class counts:    16     9\n",
      "   probabilities: 0.640 0.360 \n",
      "\n",
      "Node number 831: 53 observations\n",
      "  predicted class=Yes  expected loss=0.3773585  P(node) =0.07571429\n",
      "    class counts:    20    33\n",
      "   probabilities: 0.377 0.623 \n",
      "\n"
     ]
    }
   ],
   "source": [
    "summary(rpart.model1)"
   ]
  },
  {
   "cell_type": "code",
   "execution_count": 58,
   "metadata": {},
   "outputs": [
    {
     "name": "stderr",
     "output_type": "stream",
     "text": [
      "ERROR while rich displaying an object: Error in vapply(part, format, character(nrow(part))): values must be length 6,\n",
      " but FUN(X[[9]]) result is length 36\n",
      "\n",
      "Traceback:\n",
      "1. FUN(X[[i]], ...)\n",
      "2. tryCatch(withCallingHandlers({\n",
      " .     rpr <- mime2repr[[mime]](obj)\n",
      " .     if (is.null(rpr)) \n",
      " .         return(NULL)\n",
      " .     prepare_content(is.raw(rpr), rpr)\n",
      " . }, error = error_handler), error = outer_handler)\n",
      "3. tryCatchList(expr, classes, parentenv, handlers)\n",
      "4. tryCatchOne(expr, names, parentenv, handlers[[1L]])\n",
      "5. doTryCatch(return(expr), name, parentenv, handler)\n",
      "6. withCallingHandlers({\n",
      " .     rpr <- mime2repr[[mime]](obj)\n",
      " .     if (is.null(rpr)) \n",
      " .         return(NULL)\n",
      " .     prepare_content(is.raw(rpr), rpr)\n",
      " . }, error = error_handler)\n",
      "7. mime2repr[[mime]](obj)\n",
      "8. repr_text.data.frame(obj)\n",
      "9. ellip_limit_arr(obj, ...)\n",
      "10. arr_parts_format(parts)\n",
      "11. structure(lapply(parts, arr_part_format), omit = attr(parts, \n",
      "  .     \"omit\"))\n",
      "12. lapply(parts, arr_part_format)\n",
      "13. FUN(X[[i]], ...)\n",
      "14. vapply(part, format, character(nrow(part)))\n"
     ]
    },
    {
     "data": {},
     "metadata": {},
     "output_type": "display_data"
    }
   ],
   "source": [
    "head(rpart.model1$frame)"
   ]
  },
  {
   "cell_type": "code",
   "execution_count": 59,
   "metadata": {},
   "outputs": [
    {
     "ename": "ERROR",
     "evalue": "Error in handle.box.palette.args(obj, trace, box.col, box.palette, pal.thresh, : object 'rpart.model' not found\n",
     "output_type": "error",
     "traceback": [
      "Error in handle.box.palette.args(obj, trace, box.col, box.palette, pal.thresh, : object 'rpart.model' not found\nTraceback:\n",
      "1. prp(rpart.model1, extra = 0, box.col = c(\"bisque\", \"white\")[rpart.model$frame$yval], \n .     cex = 0.6)",
      "2. handle.box.palette.args(obj, trace, box.col, box.palette, pal.thresh, \n .     pal.node.fun, node.fun.name, class.stats, node.labs)"
     ]
    }
   ],
   "source": [
    "# Plotting the tree\n",
    "prp(rpart.model1, extra=0,      # No extra information to be plotted\n",
    "    box.col=c(\"bisque\", \"white\")[rpart.model$frame$yval], # Box colour of outcome\n",
    "    cex=0.6)                   # Text size"
   ]
  },
  {
   "cell_type": "code",
   "execution_count": 60,
   "metadata": {},
   "outputs": [],
   "source": [
    "# Predicting the test dataset\n",
    "rpart.pred1 <- predict(rpart.model1, credit.test[-21], type=\"class\")"
   ]
  },
  {
   "cell_type": "code",
   "execution_count": 61,
   "metadata": {},
   "outputs": [
    {
     "name": "stdout",
     "output_type": "stream",
     "text": [
      "\n",
      " \n",
      "   Cell Contents\n",
      "|-------------------------|\n",
      "|                       N |\n",
      "|         N / Table Total |\n",
      "|-------------------------|\n",
      "\n",
      " \n",
      "Total Observations in Table:  300 \n",
      "\n",
      " \n",
      "               | RPART Predicted Default \n",
      "Actual Default |        No |       Yes | Row Total | \n",
      "---------------|-----------|-----------|-----------|\n",
      "            No |       185 |        24 |       209 | \n",
      "               |     0.617 |     0.080 |           | \n",
      "---------------|-----------|-----------|-----------|\n",
      "           Yes |        54 |        37 |        91 | \n",
      "               |     0.180 |     0.123 |           | \n",
      "---------------|-----------|-----------|-----------|\n",
      "  Column Total |       239 |        61 |       300 | \n",
      "---------------|-----------|-----------|-----------|\n",
      "\n",
      " \n"
     ]
    },
    {
     "data": {
      "text/html": [
       "0.74"
      ],
      "text/latex": [
       "0.74"
      ],
      "text/markdown": [
       "0.74"
      ],
      "text/plain": [
       "[1] 0.74"
      ]
     },
     "metadata": {},
     "output_type": "display_data"
    }
   ],
   "source": [
    "# Evaluating the model on the basis of confusion matrix\n",
    "#install.packages(\"gmodels\")\n",
    "library(gmodels)\n",
    "m1 <- CrossTable(credit.test$default, rpart.pred1, \n",
    "           prop.chisq = FALSE, prop.c = FALSE, prop.r = FALSE,\n",
    "           dnn = c('Actual Default', 'RPART Predicted Default'))\n",
    "\n",
    "# ACCURACY =\n",
    "m1$prop.tbl[1]+m1$prop.tbl[4]"
   ]
  },
  {
   "cell_type": "code",
   "execution_count": 62,
   "metadata": {},
   "outputs": [
    {
     "name": "stdout",
     "output_type": "stream",
     "text": [
      "\n",
      "Classification tree:\n",
      "rpart(formula = default ~ ., data = credit.train, method = \"class\")\n",
      "\n",
      "Variables actually used in tree construction:\n",
      " [1] age                  amount               checking_balance    \n",
      " [4] credit_history       employment_length    installment_rate    \n",
      " [7] months_loan_duration other_debtors        personal_status     \n",
      "[10] purpose              residence_history    savings_balance     \n",
      "\n",
      "Root node error: 209/700 = 0.29857\n",
      "\n",
      "n= 700 \n",
      "\n",
      "        CP nsplit rel error  xerror     xstd\n",
      "1 0.050239      0   1.00000 1.00000 0.057932\n",
      "2 0.033493      4   0.78469 0.96172 0.057273\n",
      "3 0.023923      5   0.75120 0.90909 0.056295\n",
      "4 0.016746      6   0.72727 0.93301 0.056750\n",
      "5 0.014354      8   0.69378 0.94737 0.057015\n",
      "6 0.011164     10   0.66507 0.93301 0.056750\n",
      "7 0.010367     13   0.63158 0.94258 0.056927\n",
      "8 0.010000     19   0.56938 0.96651 0.057358\n"
     ]
    }
   ],
   "source": [
    "# Improving the model\n",
    "printcp(rpart.model1)                    # Displays cp table for fitted rpart Object"
   ]
  },
  {
   "cell_type": "code",
   "execution_count": 63,
   "metadata": {},
   "outputs": [
    {
     "data": {
      "text/plain": [
       "n= 700 \n",
       "\n",
       "node), split, n, loss, yval, (yprob)\n",
       "      * denotes terminal node\n",
       "\n",
       " 1) root 700 209 No (0.7014286 0.2985714)  \n",
       "   2) checking_balance=> 200 DM,unknown 324  43 No (0.8672840 0.1327160) *\n",
       "   3) checking_balance=< 0 DM,1 - 200 DM 376 166 No (0.5585106 0.4414894)  \n",
       "     6) months_loan_duration< 31.5 297 116 No (0.6094276 0.3905724)  \n",
       "      12) purpose=business,car (used),domestic appliances,furniture,others,radio/tv,retraining 193  59 No (0.6943005 0.3056995) *\n",
       "      13) purpose=car (new),education,repairs 104  47 Yes (0.4519231 0.5480769)  \n",
       "        26) age>=34.5 50  18 No (0.6400000 0.3600000) *\n",
       "        27) age< 34.5 54  15 Yes (0.2777778 0.7222222) *\n",
       "     7) months_loan_duration>=31.5 79  29 Yes (0.3670886 0.6329114)  \n",
       "      14) employment_length=unemployed 7   0 No (1.0000000 0.0000000) *\n",
       "      15) employment_length=> 7 yrs,0 - 1 yrs,1 - 4 yrs,4 - 7 yrs 72  22 Yes (0.3055556 0.6944444) *"
      ]
     },
     "metadata": {},
     "output_type": "display_data"
    }
   ],
   "source": [
    "# Prediction error rate in training data = Root.node.error * rel.error * 100%\n",
    "# Prediction error rate in cross-validation = Root.node.error * x.error * 100%\n",
    "# Hence we want the cp value (with a simpler tree) that minimizes the xerror.\n",
    "\n",
    "# selecting cp=0.024\n",
    "\n",
    "rpart.model2 <- rpart(default ~ .,\n",
    "                      data=credit.train,  # Dataset\n",
    "                      method=\"class\",     # Method of classification\n",
    "                      cp=0.024)          # using best cp for minumum error with simple tree            \n",
    "rpart.model2"
   ]
  },
  {
   "cell_type": "code",
   "execution_count": 64,
   "metadata": {},
   "outputs": [
    {
     "name": "stdout",
     "output_type": "stream",
     "text": [
      "\n",
      " \n",
      "   Cell Contents\n",
      "|-------------------------|\n",
      "|                       N |\n",
      "|         N / Table Total |\n",
      "|-------------------------|\n",
      "\n",
      " \n",
      "Total Observations in Table:  300 \n",
      "\n",
      " \n",
      "               | RPART Predicted Default \n",
      "Actual Default |        No |       Yes | Row Total | \n",
      "---------------|-----------|-----------|-----------|\n",
      "            No |       188 |        21 |       209 | \n",
      "               |     0.627 |     0.070 |           | \n",
      "---------------|-----------|-----------|-----------|\n",
      "           Yes |        59 |        32 |        91 | \n",
      "               |     0.197 |     0.107 |           | \n",
      "---------------|-----------|-----------|-----------|\n",
      "  Column Total |       247 |        53 |       300 | \n",
      "---------------|-----------|-----------|-----------|\n",
      "\n",
      " \n"
     ]
    },
    {
     "data": {
      "text/html": [
       "0.733333333333333"
      ],
      "text/latex": [
       "0.733333333333333"
      ],
      "text/markdown": [
       "0.733333333333333"
      ],
      "text/plain": [
       "[1] 0.7333333"
      ]
     },
     "metadata": {},
     "output_type": "display_data"
    }
   ],
   "source": [
    "rpart.pred2 <- predict(rpart.model2, credit.test[-21], type=\"class\")\n",
    "m2 <- CrossTable(credit.test$default, rpart.pred2, \n",
    "                 prop.chisq = FALSE, prop.c = FALSE, prop.r = FALSE,\n",
    "                 dnn = c('Actual Default', 'RPART Predicted Default'))\n",
    "\n",
    "# ACCURACY =\n",
    "m2$prop.tbl[1]+m2$prop.tbl[4]\n",
    "# Accuracy improved from 0.8 to 0.85 by controlling cp"
   ]
  },
  {
   "cell_type": "code",
   "execution_count": 65,
   "metadata": {},
   "outputs": [
    {
     "ename": "ERROR",
     "evalue": "Error in rpart(default ~ ., data = credit.na, method = \"class\", cp = bestcp, : object 'bestcp' not found\n",
     "output_type": "error",
     "traceback": [
      "Error in rpart(default ~ ., data = credit.na, method = \"class\", cp = bestcp, : object 'bestcp' not found\nTraceback:\n",
      "1. rpart(default ~ ., data = credit.na, method = \"class\", cp = bestcp, \n .     na.action = na.rpart)"
     ]
    }
   ],
   "source": [
    "######### TASK(6) using RPART  ############################################\n",
    "credit.na <- credit.train\n",
    "set.seed(123)\n",
    "\n",
    "## artificially drop some data values.\n",
    "for (i in 1:4) credit.na[sample(150, sample(20)), i] <- NA\n",
    "\n",
    "rpart.model3 <- rpart(default ~ .,\n",
    "                      data=credit.na,     # Dataset with missing values\n",
    "                      method=\"class\",     # Method of classification\n",
    "                      cp=bestcp,\n",
    "                      na.action = na.rpart)# rpart.na handling            \n",
    "summary(rpart.model3)"
   ]
  },
  {
   "cell_type": "code",
   "execution_count": 66,
   "metadata": {},
   "outputs": [
    {
     "ename": "ERROR",
     "evalue": "Error in predict(rpart.model3, credit.test[-21], type = \"class\"): object 'rpart.model3' not found\n",
     "output_type": "error",
     "traceback": [
      "Error in predict(rpart.model3, credit.test[-21], type = \"class\"): object 'rpart.model3' not found\nTraceback:\n",
      "1. predict(rpart.model3, credit.test[-21], type = \"class\")"
     ]
    }
   ],
   "source": [
    "rpart.pred3 <- predict(rpart.model3, credit.test[-21], type=\"class\")\n",
    "m3 <- CrossTable(credit.test$default, rpart.pred3, \n",
    "                 prop.chisq = FALSE, prop.c = FALSE, prop.r = FALSE,\n",
    "                 dnn = c('Actual Default', 'RPART Predicted Default'))\n",
    "\n",
    "# ACCURACY =\n",
    "m3$prop.tbl[1]+m3$prop.tbl[4]\n",
    "# RPART HANDLES THE MISSING VALUES VERY WELL"
   ]
  },
  {
   "cell_type": "code",
   "execution_count": 43,
   "metadata": {},
   "outputs": [
    {
     "name": "stderr",
     "output_type": "stream",
     "text": [
      "randomForest 4.6-12\n",
      "Type rfNews() to see new features/changes/bug fixes.\n"
     ]
    },
    {
     "data": {
      "text/html": [
       "500"
      ],
      "text/latex": [
       "500"
      ],
      "text/markdown": [
       "500"
      ],
      "text/plain": [
       "[1] 500"
      ]
     },
     "metadata": {},
     "output_type": "display_data"
    },
    {
     "name": "stdout",
     "output_type": "stream",
     "text": [
      "\n",
      " \n",
      "   Cell Contents\n",
      "|-------------------------|\n",
      "|                       N |\n",
      "|         N / Table Total |\n",
      "|-------------------------|\n",
      "\n",
      " \n",
      "Total Observations in Table:  300 \n",
      "\n",
      " \n",
      "               | randomForest Predicted Default \n",
      "Actual Default |        No |       Yes | Row Total | \n",
      "---------------|-----------|-----------|-----------|\n",
      "            No |       198 |        11 |       209 | \n",
      "               |     0.660 |     0.037 |           | \n",
      "---------------|-----------|-----------|-----------|\n",
      "           Yes |        67 |        24 |        91 | \n",
      "               |     0.223 |     0.080 |           | \n",
      "---------------|-----------|-----------|-----------|\n",
      "  Column Total |       265 |        35 |       300 | \n",
      "---------------|-----------|-----------|-----------|\n",
      "\n",
      " \n"
     ]
    },
    {
     "data": {
      "text/html": [
       "0.74"
      ],
      "text/latex": [
       "0.74"
      ],
      "text/markdown": [
       "0.74"
      ],
      "text/plain": [
       "[1] 0.74"
      ]
     },
     "metadata": {},
     "output_type": "display_data"
    },
    {
     "data": {
      "text/html": [
       "1000"
      ],
      "text/latex": [
       "1000"
      ],
      "text/markdown": [
       "1000"
      ],
      "text/plain": [
       "[1] 1000"
      ]
     },
     "metadata": {},
     "output_type": "display_data"
    },
    {
     "name": "stdout",
     "output_type": "stream",
     "text": [
      "\n",
      " \n",
      "   Cell Contents\n",
      "|-------------------------|\n",
      "|                       N |\n",
      "|         N / Table Total |\n",
      "|-------------------------|\n",
      "\n",
      " \n",
      "Total Observations in Table:  300 \n",
      "\n",
      " \n",
      "               | randomForest Predicted Default \n",
      "Actual Default |        No |       Yes | Row Total | \n",
      "---------------|-----------|-----------|-----------|\n",
      "            No |       197 |        12 |       209 | \n",
      "               |     0.657 |     0.040 |           | \n",
      "---------------|-----------|-----------|-----------|\n",
      "           Yes |        65 |        26 |        91 | \n",
      "               |     0.217 |     0.087 |           | \n",
      "---------------|-----------|-----------|-----------|\n",
      "  Column Total |       262 |        38 |       300 | \n",
      "---------------|-----------|-----------|-----------|\n",
      "\n",
      " \n"
     ]
    },
    {
     "data": {
      "text/html": [
       "0.743333333333333"
      ],
      "text/latex": [
       "0.743333333333333"
      ],
      "text/markdown": [
       "0.743333333333333"
      ],
      "text/plain": [
       "[1] 0.7433333"
      ]
     },
     "metadata": {},
     "output_type": "display_data"
    },
    {
     "name": "stderr",
     "output_type": "stream",
     "text": [
      "Loading required package: lattice\n",
      "Loading required package: ggplot2\n",
      "\n",
      "Attaching package: 'ggplot2'\n",
      "\n",
      "The following object is masked from 'package:randomForest':\n",
      "\n",
      "    margin\n",
      "\n"
     ]
    },
    {
     "name": "stdout",
     "output_type": "stream",
     "text": [
      "+ Fold1.Rep01: mtry= 2 \n",
      "- Fold1.Rep01: mtry= 2 \n",
      "+ Fold1.Rep01: mtry=25 \n",
      "- Fold1.Rep01: mtry=25 \n",
      "+ Fold1.Rep01: mtry=48 \n",
      "- Fold1.Rep01: mtry=48 \n",
      "+ Fold2.Rep01: mtry= 2 \n",
      "- Fold2.Rep01: mtry= 2 \n",
      "+ Fold2.Rep01: mtry=25 \n",
      "- Fold2.Rep01: mtry=25 \n",
      "+ Fold2.Rep01: mtry=48 \n",
      "- Fold2.Rep01: mtry=48 \n",
      "+ Fold3.Rep01: mtry= 2 \n",
      "- Fold3.Rep01: mtry= 2 \n",
      "+ Fold3.Rep01: mtry=25 \n",
      "- Fold3.Rep01: mtry=25 \n",
      "+ Fold3.Rep01: mtry=48 \n",
      "- Fold3.Rep01: mtry=48 \n",
      "+ Fold4.Rep01: mtry= 2 \n",
      "- Fold4.Rep01: mtry= 2 \n",
      "+ Fold4.Rep01: mtry=25 \n",
      "- Fold4.Rep01: mtry=25 \n",
      "+ Fold4.Rep01: mtry=48 \n",
      "- Fold4.Rep01: mtry=48 \n",
      "+ Fold5.Rep01: mtry= 2 \n",
      "- Fold5.Rep01: mtry= 2 \n",
      "+ Fold5.Rep01: mtry=25 \n",
      "- Fold5.Rep01: mtry=25 \n",
      "+ Fold5.Rep01: mtry=48 \n",
      "- Fold5.Rep01: mtry=48 \n",
      "+ Fold1.Rep02: mtry= 2 \n",
      "- Fold1.Rep02: mtry= 2 \n",
      "+ Fold1.Rep02: mtry=25 \n",
      "- Fold1.Rep02: mtry=25 \n",
      "+ Fold1.Rep02: mtry=48 \n",
      "- Fold1.Rep02: mtry=48 \n",
      "+ Fold2.Rep02: mtry= 2 \n",
      "- Fold2.Rep02: mtry= 2 \n",
      "+ Fold2.Rep02: mtry=25 \n",
      "- Fold2.Rep02: mtry=25 \n",
      "+ Fold2.Rep02: mtry=48 \n",
      "- Fold2.Rep02: mtry=48 \n",
      "+ Fold3.Rep02: mtry= 2 \n",
      "- Fold3.Rep02: mtry= 2 \n",
      "+ Fold3.Rep02: mtry=25 \n",
      "- Fold3.Rep02: mtry=25 \n",
      "+ Fold3.Rep02: mtry=48 \n",
      "- Fold3.Rep02: mtry=48 \n",
      "+ Fold4.Rep02: mtry= 2 \n",
      "- Fold4.Rep02: mtry= 2 \n",
      "+ Fold4.Rep02: mtry=25 \n",
      "- Fold4.Rep02: mtry=25 \n",
      "+ Fold4.Rep02: mtry=48 \n",
      "- Fold4.Rep02: mtry=48 \n",
      "+ Fold5.Rep02: mtry= 2 \n",
      "- Fold5.Rep02: mtry= 2 \n",
      "+ Fold5.Rep02: mtry=25 \n",
      "- Fold5.Rep02: mtry=25 \n",
      "+ Fold5.Rep02: mtry=48 \n",
      "- Fold5.Rep02: mtry=48 \n",
      "+ Fold1.Rep03: mtry= 2 \n",
      "- Fold1.Rep03: mtry= 2 \n",
      "+ Fold1.Rep03: mtry=25 \n",
      "- Fold1.Rep03: mtry=25 \n",
      "+ Fold1.Rep03: mtry=48 \n",
      "- Fold1.Rep03: mtry=48 \n",
      "+ Fold2.Rep03: mtry= 2 \n",
      "- Fold2.Rep03: mtry= 2 \n",
      "+ Fold2.Rep03: mtry=25 \n",
      "- Fold2.Rep03: mtry=25 \n",
      "+ Fold2.Rep03: mtry=48 \n",
      "- Fold2.Rep03: mtry=48 \n",
      "+ Fold3.Rep03: mtry= 2 \n",
      "- Fold3.Rep03: mtry= 2 \n",
      "+ Fold3.Rep03: mtry=25 \n",
      "- Fold3.Rep03: mtry=25 \n",
      "+ Fold3.Rep03: mtry=48 \n",
      "- Fold3.Rep03: mtry=48 \n",
      "+ Fold4.Rep03: mtry= 2 \n",
      "- Fold4.Rep03: mtry= 2 \n",
      "+ Fold4.Rep03: mtry=25 \n",
      "- Fold4.Rep03: mtry=25 \n",
      "+ Fold4.Rep03: mtry=48 \n",
      "- Fold4.Rep03: mtry=48 \n",
      "+ Fold5.Rep03: mtry= 2 \n",
      "- Fold5.Rep03: mtry= 2 \n",
      "+ Fold5.Rep03: mtry=25 \n",
      "- Fold5.Rep03: mtry=25 \n",
      "+ Fold5.Rep03: mtry=48 \n",
      "- Fold5.Rep03: mtry=48 \n",
      "+ Fold1.Rep04: mtry= 2 \n",
      "- Fold1.Rep04: mtry= 2 \n",
      "+ Fold1.Rep04: mtry=25 \n",
      "- Fold1.Rep04: mtry=25 \n",
      "+ Fold1.Rep04: mtry=48 \n",
      "- Fold1.Rep04: mtry=48 \n",
      "+ Fold2.Rep04: mtry= 2 \n",
      "- Fold2.Rep04: mtry= 2 \n",
      "+ Fold2.Rep04: mtry=25 \n",
      "- Fold2.Rep04: mtry=25 \n",
      "+ Fold2.Rep04: mtry=48 \n",
      "- Fold2.Rep04: mtry=48 \n",
      "+ Fold3.Rep04: mtry= 2 \n",
      "- Fold3.Rep04: mtry= 2 \n",
      "+ Fold3.Rep04: mtry=25 \n",
      "- Fold3.Rep04: mtry=25 \n",
      "+ Fold3.Rep04: mtry=48 \n",
      "- Fold3.Rep04: mtry=48 \n",
      "+ Fold4.Rep04: mtry= 2 \n",
      "- Fold4.Rep04: mtry= 2 \n",
      "+ Fold4.Rep04: mtry=25 \n",
      "- Fold4.Rep04: mtry=25 \n",
      "+ Fold4.Rep04: mtry=48 \n",
      "- Fold4.Rep04: mtry=48 \n",
      "+ Fold5.Rep04: mtry= 2 \n",
      "- Fold5.Rep04: mtry= 2 \n",
      "+ Fold5.Rep04: mtry=25 \n",
      "- Fold5.Rep04: mtry=25 \n",
      "+ Fold5.Rep04: mtry=48 \n",
      "- Fold5.Rep04: mtry=48 \n",
      "+ Fold1.Rep05: mtry= 2 \n",
      "- Fold1.Rep05: mtry= 2 \n",
      "+ Fold1.Rep05: mtry=25 \n",
      "- Fold1.Rep05: mtry=25 \n",
      "+ Fold1.Rep05: mtry=48 \n",
      "- Fold1.Rep05: mtry=48 \n",
      "+ Fold2.Rep05: mtry= 2 \n",
      "- Fold2.Rep05: mtry= 2 \n",
      "+ Fold2.Rep05: mtry=25 \n",
      "- Fold2.Rep05: mtry=25 \n",
      "+ Fold2.Rep05: mtry=48 \n",
      "- Fold2.Rep05: mtry=48 \n",
      "+ Fold3.Rep05: mtry= 2 \n",
      "- Fold3.Rep05: mtry= 2 \n",
      "+ Fold3.Rep05: mtry=25 \n",
      "- Fold3.Rep05: mtry=25 \n",
      "+ Fold3.Rep05: mtry=48 \n",
      "- Fold3.Rep05: mtry=48 \n",
      "+ Fold4.Rep05: mtry= 2 \n",
      "- Fold4.Rep05: mtry= 2 \n",
      "+ Fold4.Rep05: mtry=25 \n",
      "- Fold4.Rep05: mtry=25 \n",
      "+ Fold4.Rep05: mtry=48 \n",
      "- Fold4.Rep05: mtry=48 \n",
      "+ Fold5.Rep05: mtry= 2 \n",
      "- Fold5.Rep05: mtry= 2 \n",
      "+ Fold5.Rep05: mtry=25 \n",
      "- Fold5.Rep05: mtry=25 \n",
      "+ Fold5.Rep05: mtry=48 \n",
      "- Fold5.Rep05: mtry=48 \n",
      "+ Fold1.Rep06: mtry= 2 \n",
      "- Fold1.Rep06: mtry= 2 \n",
      "+ Fold1.Rep06: mtry=25 \n",
      "- Fold1.Rep06: mtry=25 \n",
      "+ Fold1.Rep06: mtry=48 \n",
      "- Fold1.Rep06: mtry=48 \n",
      "+ Fold2.Rep06: mtry= 2 \n",
      "- Fold2.Rep06: mtry= 2 \n",
      "+ Fold2.Rep06: mtry=25 \n",
      "- Fold2.Rep06: mtry=25 \n",
      "+ Fold2.Rep06: mtry=48 \n",
      "- Fold2.Rep06: mtry=48 \n",
      "+ Fold3.Rep06: mtry= 2 \n",
      "- Fold3.Rep06: mtry= 2 \n",
      "+ Fold3.Rep06: mtry=25 \n",
      "- Fold3.Rep06: mtry=25 \n",
      "+ Fold3.Rep06: mtry=48 \n",
      "- Fold3.Rep06: mtry=48 \n",
      "+ Fold4.Rep06: mtry= 2 \n",
      "- Fold4.Rep06: mtry= 2 \n",
      "+ Fold4.Rep06: mtry=25 \n",
      "- Fold4.Rep06: mtry=25 \n",
      "+ Fold4.Rep06: mtry=48 \n",
      "- Fold4.Rep06: mtry=48 \n",
      "+ Fold5.Rep06: mtry= 2 \n",
      "- Fold5.Rep06: mtry= 2 \n",
      "+ Fold5.Rep06: mtry=25 \n",
      "- Fold5.Rep06: mtry=25 \n",
      "+ Fold5.Rep06: mtry=48 \n",
      "- Fold5.Rep06: mtry=48 \n",
      "+ Fold1.Rep07: mtry= 2 \n",
      "- Fold1.Rep07: mtry= 2 \n",
      "+ Fold1.Rep07: mtry=25 \n",
      "- Fold1.Rep07: mtry=25 \n",
      "+ Fold1.Rep07: mtry=48 \n",
      "- Fold1.Rep07: mtry=48 \n",
      "+ Fold2.Rep07: mtry= 2 \n",
      "- Fold2.Rep07: mtry= 2 \n",
      "+ Fold2.Rep07: mtry=25 \n",
      "- Fold2.Rep07: mtry=25 \n",
      "+ Fold2.Rep07: mtry=48 \n",
      "- Fold2.Rep07: mtry=48 \n",
      "+ Fold3.Rep07: mtry= 2 \n",
      "- Fold3.Rep07: mtry= 2 \n",
      "+ Fold3.Rep07: mtry=25 \n",
      "- Fold3.Rep07: mtry=25 \n",
      "+ Fold3.Rep07: mtry=48 \n",
      "- Fold3.Rep07: mtry=48 \n",
      "+ Fold4.Rep07: mtry= 2 \n",
      "- Fold4.Rep07: mtry= 2 \n",
      "+ Fold4.Rep07: mtry=25 \n",
      "- Fold4.Rep07: mtry=25 \n",
      "+ Fold4.Rep07: mtry=48 \n",
      "- Fold4.Rep07: mtry=48 \n",
      "+ Fold5.Rep07: mtry= 2 \n",
      "- Fold5.Rep07: mtry= 2 \n",
      "+ Fold5.Rep07: mtry=25 \n",
      "- Fold5.Rep07: mtry=25 \n",
      "+ Fold5.Rep07: mtry=48 \n",
      "- Fold5.Rep07: mtry=48 \n",
      "+ Fold1.Rep08: mtry= 2 \n",
      "- Fold1.Rep08: mtry= 2 \n",
      "+ Fold1.Rep08: mtry=25 \n",
      "- Fold1.Rep08: mtry=25 \n",
      "+ Fold1.Rep08: mtry=48 \n",
      "- Fold1.Rep08: mtry=48 \n",
      "+ Fold2.Rep08: mtry= 2 \n",
      "- Fold2.Rep08: mtry= 2 \n",
      "+ Fold2.Rep08: mtry=25 \n",
      "- Fold2.Rep08: mtry=25 \n",
      "+ Fold2.Rep08: mtry=48 \n",
      "- Fold2.Rep08: mtry=48 \n",
      "+ Fold3.Rep08: mtry= 2 \n",
      "- Fold3.Rep08: mtry= 2 \n",
      "+ Fold3.Rep08: mtry=25 \n",
      "- Fold3.Rep08: mtry=25 \n",
      "+ Fold3.Rep08: mtry=48 \n",
      "- Fold3.Rep08: mtry=48 \n",
      "+ Fold4.Rep08: mtry= 2 \n",
      "- Fold4.Rep08: mtry= 2 \n",
      "+ Fold4.Rep08: mtry=25 \n",
      "- Fold4.Rep08: mtry=25 \n",
      "+ Fold4.Rep08: mtry=48 \n",
      "- Fold4.Rep08: mtry=48 \n",
      "+ Fold5.Rep08: mtry= 2 \n",
      "- Fold5.Rep08: mtry= 2 \n",
      "+ Fold5.Rep08: mtry=25 \n",
      "- Fold5.Rep08: mtry=25 \n",
      "+ Fold5.Rep08: mtry=48 \n",
      "- Fold5.Rep08: mtry=48 \n",
      "+ Fold1.Rep09: mtry= 2 \n",
      "- Fold1.Rep09: mtry= 2 \n",
      "+ Fold1.Rep09: mtry=25 \n",
      "- Fold1.Rep09: mtry=25 \n",
      "+ Fold1.Rep09: mtry=48 \n",
      "- Fold1.Rep09: mtry=48 \n",
      "+ Fold2.Rep09: mtry= 2 \n",
      "- Fold2.Rep09: mtry= 2 \n",
      "+ Fold2.Rep09: mtry=25 \n",
      "- Fold2.Rep09: mtry=25 \n",
      "+ Fold2.Rep09: mtry=48 \n",
      "- Fold2.Rep09: mtry=48 \n",
      "+ Fold3.Rep09: mtry= 2 \n",
      "- Fold3.Rep09: mtry= 2 \n",
      "+ Fold3.Rep09: mtry=25 \n",
      "- Fold3.Rep09: mtry=25 \n",
      "+ Fold3.Rep09: mtry=48 \n",
      "- Fold3.Rep09: mtry=48 \n",
      "+ Fold4.Rep09: mtry= 2 \n",
      "- Fold4.Rep09: mtry= 2 \n",
      "+ Fold4.Rep09: mtry=25 \n",
      "- Fold4.Rep09: mtry=25 \n",
      "+ Fold4.Rep09: mtry=48 \n",
      "- Fold4.Rep09: mtry=48 \n",
      "+ Fold5.Rep09: mtry= 2 \n",
      "- Fold5.Rep09: mtry= 2 \n",
      "+ Fold5.Rep09: mtry=25 \n",
      "- Fold5.Rep09: mtry=25 \n",
      "+ Fold5.Rep09: mtry=48 \n",
      "- Fold5.Rep09: mtry=48 \n",
      "+ Fold1.Rep10: mtry= 2 \n",
      "- Fold1.Rep10: mtry= 2 \n",
      "+ Fold1.Rep10: mtry=25 \n",
      "- Fold1.Rep10: mtry=25 \n",
      "+ Fold1.Rep10: mtry=48 \n",
      "- Fold1.Rep10: mtry=48 \n",
      "+ Fold2.Rep10: mtry= 2 \n",
      "- Fold2.Rep10: mtry= 2 \n",
      "+ Fold2.Rep10: mtry=25 \n",
      "- Fold2.Rep10: mtry=25 \n",
      "+ Fold2.Rep10: mtry=48 \n",
      "- Fold2.Rep10: mtry=48 \n",
      "+ Fold3.Rep10: mtry= 2 \n",
      "- Fold3.Rep10: mtry= 2 \n",
      "+ Fold3.Rep10: mtry=25 \n",
      "- Fold3.Rep10: mtry=25 \n",
      "+ Fold3.Rep10: mtry=48 \n",
      "- Fold3.Rep10: mtry=48 \n",
      "+ Fold4.Rep10: mtry= 2 \n",
      "- Fold4.Rep10: mtry= 2 \n",
      "+ Fold4.Rep10: mtry=25 \n",
      "- Fold4.Rep10: mtry=25 \n",
      "+ Fold4.Rep10: mtry=48 \n",
      "- Fold4.Rep10: mtry=48 \n",
      "+ Fold5.Rep10: mtry= 2 \n",
      "- Fold5.Rep10: mtry= 2 \n",
      "+ Fold5.Rep10: mtry=25 \n",
      "- Fold5.Rep10: mtry=25 \n",
      "+ Fold5.Rep10: mtry=48 \n",
      "- Fold5.Rep10: mtry=48 \n",
      "Aggregating results\n",
      "Selecting tuning parameters\n",
      "Fitting mtry = 25 on full training set\n"
     ]
    },
    {
     "data": {
      "text/plain": [
       "Random Forest \n",
       "\n",
       "700 samples\n",
       " 20 predictor\n",
       "  2 classes: 'No', 'Yes' \n",
       "\n",
       "No pre-processing\n",
       "Resampling: Cross-Validated (5 fold, repeated 10 times) \n",
       "Summary of sample sizes: 560, 560, 560, 559, 561, 560, ... \n",
       "Resampling results across tuning parameters:\n",
       "\n",
       "  mtry  Accuracy   Kappa     \n",
       "   2    0.7174339  0.08814107\n",
       "  25    0.7498515  0.33503990\n",
       "  48    0.7462892  0.33542378\n",
       "\n",
       "Accuracy was used to select the optimal model using the largest value.\n",
       "The final value used for the model was mtry = 25."
      ]
     },
     "metadata": {},
     "output_type": "display_data"
    },
    {
     "data": {},
     "metadata": {},
     "output_type": "display_data"
    },
    {
     "data": {
      "image/png": "[encoded data removed]",
      "text/plain": [
       "Plot with title \"rf.model1\""
      ]
     },
     "metadata": {},
     "output_type": "display_data"
    },
    {
     "ename": "ERROR",
     "evalue": "Error in predict(rfm, credit.test[-21]): object 'rfm' not found\n",
     "output_type": "error",
     "traceback": [
      "Error in predict(rfm, credit.test[-21]): object 'rfm' not found\nTraceback:\n",
      "1. predict(rfm, credit.test[-21])"
     ]
    },
    {
     "data": {
      "image/png": "[encoded data removed]",
      "text/plain": [
       "plot without title"
      ]
     },
     "metadata": {},
     "output_type": "display_data"
    }
   ],
   "source": [
    "###### TASK(2,3,4,5) using RANDOM FOREST #######\n",
    "library(randomForest)           # Load the required libraries\n",
    "library(gmodels)\n",
    "set.seed(123)\n",
    "\n",
    "rf.model1 <- randomForest(default ~ ., \n",
    "                     data = credit.train, \n",
    "                     importance=T, proximity=T)\n",
    "rf.model1$ntree                  # model automatically selected ntree=500\n",
    "\n",
    "\n",
    "# Lets predict the test data\n",
    "rf.pred1 <- predict(rf.model1, credit.test[-21], type=\"class\")\n",
    "\n",
    "m1 <- CrossTable(credit.test$default, rf.pred1, \n",
    "                 prop.chisq = FALSE, prop.c = FALSE, prop.r = FALSE,\n",
    "                 dnn = c('Actual Default', 'randomForest Predicted Default'))\n",
    "#ACCURACY =\n",
    "m1$prop.tbl[1]+m1$prop.tbl[4]\n",
    "\n"
   ]
  },
  {
   "cell_type": "code",
   "execution_count": 67,
   "metadata": {},
   "outputs": [
    {
     "data": {
      "image/png": "[encoded data removed]",
      "text/plain": [
       "Plot with title \"rf.model1\""
      ]
     },
     "metadata": {},
     "output_type": "display_data"
    }
   ],
   "source": [
    "plot(rf.model1)  # Plotting the classification error with number of trees\n",
    "# As seen above classification error on training data decreases with number of trees"
   ]
  },
  {
   "cell_type": "code",
   "execution_count": 68,
   "metadata": {},
   "outputs": [
    {
     "data": {
      "text/html": [
       "1000"
      ],
      "text/latex": [
       "1000"
      ],
      "text/markdown": [
       "1000"
      ],
      "text/plain": [
       "[1] 1000"
      ]
     },
     "metadata": {},
     "output_type": "display_data"
    }
   ],
   "source": [
    "rf.model2 <- randomForest(default ~ ., \n",
    "                          data = credit.train, \n",
    "                          importance=T, proximity=T, ntree=1000)\n",
    "rf.model2$ntree                  # random forest with ntree=1000"
   ]
  },
  {
   "cell_type": "code",
   "execution_count": 69,
   "metadata": {},
   "outputs": [
    {
     "name": "stdout",
     "output_type": "stream",
     "text": [
      "\n",
      " \n",
      "   Cell Contents\n",
      "|-------------------------|\n",
      "|                       N |\n",
      "|         N / Table Total |\n",
      "|-------------------------|\n",
      "\n",
      " \n",
      "Total Observations in Table:  300 \n",
      "\n",
      " \n",
      "               | randomForest Predicted Default \n",
      "Actual Default |        No |       Yes | Row Total | \n",
      "---------------|-----------|-----------|-----------|\n",
      "            No |       197 |        12 |       209 | \n",
      "               |     0.657 |     0.040 |           | \n",
      "---------------|-----------|-----------|-----------|\n",
      "           Yes |        67 |        24 |        91 | \n",
      "               |     0.223 |     0.080 |           | \n",
      "---------------|-----------|-----------|-----------|\n",
      "  Column Total |       264 |        36 |       300 | \n",
      "---------------|-----------|-----------|-----------|\n",
      "\n",
      " \n"
     ]
    },
    {
     "data": {
      "text/html": [
       "0.736666666666667"
      ],
      "text/latex": [
       "0.736666666666667"
      ],
      "text/markdown": [
       "0.736666666666667"
      ],
      "text/plain": [
       "[1] 0.7366667"
      ]
     },
     "metadata": {},
     "output_type": "display_data"
    }
   ],
   "source": [
    "# Lets predict the test data\n",
    "rf.pred2 <- predict(rf.model2, credit.test[-21], type=\"class\")\n",
    "\n",
    "m2 <- CrossTable(credit.test$default, rf.pred2, \n",
    "                 prop.chisq = FALSE, prop.c = FALSE, prop.r = FALSE,\n",
    "                 dnn = c('Actual Default', 'randomForest Predicted Default'))\n",
    "#ACCURACY =\n",
    "m2$prop.tbl[1]+m2$prop.tbl[4]"
   ]
  },
  {
   "cell_type": "code",
   "execution_count": null,
   "metadata": {},
   "outputs": [],
   "source": [
    "# Lets tune the above model using the \"caret\" package\n",
    "#install.packages(\"caret\")\n",
    "#install.packages(\"ddalpha\")\n",
    "library(caret)\n",
    "set.seed(123)\n",
    "\n",
    "fitControl <- trainControl(\n",
    "  ## Repeated 5-fold CV \n",
    "  method = \"repeatedcv\",\n",
    "  number = 5,\n",
    "  ## repeated 10 times\n",
    "  repeats = 10,\n",
    "  verboseIter = TRUE,\n",
    "  returnResamp = \"all\")\n",
    "\n",
    "rf.model3 <- train(default ~ ., data = credit.train, \n",
    "                   method = \"rf\", trControl = fitControl,\n",
    "                   ntree=1000 )\n",
    "rf.model3"
   ]
  },
  {
   "cell_type": "code",
   "execution_count": null,
   "metadata": {},
   "outputs": [],
   "source": [
    "plot(rf.model3)"
   ]
  },
  {
   "cell_type": "code",
   "execution_count": null,
   "metadata": {},
   "outputs": [],
   "source": [
    "rf.pred3 <- predict(rfm, credit.test[-21])\n",
    "\n",
    "m3 <- CrossTable(credit.test$default, rf.pred3, \n",
    "                prop.chisq = FALSE, prop.c = FALSE, prop.r = FALSE,\n",
    "                dnn = c('Actual Default', 'randomForest Predicted Default'))\n",
    "\n",
    "# ACCURACY = TN+TP/(TP+TN+FP+FN)\n",
    "m3$prop.tbl[1]+m3$prop.tbl[4]"
   ]
  },
  {
   "cell_type": "code",
   "execution_count": null,
   "metadata": {},
   "outputs": [],
   "source": [
    "###### TASK(6) using RANDOM FOREST #######\n",
    "\n",
    "credit.na <- credit.train\n",
    "set.seed(123)\n",
    "## artificially drop some data values.\n",
    "for (i in 1:4) credit.na[sample(150, sample(20)), i] <- NA\n",
    "sum(is.na(credit.na))  # 47 values are missing\n",
    "\n",
    "#credit.roughfix <- na.roughfix(credit.na)\n",
    "credit.narf <- randomForest(default ~ ., credit.na, na.action=na.roughfix)\n",
    "credit.narf"
   ]
  },
  {
   "cell_type": "code",
   "execution_count": null,
   "metadata": {},
   "outputs": [],
   "source": [
    "rf.pred4 <- predict(credit.narf, credit.test[-21])\n",
    "\n",
    "m4 <- CrossTable(credit.test$default, rf.pred4, \n",
    "                 prop.chisq = FALSE, prop.c = FALSE, prop.r = FALSE,\n",
    "                 dnn = c('Actual Default', 'randomForest Predicted Default'))\n",
    "\n",
    "# ACCURACY = TN+TP/(TP+TN+FP+FN)\n",
    "m4$prop.tbl[1]+m4$prop.tbl[4]\n",
    "\n",
    "# Even with missing values random forest model performed very well\n",
    "\n",
    "print(paste(\"Accuracy of RF model without missing values =\", m3$prop.tbl[1]+m3$prop.tbl[4] ))\n",
    "print(paste(\"Accuracy of RF model with missing values =\", m4$prop.tbl[1]+m4$prop.tbl[4] ))"
   ]
  },
  {
   "cell_type": "code",
   "execution_count": null,
   "metadata": {},
   "outputs": [],
   "source": [
    "######### TASK(2,3,4) using C5.0 Algorithm ############################################\n",
    "#install.packages(\"C50\")      # install required packages\n",
    "library(C50)                  # load required packages\n",
    "library(gmodels)\n",
    "\n",
    "# ?C5.0Control                # documentation for fine tuning using c5.0 algorithm\n",
    "\n",
    "### training a model on the data using c5.0 algorithm\n",
    "\n",
    "credit.model <- C5.0(credit.train[-21], credit.train$default)\n",
    "\n",
    "### see some basic data about the tree\n",
    "#credit.model\n",
    "summary(credit.model)"
   ]
  },
  {
   "cell_type": "code",
   "execution_count": null,
   "metadata": {},
   "outputs": [],
   "source": [
    "### evaluating model performance\n",
    "credit.pred <- predict(credit.model, credit.test)\n",
    "\n",
    "\n",
    "###confusion matrix\n",
    "m1 <- CrossTable(credit.test$default, credit.pred,\n",
    "           prop.chisq = FALSE, prop.c = FALSE, prop.r = FALSE,\n",
    "           dnn = c('actual default', 'predicted default'))\n",
    "#ACCURACY =\n",
    "m1$prop.tbl[1]+m1$prop.tbl[4]\n",
    "\n",
    "# We have 175 TNs (True Negatives) and 42 TPs (True Positives) out of 300 rows\n",
    "# Accuracy = (183+32)/300 = 0.7233333"
   ]
  },
  {
   "cell_type": "code",
   "execution_count": null,
   "metadata": {},
   "outputs": [],
   "source": [
    "######### TASK(5) using C5.0 Algorithm ############################################\n",
    "# Improving the model by adjusting trails\n",
    "credit.boost10 <- C5.0(credit.train[-21], credit.train$default,\n",
    "                       trials = 10)\n",
    "credit.boost10\n",
    "credit.boost.pred10 <- predict(credit.boost10, credit.test)\n",
    "\n",
    "m2 <- CrossTable(credit.test$default, credit.boost.pred10,\n",
    "           prop.chisq = FALSE, prop.c = FALSE, prop.r = FALSE,\n",
    "           dnn = c('actual default', 'predicted default'))\n",
    "#ACCURACY =\n",
    "m2$prop.tbl[1]+m2$prop.tbl[4]\n",
    "\n",
    "# Lets tune the model using caret package\n",
    "library(caret)\n",
    "set.seed(123)\n",
    "credit.c50 <- train(default ~ ., data = credit.train, method = \"C5.0\")\n",
    "credit.c50\n",
    "\n",
    "\n",
    "pred <- predict(credit.c50, credit.test)\n",
    "\n",
    "m3 <- CrossTable(credit.test$default, pred,\n",
    "                 prop.chisq = FALSE, prop.c = FALSE, prop.r = FALSE,\n",
    "                 dnn = c('actual default', 'predicted default'))\n",
    "#ACCURACY =\n",
    "m3$prop.tbl[1]+m3$prop.tbl[4]"
   ]
  },
  {
   "cell_type": "code",
   "execution_count": null,
   "metadata": {},
   "outputs": [],
   "source": [
    "######### TASK(6) using C5.0 Algorithm ############################################\n",
    "\n",
    "credit.na <- credit.train\n",
    "set.seed(123)\n",
    "## artificially drop some data values.\n",
    "for (i in 1:4) credit.na[sample(150, sample(20)), i] <- NA\n",
    "sum(is.na(credit.na))  # 47 values are missing"
   ]
  },
  {
   "cell_type": "code",
   "execution_count": null,
   "metadata": {},
   "outputs": [],
   "source": [
    "credit.na.c50 <- C5.0(default ~ ., credit.na ) #na.action= include missing values\n",
    "credit.na.c50"
   ]
  },
  {
   "cell_type": "code",
   "execution_count": null,
   "metadata": {},
   "outputs": [],
   "source": [
    "pred4 <- predict(credit.na.c50, credit.test[-21])\n",
    "\n",
    "m4 <- CrossTable(credit.test$default, pred4, \n",
    "                 prop.chisq = FALSE, prop.c = FALSE, prop.r = FALSE,\n",
    "                 dnn = c('Actual Default', 'randomForest Predicted Default'))\n",
    "\n",
    "# ACCURACY = TN+TP/(TP+TN+FP+FN)\n",
    "m4$prop.tbl[1]+m4$prop.tbl[4]\n",
    "# Even with missing values random forest model performed very well\n",
    "\n",
    "print(paste(\"Accuracy of C5.0 model without missing values =\", m3$prop.tbl[1]+m3$prop.tbl[4] ))\n",
    "print(paste(\"Accuracy of C5.0 model with missing values =\", m4$prop.tbl[1]+m4$prop.tbl[4] ))"
   ]
  },
  {
   "cell_type": "code",
   "execution_count": null,
   "metadata": {},
   "outputs": [],
   "source": [
    "################# Comparing the models built above ######################\n",
    "library(kernlab)\n",
    "library(ROCR)\n",
    "\n",
    "test1 <-predict(credit.c50,type='prob',credit.test)\n",
    "c50.pred <-prediction(test1[,2], credit.test$default)\n",
    "perf1 <- performance(c50.pred,\"tpr\",\"fpr\")\n",
    "\n",
    "test2 <-predict(credit.na.c50, type='prob',credit.test)\n",
    "c50.pred.na <-prediction(test2[,2], credit.test$default)\n",
    "perf2 <- performance(c50.pred.na,\"tpr\",\"fpr\")\n",
    "\n",
    "plot(perf1,col=\"green\", main=\"C5.0 model\") # without missing values\n",
    "plot(perf2, col=\"red\", add=T)              # with missing values"
   ]
  },
  {
   "cell_type": "code",
   "execution_count": null,
   "metadata": {},
   "outputs": [],
   "source": [
    "#ROC for C50\n",
    "AUC1 <- performance(c50.pred, measure = \"auc\")@y.values[[1]]\n",
    "AUC1 # AUC for c50 model with no missing values\n",
    "AUC2 <- performance(c50.pred.na, measure = \"auc\")@y.values[[1]]\n",
    "AUC2 # AUC for c50 model with missing values"
   ]
  },
  {
   "cell_type": "code",
   "execution_count": null,
   "metadata": {},
   "outputs": [],
   "source": [
    "test3 <-predict(rf.model3,type='prob',credit.test)\n",
    "rf.pred <-prediction(test3[,2], credit.test$default)\n",
    "perf3 <- performance(rf.pred,\"tpr\",\"fpr\")\n",
    "\n",
    "test4 <-predict(credit.narf, type='prob',credit.test)\n",
    "rf.pred.na <-prediction(test4[,2], credit.test$default)\n",
    "perf4 <- performance(rf.pred.na,\"tpr\",\"fpr\")\n",
    "\n",
    "plot(perf3,col=\"green\", main=\"rf model\") # without missing values\n",
    "plot(perf4, col=\"red\", add=T)            # with missing values"
   ]
  },
  {
   "cell_type": "code",
   "execution_count": null,
   "metadata": {},
   "outputs": [],
   "source": [
    "# ROC for Random Forest\n",
    "AUC3 <- performance(rf.pred, measure = \"auc\")@y.values[[1]]\n",
    "AUC3 # AUC for c50 model with no missing values\n",
    "AUC4 <- performance(rf.pred.na, measure = \"auc\")@y.values[[1]]\n",
    "AUC4 # AUC for c50 model with missing values"
   ]
  }
 ],
 "metadata": {
  "kernelspec": {
   "display_name": "R",
   "language": "R",
   "name": "ir"
  },
  "language_info": {
   "codemirror_mode": "r",
   "file_extension": ".r",
   "mimetype": "text/x-r-source",
   "name": "R",
   "pygments_lexer": "r",
   "version": "3.4.3"
  }
 },
 "nbformat": 4,
 "nbformat_minor": 2
}
